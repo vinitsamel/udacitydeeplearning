{
 "cells": [
  {
   "cell_type": "markdown",
   "metadata": {
    "collapsed": true
   },
   "source": [
    "# Image Classification\n",
    "In this project, you'll classify images from the [CIFAR-10 dataset](https://www.cs.toronto.edu/~kriz/cifar.html).  The dataset consists of airplanes, dogs, cats, and other objects. You'll preprocess the images, then train a convolutional neural network on all the samples. The images need to be normalized and the labels need to be one-hot encoded.  You'll get to apply what you learned and build a convolutional, max pooling, dropout, and fully connected layers.  At the end, you'll get to see your neural network's predictions on the sample images.\n",
    "## Get the Data\n",
    "Run the following cell to download the [CIFAR-10 dataset for python](https://www.cs.toronto.edu/~kriz/cifar-10-python.tar.gz)."
   ]
  },
  {
   "cell_type": "code",
   "execution_count": 1,
   "metadata": {},
   "outputs": [
    {
     "name": "stdout",
     "output_type": "stream",
     "text": [
      "All files found!\n"
     ]
    }
   ],
   "source": [
    "\"\"\"\n",
    "DON'T MODIFY ANYTHING IN THIS CELL THAT IS BELOW THIS LINE\n",
    "\"\"\"\n",
    "from urllib.request import urlretrieve\n",
    "from os.path import isfile, isdir\n",
    "from tqdm import tqdm\n",
    "import problem_unittests as tests\n",
    "import tarfile\n",
    "\n",
    "cifar10_dataset_folder_path = 'cifar-10-batches-py'\n",
    "\n",
    "# Use Floyd's cifar-10 dataset if present\n",
    "floyd_cifar10_location = '/input/cifar-10/python.tar.gz'\n",
    "if isfile(floyd_cifar10_location):\n",
    "    tar_gz_path = floyd_cifar10_location\n",
    "else:\n",
    "    tar_gz_path = 'cifar-10-python.tar.gz'\n",
    "\n",
    "class DLProgress(tqdm):\n",
    "    last_block = 0\n",
    "\n",
    "    def hook(self, block_num=1, block_size=1, total_size=None):\n",
    "        self.total = total_size\n",
    "        self.update((block_num - self.last_block) * block_size)\n",
    "        self.last_block = block_num\n",
    "\n",
    "if not isfile(tar_gz_path):\n",
    "    with DLProgress(unit='B', unit_scale=True, miniters=1, desc='CIFAR-10 Dataset') as pbar:\n",
    "        urlretrieve(\n",
    "            'https://www.cs.toronto.edu/~kriz/cifar-10-python.tar.gz',\n",
    "            tar_gz_path,\n",
    "            pbar.hook)\n",
    "\n",
    "if not isdir(cifar10_dataset_folder_path):\n",
    "    with tarfile.open(tar_gz_path) as tar:\n",
    "        tar.extractall()\n",
    "        tar.close()\n",
    "\n",
    "\n",
    "tests.test_folder_path(cifar10_dataset_folder_path)"
   ]
  },
  {
   "cell_type": "markdown",
   "metadata": {},
   "source": [
    "## Explore the Data\n",
    "The dataset is broken into batches to prevent your machine from running out of memory.  The CIFAR-10 dataset consists of 5 batches, named `data_batch_1`, `data_batch_2`, etc.. Each batch contains the labels and images that are one of the following:\n",
    "* airplane\n",
    "* automobile\n",
    "* bird\n",
    "* cat\n",
    "* deer\n",
    "* dog\n",
    "* frog\n",
    "* horse\n",
    "* ship\n",
    "* truck\n",
    "\n",
    "Understanding a dataset is part of making predictions on the data.  Play around with the code cell below by changing the `batch_id` and `sample_id`. The `batch_id` is the id for a batch (1-5). The `sample_id` is the id for a image and label pair in the batch.\n",
    "\n",
    "Ask yourself \"What are all possible labels?\", \"What is the range of values for the image data?\", \"Are the labels in order or random?\".  Answers to questions like these will help you preprocess the data and end up with better predictions."
   ]
  },
  {
   "cell_type": "code",
   "execution_count": 2,
   "metadata": {},
   "outputs": [
    {
     "name": "stdout",
     "output_type": "stream",
     "text": [
      "\n",
      "Stats of batch 1:\n",
      "Samples: 10000\n",
      "Label Counts: {0: 1005, 1: 974, 2: 1032, 3: 1016, 4: 999, 5: 937, 6: 1030, 7: 1001, 8: 1025, 9: 981}\n",
      "First 20 Labels: [6, 9, 9, 4, 1, 1, 2, 7, 8, 3, 4, 7, 7, 2, 9, 9, 9, 3, 2, 6]\n",
      "\n",
      "Example of Image 1:\n",
      "Image - Min Value: 5 Max Value: 254\n",
      "Image - Shape: (32, 32, 3)\n",
      "Label - Label Id: 9 Name: truck\n"
     ]
    },
    {
     "data": {
      "image/png": "[encoded data removed]",
      "text/plain": [
       "<matplotlib.figure.Figure at 0x118241eb8>"
      ]
     },
     "metadata": {
      "image/png": {
       "height": 250,
       "width": 253
      }
     },
     "output_type": "display_data"
    }
   ],
   "source": [
    "%matplotlib inline\n",
    "%config InlineBackend.figure_format = 'retina'\n",
    "\n",
    "import helper\n",
    "import numpy as np\n",
    "\n",
    "# Explore the dataset\n",
    "batch_id = 1\n",
    "sample_id = 1\n",
    "helper.display_stats(cifar10_dataset_folder_path, batch_id, sample_id)"
   ]
  },
  {
   "cell_type": "markdown",
   "metadata": {},
   "source": [
    "## Implement Preprocess Functions\n",
    "### Normalize\n",
    "In the cell below, implement the `normalize` function to take in image data, `x`, and return it as a normalized Numpy array. The values should be in the range of 0 to 1, inclusive.  The return object should be the same shape as `x`."
   ]
  },
  {
   "cell_type": "code",
   "execution_count": 3,
   "metadata": {},
   "outputs": [
    {
     "name": "stdout",
     "output_type": "stream",
     "text": [
      "Tests Passed\n"
     ]
    }
   ],
   "source": [
    "def normalize(x):\n",
    "    \"\"\"\n",
    "    Normalize a list of sample image data in the range of 0 to 1\n",
    "    : x: List of image data.  The image shape is (32, 32, 3)\n",
    "    : return: Numpy array of normalize data\n",
    "    \"\"\"\n",
    "    # TODO: Implement Function\n",
    "    # Reference : Intro to Tensor Flow -  Min-Max scaling for grayscale image data\n",
    "    a = 0\n",
    "    b = 1\n",
    "    grayscale_min = 0\n",
    "    grayscale_max = 255\n",
    "    return a + ( ( (x - grayscale_min)*(b - a) )/( grayscale_max - grayscale_min ) )\n",
    "\n",
    "\"\"\"\n",
    "DON'T MODIFY ANYTHING IN THIS CELL THAT IS BELOW THIS LINE\n",
    "\"\"\"\n",
    "tests.test_normalize(normalize)"
   ]
  },
  {
   "cell_type": "markdown",
   "metadata": {},
   "source": [
    "### One-hot encode\n",
    "Just like the previous code cell, you'll be implementing a function for preprocessing.  This time, you'll implement the `one_hot_encode` function. The input, `x`, are a list of labels.  Implement the function to return the list of labels as One-Hot encoded Numpy array.  The possible values for labels are 0 to 9. The one-hot encoding function should return the same encoding for each value between each call to `one_hot_encode`.  Make sure to save the map of encodings outside the function.\n",
    "\n",
    "Hint: Don't reinvent the wheel."
   ]
  },
  {
   "cell_type": "code",
   "execution_count": 4,
   "metadata": {},
   "outputs": [
    {
     "name": "stdout",
     "output_type": "stream",
     "text": [
      "Tests Passed\n"
     ]
    }
   ],
   "source": [
    "from sklearn import preprocessing\n",
    "def one_hot_encode(x):\n",
    "    \"\"\"\n",
    "    One hot encode a list of sample labels. Return a one-hot encoded vector for each label.\n",
    "    : x: List of sample Labels\n",
    "    : return: Numpy array of one-hot encoded labels\n",
    "    \"\"\"\n",
    "    # TODO: Implement Function\n",
    "    # Reference: Intro to tensor flow - One Hot Encoding\n",
    "    # print (x)\n",
    "    # Create the encoder\n",
    "    lb = preprocessing.LabelBinarizer()\n",
    "    # Here the encoder finds the classes and assigns one-hot vectors \n",
    "    lb.fit([0,1,2,3,4,5,6,7,8,9])\n",
    "    # And finally, transform the labels into one-hot encoded vectors\n",
    "    return lb.transform(x)\n",
    "\n",
    "\"\"\"\n",
    "DON'T MODIFY ANYTHING IN THIS CELL THAT IS BELOW THIS LINE\n",
    "\"\"\"\n",
    "tests.test_one_hot_encode(one_hot_encode)"
   ]
  },
  {
   "cell_type": "markdown",
   "metadata": {},
   "source": [
    "### Randomize Data\n",
    "As you saw from exploring the data above, the order of the samples are randomized.  It doesn't hurt to randomize it again, but you don't need to for this dataset."
   ]
  },
  {
   "cell_type": "markdown",
   "metadata": {},
   "source": [
    "## Preprocess all the data and save it\n",
    "Running the code cell below will preprocess all the CIFAR-10 data and save it to file. The code below also uses 10% of the training data for validation."
   ]
  },
  {
   "cell_type": "code",
   "execution_count": 5,
   "metadata": {
    "collapsed": true
   },
   "outputs": [],
   "source": [
    "\"\"\"\n",
    "DON'T MODIFY ANYTHING IN THIS CELL\n",
    "\"\"\"\n",
    "# Preprocess Training, Validation, and Testing Data\n",
    "helper.preprocess_and_save_data(cifar10_dataset_folder_path, normalize, one_hot_encode)"
   ]
  },
  {
   "cell_type": "markdown",
   "metadata": {},
   "source": [
    "# Check Point\n",
    "This is your first checkpoint.  If you ever decide to come back to this notebook or have to restart the notebook, you can start from here.  The preprocessed data has been saved to disk."
   ]
  },
  {
   "cell_type": "code",
   "execution_count": 6,
   "metadata": {
    "collapsed": true
   },
   "outputs": [],
   "source": [
    "\"\"\"\n",
    "DON'T MODIFY ANYTHING IN THIS CELL\n",
    "\"\"\"\n",
    "import pickle\n",
    "import problem_unittests as tests\n",
    "import helper\n",
    "\n",
    "# Load the Preprocessed Validation data\n",
    "valid_features, valid_labels = pickle.load(open('preprocess_validation.p', mode='rb'))"
   ]
  },
  {
   "cell_type": "markdown",
   "metadata": {},
   "source": [
    "## Build the network\n",
    "For the neural network, you'll build each layer into a function.  Most of the code you've seen has been outside of functions. To test your code more thoroughly, we require that you put each layer in a function.  This allows us to give you better feedback and test for simple mistakes using our unittests before you submit your project.\n",
    "\n",
    ">**Note:** If you're finding it hard to dedicate enough time for this course each week, we've provided a small shortcut to this part of the project. In the next couple of problems, you'll have the option to use classes from the [TensorFlow Layers](https://www.tensorflow.org/api_docs/python/tf/layers) or [TensorFlow Layers (contrib)](https://www.tensorflow.org/api_guides/python/contrib.layers) packages to build each layer, except the layers you build in the \"Convolutional and Max Pooling Layer\" section.  TF Layers is similar to Keras's and TFLearn's abstraction to layers, so it's easy to pickup.\n",
    "\n",
    ">However, if you would like to get the most out of this course, try to solve all the problems _without_ using anything from the TF Layers packages. You **can** still use classes from other packages that happen to have the same name as ones you find in TF Layers! For example, instead of using the TF Layers version of the `conv2d` class, [tf.layers.conv2d](https://www.tensorflow.org/api_docs/python/tf/layers/conv2d), you would want to use the TF Neural Network version of `conv2d`, [tf.nn.conv2d](https://www.tensorflow.org/api_docs/python/tf/nn/conv2d). \n",
    "\n",
    "Let's begin!\n",
    "\n",
    "### Input\n",
    "The neural network needs to read the image data, one-hot encoded labels, and dropout keep probability. Implement the following functions\n",
    "* Implement `neural_net_image_input`\n",
    " * Return a [TF Placeholder](https://www.tensorflow.org/api_docs/python/tf/placeholder)\n",
    " * Set the shape using `image_shape` with batch size set to `None`.\n",
    " * Name the TensorFlow placeholder \"x\" using the TensorFlow `name` parameter in the [TF Placeholder](https://www.tensorflow.org/api_docs/python/tf/placeholder).\n",
    "* Implement `neural_net_label_input`\n",
    " * Return a [TF Placeholder](https://www.tensorflow.org/api_docs/python/tf/placeholder)\n",
    " * Set the shape using `n_classes` with batch size set to `None`.\n",
    " * Name the TensorFlow placeholder \"y\" using the TensorFlow `name` parameter in the [TF Placeholder](https://www.tensorflow.org/api_docs/python/tf/placeholder).\n",
    "* Implement `neural_net_keep_prob_input`\n",
    " * Return a [TF Placeholder](https://www.tensorflow.org/api_docs/python/tf/placeholder) for dropout keep probability.\n",
    " * Name the TensorFlow placeholder \"keep_prob\" using the TensorFlow `name` parameter in the [TF Placeholder](https://www.tensorflow.org/api_docs/python/tf/placeholder).\n",
    "\n",
    "These names will be used at the end of the project to load your saved model.\n",
    "\n",
    "Note: `None` for shapes in TensorFlow allow for a dynamic size."
   ]
  },
  {
   "cell_type": "code",
   "execution_count": 7,
   "metadata": {},
   "outputs": [
    {
     "name": "stdout",
     "output_type": "stream",
     "text": [
      "Image Input Tests Passed.\n",
      "Label Input Tests Passed.\n",
      "Keep Prob Tests Passed.\n"
     ]
    }
   ],
   "source": [
    "import tensorflow as tf\n",
    "\n",
    "def neural_net_image_input(image_shape):\n",
    "    \"\"\"\n",
    "    Return a Tensor for a batch of image input\n",
    "    : image_shape: Shape of the images\n",
    "    : return: Tensor for image input.\n",
    "    \"\"\"\n",
    "    # TODO: Implement Function\n",
    "    return  tf.placeholder(tf.float32, [None, image_shape[0],image_shape[1],image_shape[2]] , name='x')\n",
    "\n",
    "\n",
    "def neural_net_label_input(n_classes):\n",
    "    \"\"\"\n",
    "    Return a Tensor for a batch of label input\n",
    "    : n_classes: Number of classes\n",
    "    : return: Tensor for label input.\n",
    "    \"\"\"\n",
    "    # TODO: Implement Function\n",
    "    return  tf.placeholder(tf.float32, [None, n_classes], name='y')\n",
    "\n",
    "\n",
    "def neural_net_keep_prob_input():\n",
    "    \"\"\"\n",
    "    Return a Tensor for keep probability\n",
    "    : return: Tensor for keep probability.\n",
    "    \"\"\"\n",
    "    # TODO: Implement Function\n",
    "    return tf.placeholder(tf.float32, name='keep_prob')\n",
    "\n",
    "\n",
    "\"\"\"\n",
    "DON'T MODIFY ANYTHING IN THIS CELL THAT IS BELOW THIS LINE\n",
    "\"\"\"\n",
    "tf.reset_default_graph()\n",
    "tests.test_nn_image_inputs(neural_net_image_input)\n",
    "tests.test_nn_label_inputs(neural_net_label_input)\n",
    "tests.test_nn_keep_prob_inputs(neural_net_keep_prob_input)"
   ]
  },
  {
   "cell_type": "markdown",
   "metadata": {},
   "source": [
    "### Convolution and Max Pooling Layer\n",
    "Convolution layers have a lot of success with images. For this code cell, you should implement the function `conv2d_maxpool` to apply convolution then max pooling:\n",
    "* Create the weight and bias using `conv_ksize`, `conv_num_outputs` and the shape of `x_tensor`.\n",
    "* Apply a convolution to `x_tensor` using weight and `conv_strides`.\n",
    " * We recommend you use same padding, but you're welcome to use any padding.\n",
    "* Add bias\n",
    "* Add a nonlinear activation to the convolution.\n",
    "* Apply Max Pooling using `pool_ksize` and `pool_strides`.\n",
    " * We recommend you use same padding, but you're welcome to use any padding.\n",
    "\n",
    "**Note:** You **can't** use [TensorFlow Layers](https://www.tensorflow.org/api_docs/python/tf/layers) or [TensorFlow Layers (contrib)](https://www.tensorflow.org/api_guides/python/contrib.layers) for **this** layer, but you can still use TensorFlow's [Neural Network](https://www.tensorflow.org/api_docs/python/tf/nn) package. You may still use the shortcut option for all the **other** layers."
   ]
  },
  {
   "cell_type": "code",
   "execution_count": 8,
   "metadata": {},
   "outputs": [
    {
     "name": "stdout",
     "output_type": "stream",
     "text": [
      "ConvMax In (?, 32, 32, 5)\n",
      "ConvMax Out (?, 4, 4, 10)\n",
      "Tests Passed\n"
     ]
    }
   ],
   "source": [
    "def conv2d_maxpool(x_tensor, conv_num_outputs, conv_ksize, conv_strides, pool_ksize, pool_strides):\n",
    "    \"\"\"\n",
    "    Apply convolution then max pooling to x_tensor\n",
    "    :param x_tensor: TensorFlow Tensor\n",
    "    :param conv_num_outputs: Number of outputs for the convolutional layer\n",
    "    :param conv_ksize: kernal size 2-D Tuple for the convolutional layer\n",
    "    :param conv_strides: Stride 2-D Tuple for convolution\n",
    "    :param pool_ksize: kernal size 2-D Tuple for pool\n",
    "    :param pool_strides: Stride 2-D Tuple for pool\n",
    "    : return: A tensor that represents convolution and max pooling of x_tensor\n",
    "    \"\"\"\n",
    "    # TODO: Implement Function\n",
    "    print (\"ConvMax In\", x_tensor.get_shape())\n",
    "    x_depth = x_tensor.get_shape().as_list()[-1]\n",
    "    weight= tf.Variable(tf.truncated_normal([conv_ksize[0], conv_ksize[1], x_depth, conv_num_outputs],stddev=0.1))\n",
    "    bias = tf.Variable(tf.random_normal([conv_num_outputs]))\n",
    "    conv = tf.nn.conv2d(x_tensor, weight, [1, conv_strides[0], conv_strides[1], 1], 'SAME')\n",
    "    conv = tf.nn.bias_add(conv, bias)\n",
    "    conv = tf.nn.relu(conv)\n",
    "    conv = tf.nn.max_pool(conv,[1, pool_ksize[0], pool_ksize[1], 1],[1, pool_strides[0], pool_strides[1], 1],'SAME')\n",
    "    print (\"ConvMax Out\", conv.get_shape())\n",
    "    return conv \n",
    "\n",
    "\n",
    "\"\"\"\n",
    "DON'T MODIFY ANYTHING IN THIS CELL THAT IS BELOW THIS LINE\n",
    "\"\"\"\n",
    "tests.test_con_pool(conv2d_maxpool)"
   ]
  },
  {
   "cell_type": "markdown",
   "metadata": {},
   "source": [
    "### Flatten Layer\n",
    "Implement the `flatten` function to change the dimension of `x_tensor` from a 4-D tensor to a 2-D tensor.  The output should be the shape (*Batch Size*, *Flattened Image Size*). Shortcut option: you can use classes from the [TensorFlow Layers](https://www.tensorflow.org/api_docs/python/tf/layers) or [TensorFlow Layers (contrib)](https://www.tensorflow.org/api_guides/python/contrib.layers) packages for this layer. For more of a challenge, only use other TensorFlow packages."
   ]
  },
  {
   "cell_type": "code",
   "execution_count": 9,
   "metadata": {},
   "outputs": [
    {
     "name": "stdout",
     "output_type": "stream",
     "text": [
      "Flatten In [None, 10, 30, 6]\n",
      "Flatten Out (?, 1800)\n",
      "Tests Passed\n"
     ]
    }
   ],
   "source": [
    "def flatten(x_tensor):\n",
    "    \"\"\"\n",
    "    Flatten x_tensor to (Batch Size, Flattened Image Size)\n",
    "    : x_tensor: A tensor of size (Batch Size, ...), where ... are the image dimensions.\n",
    "    : return: A tensor of size (Batch Size, Flattened Image Size).\n",
    "    \"\"\"\n",
    "    # TODO: Implement Function\n",
    "    x_shape = x_tensor.get_shape().as_list()\n",
    "    print (\"Flatten In\", x_shape)\n",
    "    batch_size = x_shape[0] if x_shape[0] != None else -1\n",
    "    flattened_image_size = 1\n",
    "    for i in range(1, len(x_shape)):\n",
    "        flattened_image_size = flattened_image_size * x_shape[i]\n",
    "    ret = tf.reshape(x_tensor, (batch_size, flattened_image_size))\n",
    "    print (\"Flatten Out\", ret.get_shape())\n",
    "    return ret\n",
    "\n",
    "\"\"\"\n",
    "DON'T MODIFY ANYTHING IN THIS CELL THAT IS BELOW THIS LINE\n",
    "\"\"\"\n",
    "tests.test_flatten(flatten)"
   ]
  },
  {
   "cell_type": "markdown",
   "metadata": {},
   "source": [
    "### Fully-Connected Layer\n",
    "Implement the `fully_conn` function to apply a fully connected layer to `x_tensor` with the shape (*Batch Size*, *num_outputs*). Shortcut option: you can use classes from the [TensorFlow Layers](https://www.tensorflow.org/api_docs/python/tf/layers) or [TensorFlow Layers (contrib)](https://www.tensorflow.org/api_guides/python/contrib.layers) packages for this layer. For more of a challenge, only use other TensorFlow packages."
   ]
  },
  {
   "cell_type": "code",
   "execution_count": 10,
   "metadata": {},
   "outputs": [
    {
     "name": "stdout",
     "output_type": "stream",
     "text": [
      "FullyConn In [None, 128]\n",
      "FullyConn Out (?, 40)\n",
      "Tests Passed\n"
     ]
    }
   ],
   "source": [
    "def fully_conn(x_tensor, num_outputs):\n",
    "    \"\"\"\n",
    "    Apply a fully connected layer to x_tensor using weight and bias\n",
    "    : x_tensor: A 2-D tensor where the first dimension is batch size.\n",
    "    : num_outputs: The number of output that the new tensor should be.\n",
    "    : return: A 2-D tensor where the second dimension is num_outputs.\n",
    "    \"\"\"\n",
    "    # TODO: Implement Function\n",
    "    x_shape = x_tensor.get_shape().as_list()\n",
    "    print (\"FullyConn In\", x_shape)\n",
    "    weights = tf.Variable(tf.truncated_normal([x_shape[-1], num_outputs], stddev = 0.1))\n",
    "    bias    = tf.Variable(tf.random_normal([num_outputs]))\n",
    "    ret_tf  = tf.add(tf.matmul(x_tensor, weights), bias)\n",
    "    ret_tf  = tf.nn.relu(ret_tf)\n",
    "    print (\"FullyConn Out\", ret_tf.get_shape())\n",
    "    return ret_tf\n",
    "\n",
    "\n",
    "\"\"\"\n",
    "DON'T MODIFY ANYTHING IN THIS CELL THAT IS BELOW THIS LINE\n",
    "\"\"\"\n",
    "tests.test_fully_conn(fully_conn)"
   ]
  },
  {
   "cell_type": "markdown",
   "metadata": {},
   "source": [
    "### Output Layer\n",
    "Implement the `output` function to apply a fully connected layer to `x_tensor` with the shape (*Batch Size*, *num_outputs*). Shortcut option: you can use classes from the [TensorFlow Layers](https://www.tensorflow.org/api_docs/python/tf/layers) or [TensorFlow Layers (contrib)](https://www.tensorflow.org/api_guides/python/contrib.layers) packages for this layer. For more of a challenge, only use other TensorFlow packages.\n",
    "\n",
    "**Note:** Activation, softmax, or cross entropy should **not** be applied to this."
   ]
  },
  {
   "cell_type": "code",
   "execution_count": 11,
   "metadata": {},
   "outputs": [
    {
     "name": "stdout",
     "output_type": "stream",
     "text": [
      "Output In [None, 128]\n",
      "Output Out (?, 40)\n",
      "Tests Passed\n"
     ]
    }
   ],
   "source": [
    "def output(x_tensor, num_outputs):\n",
    "    \"\"\"\n",
    "    Apply a output layer to x_tensor using weight and bias\n",
    "    : x_tensor: A 2-D tensor where the first dimension is batch size.\n",
    "    : num_outputs: The number of output that the new tensor should be.\n",
    "    : return: A 2-D tensor where the second dimension is num_outputs.\n",
    "    \"\"\"\n",
    "    # TODO: Implement Function\n",
    "    x_shape = x_tensor.get_shape().as_list()\n",
    "    print (\"Output In\", x_shape)\n",
    "    weights = tf.Variable(tf.truncated_normal([x_shape[-1], num_outputs], stddev = 0.1))\n",
    "    bias    = tf.Variable(tf.random_normal([num_outputs]))\n",
    "    ret_tf  = tf.add(tf.matmul(x_tensor, weights), bias)\n",
    "    #ret_tf  = tf.nn.relu(ret_tf)\n",
    "    print (\"Output Out\", ret_tf.get_shape())\n",
    "    return ret_tf\n",
    "\n",
    "\n",
    "\"\"\"\n",
    "DON'T MODIFY ANYTHING IN THIS CELL THAT IS BELOW THIS LINE\n",
    "\"\"\"\n",
    "tests.test_output(output)"
   ]
  },
  {
   "cell_type": "markdown",
   "metadata": {},
   "source": [
    "### Create Convolutional Model\n",
    "Implement the function `conv_net` to create a convolutional neural network model. The function takes in a batch of images, `x`, and outputs logits.  Use the layers you created above to create this model:\n",
    "\n",
    "* Apply 1, 2, or 3 Convolution and Max Pool layers\n",
    "* Apply a Flatten Layer\n",
    "* Apply 1, 2, or 3 Fully Connected Layers\n",
    "* Apply an Output Layer\n",
    "* Return the output\n",
    "* Apply [TensorFlow's Dropout](https://www.tensorflow.org/api_docs/python/tf/nn/dropout) to one or more layers in the model using `keep_prob`. "
   ]
  },
  {
   "cell_type": "code",
   "execution_count": 12,
   "metadata": {},
   "outputs": [
    {
     "name": "stdout",
     "output_type": "stream",
     "text": [
      "ConvMax In (?, 32, 32, 3)\n",
      "ConvMax Out (?, 16, 16, 64)\n",
      "Flatten In [None, 16, 16, 64]\n",
      "Flatten Out (?, 16384)\n",
      "FullyConn In [None, 16384]\n",
      "FullyConn Out (?, 600)\n",
      "FullyConn In [None, 600]\n",
      "FullyConn Out (?, 80)\n",
      "Output In [None, 80]\n",
      "Output Out (?, 10)\n",
      "ConvMax In (?, 32, 32, 3)\n",
      "ConvMax Out (?, 16, 16, 64)\n",
      "Flatten In [None, 16, 16, 64]\n",
      "Flatten Out (?, 16384)\n",
      "FullyConn In [None, 16384]\n",
      "FullyConn Out (?, 600)\n",
      "FullyConn In [None, 600]\n",
      "FullyConn Out (?, 80)\n",
      "Output In [None, 80]\n",
      "Output Out (?, 10)\n",
      "Neural Network Built!\n"
     ]
    }
   ],
   "source": [
    "def conv_net(x, keep_prob):\n",
    "    \"\"\"\n",
    "    Create a convolutional neural network model\n",
    "    : x: Placeholder tensor that holds image data.\n",
    "    : keep_prob: Placeholder tensor that hold dropout keep probability.\n",
    "    : return: Tensor that represents logits\n",
    "    \"\"\"\n",
    "    # TODO: Apply 1, 2, or 3 Convolution and Max Pool layers\n",
    "    #    Play around with different number of outputs, kernel size and stride\n",
    "    # Function Definition from Above:\n",
    "    #    conv2d_maxpool(x_tensor, conv_num_outputs, conv_ksize, conv_strides, pool_ksize, pool_strides)\n",
    "    convmax = conv2d_maxpool(x, 64, (8,8), (2,2), (4,4), (1,1))\n",
    "\n",
    "    # TODO: Apply a Flatten Layer\n",
    "    # Function Definition from Above:\n",
    "    #   flatten(x_tensor)\n",
    "    flat = flatten(convmax)\n",
    "    \n",
    "    # TODO: Apply 1, 2, or 3 Fully Connected Layers\n",
    "    #    Play around with different number of outputs\n",
    "    # Function Definition from Above:\n",
    "    #   fully_conn(x_tensor, num_outputs)\n",
    "    fullyconn = fully_conn(flat, 600)\n",
    "    drop = tf.nn.dropout(fullyconn, keep_prob)\n",
    "    fullyconn = fully_conn(drop, 80)\n",
    "    drop = tf.nn.dropout(fullyconn, keep_prob)\n",
    "    \n",
    "    # TODO: Apply an Output Layer\n",
    "    #    Set this to the number of classes\n",
    "    # Function Definition from Above:\n",
    "    #   output(x_tensor, num_outputs)\n",
    "    return output(drop, 10)\n",
    "    \n",
    "    \n",
    "    # TODO: return output\n",
    "    return None\n",
    "\n",
    "\n",
    "\"\"\"\n",
    "DON'T MODIFY ANYTHING IN THIS CELL THAT IS BELOW THIS LINE\n",
    "\"\"\"\n",
    "\n",
    "##############################\n",
    "## Build the Neural Network ##\n",
    "##############################\n",
    "\n",
    "# Remove previous weights, bias, inputs, etc..\n",
    "tf.reset_default_graph()\n",
    "\n",
    "# Inputs\n",
    "x = neural_net_image_input((32, 32, 3))\n",
    "y = neural_net_label_input(10)\n",
    "keep_prob = neural_net_keep_prob_input()\n",
    "\n",
    "# Model\n",
    "logits = conv_net(x, keep_prob)\n",
    "\n",
    "# Name logits Tensor, so that is can be loaded from disk after training\n",
    "logits = tf.identity(logits, name='logits')\n",
    "\n",
    "# Loss and Optimizer\n",
    "cost = tf.reduce_mean(tf.nn.softmax_cross_entropy_with_logits(logits=logits, labels=y))\n",
    "optimizer = tf.train.AdamOptimizer().minimize(cost)\n",
    "\n",
    "# Accuracy\n",
    "correct_pred = tf.equal(tf.argmax(logits, 1), tf.argmax(y, 1))\n",
    "accuracy = tf.reduce_mean(tf.cast(correct_pred, tf.float32), name='accuracy')\n",
    "\n",
    "tests.test_conv_net(conv_net)"
   ]
  },
  {
   "cell_type": "markdown",
   "metadata": {},
   "source": [
    "## Train the Neural Network\n",
    "### Single Optimization\n",
    "Implement the function `train_neural_network` to do a single optimization.  The optimization should use `optimizer` to optimize in `session` with a `feed_dict` of the following:\n",
    "* `x` for image input\n",
    "* `y` for labels\n",
    "* `keep_prob` for keep probability for dropout\n",
    "\n",
    "This function will be called for each batch, so `tf.global_variables_initializer()` has already been called.\n",
    "\n",
    "Note: Nothing needs to be returned. This function is only optimizing the neural network."
   ]
  },
  {
   "cell_type": "code",
   "execution_count": 13,
   "metadata": {},
   "outputs": [
    {
     "name": "stdout",
     "output_type": "stream",
     "text": [
      "Tests Passed\n"
     ]
    }
   ],
   "source": [
    "def train_neural_network(session, optimizer, keep_probability, feature_batch, label_batch):\n",
    "    \"\"\"\n",
    "    Optimize the session on a batch of images and labels\n",
    "    : session: Current TensorFlow session\n",
    "    : optimizer: TensorFlow optimizer function\n",
    "    : keep_probability: keep probability\n",
    "    : feature_batch: Batch of Numpy image data\n",
    "    : label_batch: Batch of Numpy label data\n",
    "    \"\"\"\n",
    "    # TODO: Implement Function\n",
    "    session.run(optimizer, feed_dict={x: feature_batch, y: label_batch, keep_prob: keep_probability})\n",
    "\n",
    "\n",
    "\"\"\"\n",
    "DON'T MODIFY ANYTHING IN THIS CELL THAT IS BELOW THIS LINE\n",
    "\"\"\"\n",
    "tests.test_train_nn(train_neural_network)"
   ]
  },
  {
   "cell_type": "markdown",
   "metadata": {},
   "source": [
    "### Show Stats\n",
    "Implement the function `print_stats` to print loss and validation accuracy.  Use the global variables `valid_features` and `valid_labels` to calculate validation accuracy.  Use a keep probability of `1.0` to calculate the loss and validation accuracy."
   ]
  },
  {
   "cell_type": "code",
   "execution_count": 14,
   "metadata": {
    "collapsed": true
   },
   "outputs": [],
   "source": [
    "def print_stats(session, feature_batch, label_batch, cost, accuracy):\n",
    "    \"\"\"\n",
    "    Print information about loss and validation accuracy\n",
    "    : session: Current TensorFlow session\n",
    "    : feature_batch: Batch of Numpy image data\n",
    "    : label_batch: Batch of Numpy label data\n",
    "    : cost: TensorFlow cost function\n",
    "    : accuracy: TensorFlow accuracy function\n",
    "    \"\"\"\n",
    "    # TODO: Implement Function\n",
    "    loss = session.run(cost, feed_dict={x: feature_batch, y: label_batch, keep_prob: 1.0})\n",
    "    valid_accuracy = session.run(accuracy, feed_dict={x: valid_features, y: valid_labels, keep_prob: 1.0})\n",
    "    print('Loss = {0} and Validation Accuracy = {1}'.format(loss, valid_accuracy))"
   ]
  },
  {
   "cell_type": "markdown",
   "metadata": {},
   "source": [
    "### Hyperparameters\n",
    "Tune the following parameters:\n",
    "* Set `epochs` to the number of iterations until the network stops learning or start overfitting\n",
    "* Set `batch_size` to the highest number that your machine has memory for.  Most people set them to common sizes of memory:\n",
    " * 64\n",
    " * 128\n",
    " * 256\n",
    " * ...\n",
    "* Set `keep_probability` to the probability of keeping a node using dropout"
   ]
  },
  {
   "cell_type": "code",
   "execution_count": 15,
   "metadata": {
    "collapsed": true
   },
   "outputs": [],
   "source": [
    "# TODO: Tune Parameters\n",
    "epochs = 35\n",
    "batch_size = 512\n",
    "keep_probability = 1"
   ]
  },
  {
   "cell_type": "markdown",
   "metadata": {},
   "source": [
    "### Train on a Single CIFAR-10 Batch\n",
    "Instead of training the neural network on all the CIFAR-10 batches of data, let's use a single batch. This should save time while you iterate on the model to get a better accuracy.  Once the final validation accuracy is 50% or greater, run the model on all the data in the next section."
   ]
  },
  {
   "cell_type": "code",
   "execution_count": 16,
   "metadata": {},
   "outputs": [
    {
     "name": "stdout",
     "output_type": "stream",
     "text": [
      "Checking the Training on a Single Batch...\n",
      "Epoch  1, CIFAR-10 Batch 1:  Loss = 3.7081503868103027 and Validation Accuracy = 0.0982000008225441\n",
      "Epoch  2, CIFAR-10 Batch 1:  Loss = 2.448230743408203 and Validation Accuracy = 0.13439999520778656\n",
      "Epoch  3, CIFAR-10 Batch 1:  Loss = 2.2343809604644775 and Validation Accuracy = 0.188400000333786\n",
      "Epoch  4, CIFAR-10 Batch 1:  Loss = 2.0855119228363037 and Validation Accuracy = 0.27160000801086426\n",
      "Epoch  5, CIFAR-10 Batch 1:  Loss = 2.015329360961914 and Validation Accuracy = 0.2978000044822693\n",
      "Epoch  6, CIFAR-10 Batch 1:  Loss = 1.9377952814102173 and Validation Accuracy = 0.33640000224113464\n",
      "Epoch  7, CIFAR-10 Batch 1:  Loss = 1.8881745338439941 and Validation Accuracy = 0.35740000009536743\n",
      "Epoch  8, CIFAR-10 Batch 1:  Loss = 1.8363701105117798 and Validation Accuracy = 0.37619999051094055\n",
      "Epoch  9, CIFAR-10 Batch 1:  Loss = 1.785221815109253 and Validation Accuracy = 0.399399995803833\n",
      "Epoch 10, CIFAR-10 Batch 1:  Loss = 1.7238616943359375 and Validation Accuracy = 0.41600000858306885\n",
      "Epoch 11, CIFAR-10 Batch 1:  Loss = 1.6579891443252563 and Validation Accuracy = 0.43059998750686646\n",
      "Epoch 12, CIFAR-10 Batch 1:  Loss = 1.5908985137939453 and Validation Accuracy = 0.44839999079704285\n",
      "Epoch 13, CIFAR-10 Batch 1:  Loss = 1.5406768321990967 and Validation Accuracy = 0.4607999920845032\n",
      "Epoch 14, CIFAR-10 Batch 1:  Loss = 1.4674491882324219 and Validation Accuracy = 0.46619999408721924\n",
      "Epoch 15, CIFAR-10 Batch 1:  Loss = 1.4035085439682007 and Validation Accuracy = 0.4787999987602234\n",
      "Epoch 16, CIFAR-10 Batch 1:  Loss = 1.3676213026046753 and Validation Accuracy = 0.4814000129699707\n",
      "Epoch 17, CIFAR-10 Batch 1:  Loss = 1.2987147569656372 and Validation Accuracy = 0.49619999527931213\n",
      "Epoch 18, CIFAR-10 Batch 1:  Loss = 1.2453663349151611 and Validation Accuracy = 0.5077999830245972\n",
      "Epoch 19, CIFAR-10 Batch 1:  Loss = 1.2275198698043823 and Validation Accuracy = 0.5022000074386597\n",
      "Epoch 20, CIFAR-10 Batch 1:  Loss = 1.1833782196044922 and Validation Accuracy = 0.5166000127792358\n",
      "Epoch 21, CIFAR-10 Batch 1:  Loss = 1.1393252611160278 and Validation Accuracy = 0.5234000086784363\n",
      "Epoch 22, CIFAR-10 Batch 1:  Loss = 1.1104470491409302 and Validation Accuracy = 0.5221999883651733\n",
      "Epoch 23, CIFAR-10 Batch 1:  Loss = 1.0828306674957275 and Validation Accuracy = 0.5257999897003174\n",
      "Epoch 24, CIFAR-10 Batch 1:  Loss = 1.0467727184295654 and Validation Accuracy = 0.5317999720573425\n",
      "Epoch 25, CIFAR-10 Batch 1:  Loss = 1.01340913772583 and Validation Accuracy = 0.5360000133514404\n",
      "Epoch 26, CIFAR-10 Batch 1:  Loss = 0.9877873063087463 and Validation Accuracy = 0.5406000018119812\n",
      "Epoch 27, CIFAR-10 Batch 1:  Loss = 0.9653880000114441 and Validation Accuracy = 0.5392000079154968\n",
      "Epoch 28, CIFAR-10 Batch 1:  Loss = 0.9432360529899597 and Validation Accuracy = 0.5450000166893005\n",
      "Epoch 29, CIFAR-10 Batch 1:  Loss = 0.9286465048789978 and Validation Accuracy = 0.5473999977111816\n",
      "Epoch 30, CIFAR-10 Batch 1:  Loss = 0.9450756907463074 and Validation Accuracy = 0.5303999781608582\n",
      "Epoch 31, CIFAR-10 Batch 1:  Loss = 0.8933488726615906 and Validation Accuracy = 0.5422000288963318\n",
      "Epoch 32, CIFAR-10 Batch 1:  Loss = 0.8946684002876282 and Validation Accuracy = 0.5339999794960022\n",
      "Epoch 33, CIFAR-10 Batch 1:  Loss = 0.8349056839942932 and Validation Accuracy = 0.5473999977111816\n",
      "Epoch 34, CIFAR-10 Batch 1:  Loss = 0.8186848759651184 and Validation Accuracy = 0.545799970626831\n",
      "Epoch 35, CIFAR-10 Batch 1:  Loss = 0.778298020362854 and Validation Accuracy = 0.5551999807357788\n"
     ]
    }
   ],
   "source": [
    "\"\"\"\n",
    "DON'T MODIFY ANYTHING IN THIS CELL\n",
    "\"\"\"\n",
    "print('Checking the Training on a Single Batch...')\n",
    "with tf.Session() as sess:\n",
    "    # Initializing the variables\n",
    "    sess.run(tf.global_variables_initializer())\n",
    "    \n",
    "    # Training cycle\n",
    "    for epoch in range(epochs):\n",
    "        batch_i = 1\n",
    "        for batch_features, batch_labels in helper.load_preprocess_training_batch(batch_i, batch_size):\n",
    "            train_neural_network(sess, optimizer, keep_probability, batch_features, batch_labels)\n",
    "        print('Epoch {:>2}, CIFAR-10 Batch {}:  '.format(epoch + 1, batch_i), end='')\n",
    "        print_stats(sess, batch_features, batch_labels, cost, accuracy)"
   ]
  },
  {
   "cell_type": "markdown",
   "metadata": {},
   "source": [
    "### Fully Train the Model\n",
    "Now that you got a good accuracy with a single CIFAR-10 batch, try it with all five batches."
   ]
  },
  {
   "cell_type": "code",
   "execution_count": 17,
   "metadata": {},
   "outputs": [
    {
     "name": "stdout",
     "output_type": "stream",
     "text": [
      "Training...\n",
      "Epoch  1, CIFAR-10 Batch 1:  Loss = 5.84745454788208 and Validation Accuracy = 0.09539999812841415\n",
      "Epoch  1, CIFAR-10 Batch 2:  Loss = 2.2788689136505127 and Validation Accuracy = 0.1518000066280365\n",
      "Epoch  1, CIFAR-10 Batch 3:  Loss = 2.055509090423584 and Validation Accuracy = 0.22499999403953552\n",
      "Epoch  1, CIFAR-10 Batch 4:  Loss = 1.9312942028045654 and Validation Accuracy = 0.2757999897003174\n",
      "Epoch  1, CIFAR-10 Batch 5:  Loss = 1.8933641910552979 and Validation Accuracy = 0.3061999976634979\n",
      "Epoch  2, CIFAR-10 Batch 1:  Loss = 1.8134678602218628 and Validation Accuracy = 0.3547999858856201\n",
      "Epoch  2, CIFAR-10 Batch 2:  Loss = 1.6986769437789917 and Validation Accuracy = 0.35260000824928284\n",
      "Epoch  2, CIFAR-10 Batch 3:  Loss = 1.5817075967788696 and Validation Accuracy = 0.36079999804496765\n",
      "Epoch  2, CIFAR-10 Batch 4:  Loss = 1.5289422273635864 and Validation Accuracy = 0.41280001401901245\n",
      "Epoch  2, CIFAR-10 Batch 5:  Loss = 1.5796869993209839 and Validation Accuracy = 0.43860000371932983\n",
      "Epoch  3, CIFAR-10 Batch 1:  Loss = 1.6120167970657349 and Validation Accuracy = 0.4456000030040741\n",
      "Epoch  3, CIFAR-10 Batch 2:  Loss = 1.5516316890716553 and Validation Accuracy = 0.43459999561309814\n",
      "Epoch  3, CIFAR-10 Batch 3:  Loss = 1.3640049695968628 and Validation Accuracy = 0.4438000023365021\n",
      "Epoch  3, CIFAR-10 Batch 4:  Loss = 1.3807398080825806 and Validation Accuracy = 0.4498000144958496\n",
      "Epoch  3, CIFAR-10 Batch 5:  Loss = 1.4469598531723022 and Validation Accuracy = 0.4821999967098236\n",
      "Epoch  4, CIFAR-10 Batch 1:  Loss = 1.515113115310669 and Validation Accuracy = 0.4814000129699707\n",
      "Epoch  4, CIFAR-10 Batch 2:  Loss = 1.4256834983825684 and Validation Accuracy = 0.4742000102996826\n",
      "Epoch  4, CIFAR-10 Batch 3:  Loss = 1.2861864566802979 and Validation Accuracy = 0.46939998865127563\n",
      "Epoch  4, CIFAR-10 Batch 4:  Loss = 1.3030967712402344 and Validation Accuracy = 0.4758000075817108\n",
      "Epoch  4, CIFAR-10 Batch 5:  Loss = 1.3606373071670532 and Validation Accuracy = 0.5040000081062317\n",
      "Epoch  5, CIFAR-10 Batch 1:  Loss = 1.4414457082748413 and Validation Accuracy = 0.5081999897956848\n",
      "Epoch  5, CIFAR-10 Batch 2:  Loss = 1.352349877357483 and Validation Accuracy = 0.4927999973297119\n",
      "Epoch  5, CIFAR-10 Batch 3:  Loss = 1.2176965475082397 and Validation Accuracy = 0.49639999866485596\n",
      "Epoch  5, CIFAR-10 Batch 4:  Loss = 1.2189435958862305 and Validation Accuracy = 0.49540001153945923\n",
      "Epoch  5, CIFAR-10 Batch 5:  Loss = 1.2775287628173828 and Validation Accuracy = 0.5238000154495239\n",
      "Epoch  6, CIFAR-10 Batch 1:  Loss = 1.3365204334259033 and Validation Accuracy = 0.5361999869346619\n",
      "Epoch  6, CIFAR-10 Batch 2:  Loss = 1.26676344871521 and Validation Accuracy = 0.519599974155426\n",
      "Epoch  6, CIFAR-10 Batch 3:  Loss = 1.1691005229949951 and Validation Accuracy = 0.5167999863624573\n",
      "Epoch  6, CIFAR-10 Batch 4:  Loss = 1.1213889122009277 and Validation Accuracy = 0.5321999788284302\n",
      "Epoch  6, CIFAR-10 Batch 5:  Loss = 1.17462158203125 and Validation Accuracy = 0.5407999753952026\n",
      "Epoch  7, CIFAR-10 Batch 1:  Loss = 1.2585269212722778 and Validation Accuracy = 0.5514000058174133\n",
      "Epoch  7, CIFAR-10 Batch 2:  Loss = 1.1997730731964111 and Validation Accuracy = 0.5303999781608582\n",
      "Epoch  7, CIFAR-10 Batch 3:  Loss = 1.079085350036621 and Validation Accuracy = 0.5473999977111816\n",
      "Epoch  7, CIFAR-10 Batch 4:  Loss = 1.0464421510696411 and Validation Accuracy = 0.551800012588501\n",
      "Epoch  7, CIFAR-10 Batch 5:  Loss = 1.0802286863327026 and Validation Accuracy = 0.5612000226974487\n",
      "Epoch  8, CIFAR-10 Batch 1:  Loss = 1.18128502368927 and Validation Accuracy = 0.5640000104904175\n",
      "Epoch  8, CIFAR-10 Batch 2:  Loss = 1.1182881593704224 and Validation Accuracy = 0.550599992275238\n",
      "Epoch  8, CIFAR-10 Batch 3:  Loss = 1.0119985342025757 and Validation Accuracy = 0.5720000267028809\n",
      "Epoch  8, CIFAR-10 Batch 4:  Loss = 0.9971839189529419 and Validation Accuracy = 0.567799985408783\n",
      "Epoch  8, CIFAR-10 Batch 5:  Loss = 1.0099014043807983 and Validation Accuracy = 0.5758000016212463\n",
      "Epoch  9, CIFAR-10 Batch 1:  Loss = 1.1101008653640747 and Validation Accuracy = 0.5813999772071838\n",
      "Epoch  9, CIFAR-10 Batch 2:  Loss = 1.0595611333847046 and Validation Accuracy = 0.5590000152587891\n",
      "Epoch  9, CIFAR-10 Batch 3:  Loss = 0.9773057699203491 and Validation Accuracy = 0.5861999988555908\n",
      "Epoch  9, CIFAR-10 Batch 4:  Loss = 0.9476945400238037 and Validation Accuracy = 0.5756000280380249\n",
      "Epoch  9, CIFAR-10 Batch 5:  Loss = 0.958818793296814 and Validation Accuracy = 0.5849999785423279\n",
      "Epoch 10, CIFAR-10 Batch 1:  Loss = 1.0522265434265137 and Validation Accuracy = 0.5893999934196472\n",
      "Epoch 10, CIFAR-10 Batch 2:  Loss = 1.0302175283432007 and Validation Accuracy = 0.5669999718666077\n",
      "Epoch 10, CIFAR-10 Batch 3:  Loss = 0.9305626153945923 and Validation Accuracy = 0.5914000272750854\n",
      "Epoch 10, CIFAR-10 Batch 4:  Loss = 0.9023224115371704 and Validation Accuracy = 0.5867999792098999\n",
      "Epoch 10, CIFAR-10 Batch 5:  Loss = 0.9167467951774597 and Validation Accuracy = 0.5960000157356262\n",
      "Epoch 11, CIFAR-10 Batch 1:  Loss = 1.007096529006958 and Validation Accuracy = 0.5961999893188477\n",
      "Epoch 11, CIFAR-10 Batch 2:  Loss = 1.0022120475769043 and Validation Accuracy = 0.5740000009536743\n",
      "Epoch 11, CIFAR-10 Batch 3:  Loss = 0.8817638754844666 and Validation Accuracy = 0.6028000116348267\n",
      "Epoch 11, CIFAR-10 Batch 4:  Loss = 0.8443523049354553 and Validation Accuracy = 0.6003999710083008\n",
      "Epoch 11, CIFAR-10 Batch 5:  Loss = 0.8777119517326355 and Validation Accuracy = 0.5989999771118164\n",
      "Epoch 12, CIFAR-10 Batch 1:  Loss = 0.9818989634513855 and Validation Accuracy = 0.5964000225067139\n",
      "Epoch 12, CIFAR-10 Batch 2:  Loss = 0.9616823196411133 and Validation Accuracy = 0.5785999894142151\n",
      "Epoch 12, CIFAR-10 Batch 3:  Loss = 0.8414700627326965 and Validation Accuracy = 0.6082000136375427\n",
      "Epoch 12, CIFAR-10 Batch 4:  Loss = 0.8030177354812622 and Validation Accuracy = 0.6028000116348267\n",
      "Epoch 12, CIFAR-10 Batch 5:  Loss = 0.8342738151550293 and Validation Accuracy = 0.6065999865531921\n",
      "Epoch 13, CIFAR-10 Batch 1:  Loss = 0.9421795010566711 and Validation Accuracy = 0.5947999954223633\n",
      "Epoch 13, CIFAR-10 Batch 2:  Loss = 0.9167703986167908 and Validation Accuracy = 0.5863999724388123\n",
      "Epoch 13, CIFAR-10 Batch 3:  Loss = 0.7989334464073181 and Validation Accuracy = 0.6141999959945679\n",
      "Epoch 13, CIFAR-10 Batch 4:  Loss = 0.7620947360992432 and Validation Accuracy = 0.6155999898910522\n",
      "Epoch 13, CIFAR-10 Batch 5:  Loss = 0.8036826848983765 and Validation Accuracy = 0.609000027179718\n",
      "Epoch 14, CIFAR-10 Batch 1:  Loss = 0.9153753519058228 and Validation Accuracy = 0.5961999893188477\n",
      "Epoch 14, CIFAR-10 Batch 2:  Loss = 0.869192898273468 and Validation Accuracy = 0.59579998254776\n",
      "Epoch 14, CIFAR-10 Batch 3:  Loss = 0.7672329545021057 and Validation Accuracy = 0.6169999837875366\n",
      "Epoch 14, CIFAR-10 Batch 4:  Loss = 0.7227463722229004 and Validation Accuracy = 0.6191999912261963\n",
      "Epoch 14, CIFAR-10 Batch 5:  Loss = 0.7706514596939087 and Validation Accuracy = 0.6137999892234802\n",
      "Epoch 15, CIFAR-10 Batch 1:  Loss = 0.871994137763977 and Validation Accuracy = 0.6003999710083008\n",
      "Epoch 15, CIFAR-10 Batch 2:  Loss = 0.8229876160621643 and Validation Accuracy = 0.604200005531311\n",
      "Epoch 15, CIFAR-10 Batch 3:  Loss = 0.7426780462265015 and Validation Accuracy = 0.6150000095367432\n",
      "Epoch 15, CIFAR-10 Batch 4:  Loss = 0.7181617021560669 and Validation Accuracy = 0.6133999824523926\n",
      "Epoch 15, CIFAR-10 Batch 5:  Loss = 0.7586972117424011 and Validation Accuracy = 0.6197999715805054\n",
      "Epoch 16, CIFAR-10 Batch 1:  Loss = 0.8642877340316772 and Validation Accuracy = 0.5971999764442444\n",
      "Epoch 16, CIFAR-10 Batch 2:  Loss = 0.7718431949615479 and Validation Accuracy = 0.6154000163078308\n",
      "Epoch 16, CIFAR-10 Batch 3:  Loss = 0.7294653058052063 and Validation Accuracy = 0.6158000230789185\n",
      "Epoch 16, CIFAR-10 Batch 4:  Loss = 0.7101294994354248 and Validation Accuracy = 0.6087999939918518\n",
      "Epoch 16, CIFAR-10 Batch 5:  Loss = 0.7264583706855774 and Validation Accuracy = 0.6195999979972839\n",
      "Epoch 17, CIFAR-10 Batch 1:  Loss = 0.8199702501296997 and Validation Accuracy = 0.6014000177383423\n",
      "Epoch 17, CIFAR-10 Batch 2:  Loss = 0.7264655828475952 and Validation Accuracy = 0.6281999945640564\n"
     ]
    },
    {
     "name": "stdout",
     "output_type": "stream",
     "text": [
      "Epoch 17, CIFAR-10 Batch 3:  Loss = 0.7346799969673157 and Validation Accuracy = 0.6060000061988831\n",
      "Epoch 17, CIFAR-10 Batch 4:  Loss = 0.6888437271118164 and Validation Accuracy = 0.6146000027656555\n",
      "Epoch 17, CIFAR-10 Batch 5:  Loss = 0.6956086158752441 and Validation Accuracy = 0.6150000095367432\n",
      "Epoch 18, CIFAR-10 Batch 1:  Loss = 0.7505441308021545 and Validation Accuracy = 0.6140000224113464\n",
      "Epoch 18, CIFAR-10 Batch 2:  Loss = 0.6968020796775818 and Validation Accuracy = 0.6353999972343445\n",
      "Epoch 18, CIFAR-10 Batch 3:  Loss = 0.6948081851005554 and Validation Accuracy = 0.6128000020980835\n",
      "Epoch 18, CIFAR-10 Batch 4:  Loss = 0.6436149477958679 and Validation Accuracy = 0.625\n",
      "Epoch 18, CIFAR-10 Batch 5:  Loss = 0.6713983416557312 and Validation Accuracy = 0.6172000169754028\n",
      "Epoch 19, CIFAR-10 Batch 1:  Loss = 0.7173093557357788 and Validation Accuracy = 0.6169999837875366\n",
      "Epoch 19, CIFAR-10 Batch 2:  Loss = 0.6695186495780945 and Validation Accuracy = 0.6425999999046326\n",
      "Epoch 19, CIFAR-10 Batch 3:  Loss = 0.6591447591781616 and Validation Accuracy = 0.6187999844551086\n",
      "Epoch 19, CIFAR-10 Batch 4:  Loss = 0.614344596862793 and Validation Accuracy = 0.626800000667572\n",
      "Epoch 19, CIFAR-10 Batch 5:  Loss = 0.6481024026870728 and Validation Accuracy = 0.6182000041007996\n",
      "Epoch 20, CIFAR-10 Batch 1:  Loss = 0.6976745128631592 and Validation Accuracy = 0.6068000197410583\n",
      "Epoch 20, CIFAR-10 Batch 2:  Loss = 0.6529843211174011 and Validation Accuracy = 0.6263999938964844\n",
      "Epoch 20, CIFAR-10 Batch 3:  Loss = 0.6353970766067505 and Validation Accuracy = 0.618399977684021\n",
      "Epoch 20, CIFAR-10 Batch 4:  Loss = 0.6002480983734131 and Validation Accuracy = 0.6182000041007996\n",
      "Epoch 20, CIFAR-10 Batch 5:  Loss = 0.6498931050300598 and Validation Accuracy = 0.614799976348877\n",
      "Epoch 21, CIFAR-10 Batch 1:  Loss = 0.6730542778968811 and Validation Accuracy = 0.6104000210762024\n",
      "Epoch 21, CIFAR-10 Batch 2:  Loss = 0.7185729742050171 and Validation Accuracy = 0.6014000177383423\n",
      "Epoch 21, CIFAR-10 Batch 3:  Loss = 0.6160116195678711 and Validation Accuracy = 0.6245999932289124\n",
      "Epoch 21, CIFAR-10 Batch 4:  Loss = 0.5680475831031799 and Validation Accuracy = 0.6276000142097473\n",
      "Epoch 21, CIFAR-10 Batch 5:  Loss = 0.5963961482048035 and Validation Accuracy = 0.628600001335144\n",
      "Epoch 22, CIFAR-10 Batch 1:  Loss = 0.6303027272224426 and Validation Accuracy = 0.6182000041007996\n",
      "Epoch 22, CIFAR-10 Batch 2:  Loss = 0.6586948037147522 and Validation Accuracy = 0.6187999844551086\n",
      "Epoch 22, CIFAR-10 Batch 3:  Loss = 0.57212233543396 and Validation Accuracy = 0.6330000162124634\n",
      "Epoch 22, CIFAR-10 Batch 4:  Loss = 0.5429025292396545 and Validation Accuracy = 0.6266000270843506\n",
      "Epoch 22, CIFAR-10 Batch 5:  Loss = 0.5884782671928406 and Validation Accuracy = 0.6295999884605408\n",
      "Epoch 23, CIFAR-10 Batch 1:  Loss = 0.6041590571403503 and Validation Accuracy = 0.6140000224113464\n",
      "Epoch 23, CIFAR-10 Batch 2:  Loss = 0.6029837727546692 and Validation Accuracy = 0.6240000128746033\n",
      "Epoch 23, CIFAR-10 Batch 3:  Loss = 0.5392115116119385 and Validation Accuracy = 0.6421999931335449\n",
      "Epoch 23, CIFAR-10 Batch 4:  Loss = 0.5073530077934265 and Validation Accuracy = 0.6341999769210815\n",
      "Epoch 23, CIFAR-10 Batch 5:  Loss = 0.5576735734939575 and Validation Accuracy = 0.6299999952316284\n",
      "Epoch 24, CIFAR-10 Batch 1:  Loss = 0.5698028206825256 and Validation Accuracy = 0.6222000122070312\n",
      "Epoch 24, CIFAR-10 Batch 2:  Loss = 0.6199201345443726 and Validation Accuracy = 0.6079999804496765\n",
      "Epoch 24, CIFAR-10 Batch 3:  Loss = 0.5670680403709412 and Validation Accuracy = 0.6287999749183655\n",
      "Epoch 24, CIFAR-10 Batch 4:  Loss = 0.5149590969085693 and Validation Accuracy = 0.6241999864578247\n",
      "Epoch 24, CIFAR-10 Batch 5:  Loss = 0.5453417897224426 and Validation Accuracy = 0.6236000061035156\n",
      "Epoch 25, CIFAR-10 Batch 1:  Loss = 0.5431049466133118 and Validation Accuracy = 0.6299999952316284\n",
      "Epoch 25, CIFAR-10 Batch 2:  Loss = 0.5722927451133728 and Validation Accuracy = 0.6111999750137329\n",
      "Epoch 25, CIFAR-10 Batch 3:  Loss = 0.5416265726089478 and Validation Accuracy = 0.6330000162124634\n",
      "Epoch 25, CIFAR-10 Batch 4:  Loss = 0.4643978476524353 and Validation Accuracy = 0.6353999972343445\n",
      "Epoch 25, CIFAR-10 Batch 5:  Loss = 0.4967675507068634 and Validation Accuracy = 0.6366000175476074\n",
      "Epoch 26, CIFAR-10 Batch 1:  Loss = 0.5055707097053528 and Validation Accuracy = 0.6345999836921692\n",
      "Epoch 26, CIFAR-10 Batch 2:  Loss = 0.5468038320541382 and Validation Accuracy = 0.6169999837875366\n",
      "Epoch 26, CIFAR-10 Batch 3:  Loss = 0.5076867938041687 and Validation Accuracy = 0.628600001335144\n",
      "Epoch 26, CIFAR-10 Batch 4:  Loss = 0.43967458605766296 and Validation Accuracy = 0.6349999904632568\n",
      "Epoch 26, CIFAR-10 Batch 5:  Loss = 0.4673157334327698 and Validation Accuracy = 0.6388000249862671\n",
      "Epoch 27, CIFAR-10 Batch 1:  Loss = 0.4781867265701294 and Validation Accuracy = 0.6326000094413757\n",
      "Epoch 27, CIFAR-10 Batch 2:  Loss = 0.5300729870796204 and Validation Accuracy = 0.6128000020980835\n",
      "Epoch 27, CIFAR-10 Batch 3:  Loss = 0.49470797181129456 and Validation Accuracy = 0.6277999877929688\n",
      "Epoch 27, CIFAR-10 Batch 4:  Loss = 0.4248027801513672 and Validation Accuracy = 0.6370000243186951\n",
      "Epoch 27, CIFAR-10 Batch 5:  Loss = 0.4484888017177582 and Validation Accuracy = 0.6338000297546387\n",
      "Epoch 28, CIFAR-10 Batch 1:  Loss = 0.46923935413360596 and Validation Accuracy = 0.626800000667572\n",
      "Epoch 28, CIFAR-10 Batch 2:  Loss = 0.5197482109069824 and Validation Accuracy = 0.6114000082015991\n",
      "Epoch 28, CIFAR-10 Batch 3:  Loss = 0.47011348605155945 and Validation Accuracy = 0.6222000122070312\n",
      "Epoch 28, CIFAR-10 Batch 4:  Loss = 0.41360220313072205 and Validation Accuracy = 0.6388000249862671\n",
      "Epoch 28, CIFAR-10 Batch 5:  Loss = 0.45585280656814575 and Validation Accuracy = 0.6281999945640564\n",
      "Epoch 29, CIFAR-10 Batch 1:  Loss = 0.47710925340652466 and Validation Accuracy = 0.6159999966621399\n",
      "Epoch 29, CIFAR-10 Batch 2:  Loss = 0.5514143109321594 and Validation Accuracy = 0.6014000177383423\n",
      "Epoch 29, CIFAR-10 Batch 3:  Loss = 0.4981413185596466 and Validation Accuracy = 0.6205999851226807\n",
      "Epoch 29, CIFAR-10 Batch 4:  Loss = 0.40742921829223633 and Validation Accuracy = 0.6421999931335449\n",
      "Epoch 29, CIFAR-10 Batch 5:  Loss = 0.4422837197780609 and Validation Accuracy = 0.6215999722480774\n",
      "Epoch 30, CIFAR-10 Batch 1:  Loss = 0.4504641592502594 and Validation Accuracy = 0.6263999938964844\n",
      "Epoch 30, CIFAR-10 Batch 2:  Loss = 0.5469881296157837 and Validation Accuracy = 0.602400004863739\n",
      "Epoch 30, CIFAR-10 Batch 3:  Loss = 0.4744441509246826 and Validation Accuracy = 0.6241999864578247\n",
      "Epoch 30, CIFAR-10 Batch 4:  Loss = 0.42013978958129883 and Validation Accuracy = 0.6326000094413757\n",
      "Epoch 30, CIFAR-10 Batch 5:  Loss = 0.40692463517189026 and Validation Accuracy = 0.6359999775886536\n",
      "Epoch 31, CIFAR-10 Batch 1:  Loss = 0.4443308711051941 and Validation Accuracy = 0.6370000243186951\n",
      "Epoch 31, CIFAR-10 Batch 2:  Loss = 0.5690115094184875 and Validation Accuracy = 0.5860000252723694\n",
      "Epoch 31, CIFAR-10 Batch 3:  Loss = 0.5150078535079956 and Validation Accuracy = 0.6043999791145325\n",
      "Epoch 31, CIFAR-10 Batch 4:  Loss = 0.39129388332366943 and Validation Accuracy = 0.6376000046730042\n",
      "Epoch 31, CIFAR-10 Batch 5:  Loss = 0.379810631275177 and Validation Accuracy = 0.6353999972343445\n",
      "Epoch 32, CIFAR-10 Batch 1:  Loss = 0.4811324179172516 and Validation Accuracy = 0.6259999871253967\n",
      "Epoch 32, CIFAR-10 Batch 2:  Loss = 0.5794298052787781 and Validation Accuracy = 0.5870000123977661\n",
      "Epoch 32, CIFAR-10 Batch 3:  Loss = 0.4475895166397095 and Validation Accuracy = 0.6105999946594238\n",
      "Epoch 32, CIFAR-10 Batch 4:  Loss = 0.3681415915489197 and Validation Accuracy = 0.6406000256538391\n",
      "Epoch 32, CIFAR-10 Batch 5:  Loss = 0.3508303761482239 and Validation Accuracy = 0.6394000053405762\n",
      "Epoch 33, CIFAR-10 Batch 1:  Loss = 0.44209811091423035 and Validation Accuracy = 0.6287999749183655\n",
      "Epoch 33, CIFAR-10 Batch 2:  Loss = 0.45034337043762207 and Validation Accuracy = 0.6191999912261963\n",
      "Epoch 33, CIFAR-10 Batch 3:  Loss = 0.44087550044059753 and Validation Accuracy = 0.6168000102043152\n",
      "Epoch 33, CIFAR-10 Batch 4:  Loss = 0.35191676020622253 and Validation Accuracy = 0.6384000182151794\n"
     ]
    },
    {
     "name": "stdout",
     "output_type": "stream",
     "text": [
      "Epoch 33, CIFAR-10 Batch 5:  Loss = 0.3343318700790405 and Validation Accuracy = 0.63919997215271\n",
      "Epoch 34, CIFAR-10 Batch 1:  Loss = 0.38485369086265564 and Validation Accuracy = 0.6403999924659729\n",
      "Epoch 34, CIFAR-10 Batch 2:  Loss = 0.3994002342224121 and Validation Accuracy = 0.6295999884605408\n",
      "Epoch 34, CIFAR-10 Batch 3:  Loss = 0.39950284361839294 and Validation Accuracy = 0.6173999905586243\n",
      "Epoch 34, CIFAR-10 Batch 4:  Loss = 0.3482876420021057 and Validation Accuracy = 0.6388000249862671\n",
      "Epoch 34, CIFAR-10 Batch 5:  Loss = 0.3130668103694916 and Validation Accuracy = 0.6362000107765198\n",
      "Epoch 35, CIFAR-10 Batch 1:  Loss = 0.35992205142974854 and Validation Accuracy = 0.6462000012397766\n",
      "Epoch 35, CIFAR-10 Batch 2:  Loss = 0.40167200565338135 and Validation Accuracy = 0.6317999958992004\n",
      "Epoch 35, CIFAR-10 Batch 3:  Loss = 0.37349751591682434 and Validation Accuracy = 0.6126000285148621\n",
      "Epoch 35, CIFAR-10 Batch 4:  Loss = 0.3567644953727722 and Validation Accuracy = 0.6317999958992004\n",
      "Epoch 35, CIFAR-10 Batch 5:  Loss = 0.3008846044540405 and Validation Accuracy = 0.6403999924659729\n"
     ]
    }
   ],
   "source": [
    "\"\"\"\n",
    "DON'T MODIFY ANYTHING IN THIS CELL\n",
    "\"\"\"\n",
    "save_model_path = './image_classification'\n",
    "\n",
    "print('Training...')\n",
    "with tf.Session() as sess:\n",
    "    # Initializing the variables\n",
    "    sess.run(tf.global_variables_initializer())\n",
    "    \n",
    "    # Training cycle\n",
    "    for epoch in range(epochs):\n",
    "        # Loop over all batches\n",
    "        n_batches = 5\n",
    "        for batch_i in range(1, n_batches + 1):\n",
    "            for batch_features, batch_labels in helper.load_preprocess_training_batch(batch_i, batch_size):\n",
    "                train_neural_network(sess, optimizer, keep_probability, batch_features, batch_labels)\n",
    "            print('Epoch {:>2}, CIFAR-10 Batch {}:  '.format(epoch + 1, batch_i), end='')\n",
    "            print_stats(sess, batch_features, batch_labels, cost, accuracy)\n",
    "            \n",
    "    # Save Model\n",
    "    saver = tf.train.Saver()\n",
    "    save_path = saver.save(sess, save_model_path)"
   ]
  },
  {
   "cell_type": "markdown",
   "metadata": {},
   "source": [
    "# Checkpoint\n",
    "The model has been saved to disk.\n",
    "## Test Model\n",
    "Test your model against the test dataset.  This will be your final accuracy. You should have an accuracy greater than 50%. If you don't, keep tweaking the model architecture and parameters."
   ]
  },
  {
   "cell_type": "code",
   "execution_count": 18,
   "metadata": {},
   "outputs": [
    {
     "name": "stdout",
     "output_type": "stream",
     "text": [
      "INFO:tensorflow:Restoring parameters from ./image_classification\n",
      "Testing Accuracy: 0.6357249528169632\n",
      "\n"
     ]
    },
    {
     "data": {
      "image/png": "[encoded data removed]",
      "text/plain": [
       "<matplotlib.figure.Figure at 0x1086339b0>"
      ]
     },
     "metadata": {
      "image/png": {
       "height": 319,
       "width": 355
      }
     },
     "output_type": "display_data"
    }
   ],
   "source": [
    "\"\"\"\n",
    "DON'T MODIFY ANYTHING IN THIS CELL\n",
    "\"\"\"\n",
    "%matplotlib inline\n",
    "%config InlineBackend.figure_format = 'retina'\n",
    "\n",
    "import tensorflow as tf\n",
    "import pickle\n",
    "import helper\n",
    "import random\n",
    "\n",
    "# Set batch size if not already set\n",
    "try:\n",
    "    if batch_size:\n",
    "        pass\n",
    "except NameError:\n",
    "    batch_size = 64\n",
    "\n",
    "save_model_path = './image_classification'\n",
    "n_samples = 4\n",
    "top_n_predictions = 3\n",
    "\n",
    "def test_model():\n",
    "    \"\"\"\n",
    "    Test the saved model against the test dataset\n",
    "    \"\"\"\n",
    "\n",
    "    test_features, test_labels = pickle.load(open('preprocess_test.p', mode='rb'))\n",
    "    loaded_graph = tf.Graph()\n",
    "\n",
    "    with tf.Session(graph=loaded_graph) as sess:\n",
    "        # Load model\n",
    "        loader = tf.train.import_meta_graph(save_model_path + '.meta')\n",
    "        loader.restore(sess, save_model_path)\n",
    "\n",
    "        # Get Tensors from loaded model\n",
    "        loaded_x = loaded_graph.get_tensor_by_name('x:0')\n",
    "        loaded_y = loaded_graph.get_tensor_by_name('y:0')\n",
    "        loaded_keep_prob = loaded_graph.get_tensor_by_name('keep_prob:0')\n",
    "        loaded_logits = loaded_graph.get_tensor_by_name('logits:0')\n",
    "        loaded_acc = loaded_graph.get_tensor_by_name('accuracy:0')\n",
    "        \n",
    "        # Get accuracy in batches for memory limitations\n",
    "        test_batch_acc_total = 0\n",
    "        test_batch_count = 0\n",
    "        \n",
    "        for test_feature_batch, test_label_batch in helper.batch_features_labels(test_features, test_labels, batch_size):\n",
    "            test_batch_acc_total += sess.run(\n",
    "                loaded_acc,\n",
    "                feed_dict={loaded_x: test_feature_batch, loaded_y: test_label_batch, loaded_keep_prob: 1.0})\n",
    "            test_batch_count += 1\n",
    "\n",
    "        print('Testing Accuracy: {}\\n'.format(test_batch_acc_total/test_batch_count))\n",
    "\n",
    "        # Print Random Samples\n",
    "        random_test_features, random_test_labels = tuple(zip(*random.sample(list(zip(test_features, test_labels)), n_samples)))\n",
    "        random_test_predictions = sess.run(\n",
    "            tf.nn.top_k(tf.nn.softmax(loaded_logits), top_n_predictions),\n",
    "            feed_dict={loaded_x: random_test_features, loaded_y: random_test_labels, loaded_keep_prob: 1.0})\n",
    "        helper.display_image_predictions(random_test_features, random_test_labels, random_test_predictions)\n",
    "\n",
    "\n",
    "test_model()"
   ]
  },
  {
   "cell_type": "markdown",
   "metadata": {},
   "source": [
    "## Why 50-80% Accuracy?\n",
    "You might be wondering why you can't get an accuracy any higher. First things first, 50% isn't bad for a simple CNN.  Pure guessing would get you 10% accuracy. However, you might notice people are getting scores [well above 80%](http://rodrigob.github.io/are_we_there_yet/build/classification_datasets_results.html#43494641522d3130).  That's because we haven't taught you all there is to know about neural networks. We still need to cover a few more techniques.\n",
    "## Submitting This Project\n",
    "When submitting this project, make sure to run all the cells before saving the notebook.  Save the notebook file as \"dlnd_image_classification.ipynb\" and save it as a HTML file under \"File\" -> \"Download as\".  Include the \"helper.py\" and \"problem_unittests.py\" files in your submission."
   ]
  }
 ],
 "metadata": {
  "kernelspec": {
   "display_name": "Python 3",
   "language": "python",
   "name": "python3"
  },
  "language_info": {
   "codemirror_mode": {
    "name": "ipython",
    "version": 3
   },
   "file_extension": ".py",
   "mimetype": "text/x-python",
   "name": "python",
   "nbconvert_exporter": "python",
   "pygments_lexer": "ipython3",
   "version": "3.5.3"
  }
 },
 "nbformat": 4,
 "nbformat_minor": 1
}
