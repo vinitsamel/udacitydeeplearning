{
 "cells": [
  {
   "cell_type": "markdown",
   "metadata": {
    "collapsed": true
   },
   "source": [
    "# Image Classification\n",
    "In this project, you'll classify images from the [CIFAR-10 dataset](https://www.cs.toronto.edu/~kriz/cifar.html).  The dataset consists of airplanes, dogs, cats, and other objects. You'll preprocess the images, then train a convolutional neural network on all the samples. The images need to be normalized and the labels need to be one-hot encoded.  You'll get to apply what you learned and build a convolutional, max pooling, dropout, and fully connected layers.  At the end, you'll get to see your neural network's predictions on the sample images.\n",
    "## Get the Data\n",
    "Run the following cell to download the [CIFAR-10 dataset for python](https://www.cs.toronto.edu/~kriz/cifar-10-python.tar.gz)."
   ]
  },
  {
   "cell_type": "code",
   "execution_count": 4,
   "metadata": {},
   "outputs": [
    {
     "name": "stdout",
     "output_type": "stream",
     "text": [
      "All files found!\n"
     ]
    }
   ],
   "source": [
    "\"\"\"\n",
    "DON'T MODIFY ANYTHING IN THIS CELL THAT IS BELOW THIS LINE\n",
    "\"\"\"\n",
    "from urllib.request import urlretrieve\n",
    "from os.path import isfile, isdir\n",
    "from tqdm import tqdm\n",
    "import problem_unittests as tests\n",
    "import tarfile\n",
    "\n",
    "cifar10_dataset_folder_path = 'cifar-10-batches-py'\n",
    "\n",
    "# Use Floyd's cifar-10 dataset if present\n",
    "floyd_cifar10_location = '/input/cifar-10/python.tar.gz'\n",
    "if isfile(floyd_cifar10_location):\n",
    "    tar_gz_path = floyd_cifar10_location\n",
    "else:\n",
    "    tar_gz_path = 'cifar-10-python.tar.gz'\n",
    "\n",
    "class DLProgress(tqdm):\n",
    "    last_block = 0\n",
    "\n",
    "    def hook(self, block_num=1, block_size=1, total_size=None):\n",
    "        self.total = total_size\n",
    "        self.update((block_num - self.last_block) * block_size)\n",
    "        self.last_block = block_num\n",
    "\n",
    "if not isfile(tar_gz_path):\n",
    "    with DLProgress(unit='B', unit_scale=True, miniters=1, desc='CIFAR-10 Dataset') as pbar:\n",
    "        urlretrieve(\n",
    "            'https://www.cs.toronto.edu/~kriz/cifar-10-python.tar.gz',\n",
    "            tar_gz_path,\n",
    "            pbar.hook)\n",
    "\n",
    "if not isdir(cifar10_dataset_folder_path):\n",
    "    with tarfile.open(tar_gz_path) as tar:\n",
    "        tar.extractall()\n",
    "        tar.close()\n",
    "\n",
    "\n",
    "tests.test_folder_path(cifar10_dataset_folder_path)"
   ]
  },
  {
   "cell_type": "markdown",
   "metadata": {},
   "source": [
    "## Explore the Data\n",
    "The dataset is broken into batches to prevent your machine from running out of memory.  The CIFAR-10 dataset consists of 5 batches, named `data_batch_1`, `data_batch_2`, etc.. Each batch contains the labels and images that are one of the following:\n",
    "* airplane\n",
    "* automobile\n",
    "* bird\n",
    "* cat\n",
    "* deer\n",
    "* dog\n",
    "* frog\n",
    "* horse\n",
    "* ship\n",
    "* truck\n",
    "\n",
    "Understanding a dataset is part of making predictions on the data.  Play around with the code cell below by changing the `batch_id` and `sample_id`. The `batch_id` is the id for a batch (1-5). The `sample_id` is the id for a image and label pair in the batch.\n",
    "\n",
    "Ask yourself \"What are all possible labels?\", \"What is the range of values for the image data?\", \"Are the labels in order or random?\".  Answers to questions like these will help you preprocess the data and end up with better predictions."
   ]
  },
  {
   "cell_type": "code",
   "execution_count": 5,
   "metadata": {},
   "outputs": [
    {
     "name": "stdout",
     "output_type": "stream",
     "text": [
      "\n",
      "Stats of batch 1:\n",
      "Samples: 10000\n",
      "Label Counts: {0: 1005, 1: 974, 2: 1032, 3: 1016, 4: 999, 5: 937, 6: 1030, 7: 1001, 8: 1025, 9: 981}\n",
      "First 20 Labels: [6, 9, 9, 4, 1, 1, 2, 7, 8, 3, 4, 7, 7, 2, 9, 9, 9, 3, 2, 6]\n",
      "\n",
      "Example of Image 1:\n",
      "Image - Min Value: 5 Max Value: 254\n",
      "Image - Shape: (32, 32, 3)\n",
      "Label - Label Id: 9 Name: truck\n"
     ]
    },
    {
     "data": {
      "image/png": "[encoded data removed]",
      "text/plain": [
       "<matplotlib.figure.Figure at 0x113969438>"
      ]
     },
     "metadata": {
      "image/png": {
       "height": 250,
       "width": 253
      }
     },
     "output_type": "display_data"
    }
   ],
   "source": [
    "%matplotlib inline\n",
    "%config InlineBackend.figure_format = 'retina'\n",
    "\n",
    "import helper\n",
    "import numpy as np\n",
    "\n",
    "# Explore the dataset\n",
    "batch_id = 1\n",
    "sample_id = 1\n",
    "helper.display_stats(cifar10_dataset_folder_path, batch_id, sample_id)"
   ]
  },
  {
   "cell_type": "markdown",
   "metadata": {},
   "source": [
    "## Implement Preprocess Functions\n",
    "### Normalize\n",
    "In the cell below, implement the `normalize` function to take in image data, `x`, and return it as a normalized Numpy array. The values should be in the range of 0 to 1, inclusive.  The return object should be the same shape as `x`."
   ]
  },
  {
   "cell_type": "code",
   "execution_count": 6,
   "metadata": {},
   "outputs": [
    {
     "name": "stdout",
     "output_type": "stream",
     "text": [
      "Tests Passed\n"
     ]
    }
   ],
   "source": [
    "def normalize(x):\n",
    "    \"\"\"\n",
    "    Normalize a list of sample image data in the range of 0 to 1\n",
    "    : x: List of image data.  The image shape is (32, 32, 3)\n",
    "    : return: Numpy array of normalize data\n",
    "    \"\"\"\n",
    "    # TODO: Implement Function\n",
    "    # Reference : Intro to Tensor Flow -  Min-Max scaling for grayscale image data\n",
    "    a = 0\n",
    "    b = 1\n",
    "    grayscale_min = 0\n",
    "    grayscale_max = 255\n",
    "    return a + ( ( (x - grayscale_min)*(b - a) )/( grayscale_max - grayscale_min ) )\n",
    "\n",
    "\"\"\"\n",
    "DON'T MODIFY ANYTHING IN THIS CELL THAT IS BELOW THIS LINE\n",
    "\"\"\"\n",
    "tests.test_normalize(normalize)"
   ]
  },
  {
   "cell_type": "markdown",
   "metadata": {},
   "source": [
    "### One-hot encode\n",
    "Just like the previous code cell, you'll be implementing a function for preprocessing.  This time, you'll implement the `one_hot_encode` function. The input, `x`, are a list of labels.  Implement the function to return the list of labels as One-Hot encoded Numpy array.  The possible values for labels are 0 to 9. The one-hot encoding function should return the same encoding for each value between each call to `one_hot_encode`.  Make sure to save the map of encodings outside the function.\n",
    "\n",
    "Hint: Don't reinvent the wheel."
   ]
  },
  {
   "cell_type": "code",
   "execution_count": 7,
   "metadata": {},
   "outputs": [
    {
     "name": "stdout",
     "output_type": "stream",
     "text": [
      "Tests Passed\n"
     ]
    }
   ],
   "source": [
    "from sklearn import preprocessing\n",
    "def one_hot_encode(x):\n",
    "    \"\"\"\n",
    "    One hot encode a list of sample labels. Return a one-hot encoded vector for each label.\n",
    "    : x: List of sample Labels\n",
    "    : return: Numpy array of one-hot encoded labels\n",
    "    \"\"\"\n",
    "    # TODO: Implement Function\n",
    "    # Reference: Intro to tensor flow - One Hot Encoding\n",
    "    # print (x)\n",
    "    # Create the encoder\n",
    "    lb = preprocessing.LabelBinarizer()\n",
    "    # Here the encoder finds the classes and assigns one-hot vectors \n",
    "    lb.fit([0,1,2,3,4,5,6,7,8,9])\n",
    "    # And finally, transform the labels into one-hot encoded vectors\n",
    "    return lb.transform(x)\n",
    "\n",
    "\"\"\"\n",
    "DON'T MODIFY ANYTHING IN THIS CELL THAT IS BELOW THIS LINE\n",
    "\"\"\"\n",
    "tests.test_one_hot_encode(one_hot_encode)"
   ]
  },
  {
   "cell_type": "markdown",
   "metadata": {},
   "source": [
    "### Randomize Data\n",
    "As you saw from exploring the data above, the order of the samples are randomized.  It doesn't hurt to randomize it again, but you don't need to for this dataset."
   ]
  },
  {
   "cell_type": "markdown",
   "metadata": {},
   "source": [
    "## Preprocess all the data and save it\n",
    "Running the code cell below will preprocess all the CIFAR-10 data and save it to file. The code below also uses 10% of the training data for validation."
   ]
  },
  {
   "cell_type": "code",
   "execution_count": 8,
   "metadata": {
    "collapsed": true
   },
   "outputs": [],
   "source": [
    "\"\"\"\n",
    "DON'T MODIFY ANYTHING IN THIS CELL\n",
    "\"\"\"\n",
    "# Preprocess Training, Validation, and Testing Data\n",
    "helper.preprocess_and_save_data(cifar10_dataset_folder_path, normalize, one_hot_encode)"
   ]
  },
  {
   "cell_type": "markdown",
   "metadata": {},
   "source": [
    "# Check Point\n",
    "This is your first checkpoint.  If you ever decide to come back to this notebook or have to restart the notebook, you can start from here.  The preprocessed data has been saved to disk."
   ]
  },
  {
   "cell_type": "code",
   "execution_count": 9,
   "metadata": {
    "collapsed": true
   },
   "outputs": [],
   "source": [
    "\"\"\"\n",
    "DON'T MODIFY ANYTHING IN THIS CELL\n",
    "\"\"\"\n",
    "import pickle\n",
    "import problem_unittests as tests\n",
    "import helper\n",
    "\n",
    "# Load the Preprocessed Validation data\n",
    "valid_features, valid_labels = pickle.load(open('preprocess_validation.p', mode='rb'))"
   ]
  },
  {
   "cell_type": "markdown",
   "metadata": {},
   "source": [
    "## Build the network\n",
    "For the neural network, you'll build each layer into a function.  Most of the code you've seen has been outside of functions. To test your code more thoroughly, we require that you put each layer in a function.  This allows us to give you better feedback and test for simple mistakes using our unittests before you submit your project.\n",
    "\n",
    ">**Note:** If you're finding it hard to dedicate enough time for this course each week, we've provided a small shortcut to this part of the project. In the next couple of problems, you'll have the option to use classes from the [TensorFlow Layers](https://www.tensorflow.org/api_docs/python/tf/layers) or [TensorFlow Layers (contrib)](https://www.tensorflow.org/api_guides/python/contrib.layers) packages to build each layer, except the layers you build in the \"Convolutional and Max Pooling Layer\" section.  TF Layers is similar to Keras's and TFLearn's abstraction to layers, so it's easy to pickup.\n",
    "\n",
    ">However, if you would like to get the most out of this course, try to solve all the problems _without_ using anything from the TF Layers packages. You **can** still use classes from other packages that happen to have the same name as ones you find in TF Layers! For example, instead of using the TF Layers version of the `conv2d` class, [tf.layers.conv2d](https://www.tensorflow.org/api_docs/python/tf/layers/conv2d), you would want to use the TF Neural Network version of `conv2d`, [tf.nn.conv2d](https://www.tensorflow.org/api_docs/python/tf/nn/conv2d). \n",
    "\n",
    "Let's begin!\n",
    "\n",
    "### Input\n",
    "The neural network needs to read the image data, one-hot encoded labels, and dropout keep probability. Implement the following functions\n",
    "* Implement `neural_net_image_input`\n",
    " * Return a [TF Placeholder](https://www.tensorflow.org/api_docs/python/tf/placeholder)\n",
    " * Set the shape using `image_shape` with batch size set to `None`.\n",
    " * Name the TensorFlow placeholder \"x\" using the TensorFlow `name` parameter in the [TF Placeholder](https://www.tensorflow.org/api_docs/python/tf/placeholder).\n",
    "* Implement `neural_net_label_input`\n",
    " * Return a [TF Placeholder](https://www.tensorflow.org/api_docs/python/tf/placeholder)\n",
    " * Set the shape using `n_classes` with batch size set to `None`.\n",
    " * Name the TensorFlow placeholder \"y\" using the TensorFlow `name` parameter in the [TF Placeholder](https://www.tensorflow.org/api_docs/python/tf/placeholder).\n",
    "* Implement `neural_net_keep_prob_input`\n",
    " * Return a [TF Placeholder](https://www.tensorflow.org/api_docs/python/tf/placeholder) for dropout keep probability.\n",
    " * Name the TensorFlow placeholder \"keep_prob\" using the TensorFlow `name` parameter in the [TF Placeholder](https://www.tensorflow.org/api_docs/python/tf/placeholder).\n",
    "\n",
    "These names will be used at the end of the project to load your saved model.\n",
    "\n",
    "Note: `None` for shapes in TensorFlow allow for a dynamic size."
   ]
  },
  {
   "cell_type": "code",
   "execution_count": 10,
   "metadata": {},
   "outputs": [
    {
     "name": "stdout",
     "output_type": "stream",
     "text": [
      "Image Input Tests Passed.\n",
      "Label Input Tests Passed.\n",
      "Keep Prob Tests Passed.\n"
     ]
    }
   ],
   "source": [
    "import tensorflow as tf\n",
    "\n",
    "def neural_net_image_input(image_shape):\n",
    "    \"\"\"\n",
    "    Return a Tensor for a batch of image input\n",
    "    : image_shape: Shape of the images\n",
    "    : return: Tensor for image input.\n",
    "    \"\"\"\n",
    "    # TODO: Implement Function\n",
    "    return  tf.placeholder(tf.float32, [None, image_shape[0],image_shape[1],image_shape[2]] , name='x')\n",
    "\n",
    "\n",
    "def neural_net_label_input(n_classes):\n",
    "    \"\"\"\n",
    "    Return a Tensor for a batch of label input\n",
    "    : n_classes: Number of classes\n",
    "    : return: Tensor for label input.\n",
    "    \"\"\"\n",
    "    # TODO: Implement Function\n",
    "    return  tf.placeholder(tf.float32, [None, n_classes], name='y')\n",
    "\n",
    "\n",
    "def neural_net_keep_prob_input():\n",
    "    \"\"\"\n",
    "    Return a Tensor for keep probability\n",
    "    : return: Tensor for keep probability.\n",
    "    \"\"\"\n",
    "    # TODO: Implement Function\n",
    "    return tf.placeholder(tf.float32, name='keep_prob')\n",
    "\n",
    "\n",
    "\"\"\"\n",
    "DON'T MODIFY ANYTHING IN THIS CELL THAT IS BELOW THIS LINE\n",
    "\"\"\"\n",
    "tf.reset_default_graph()\n",
    "tests.test_nn_image_inputs(neural_net_image_input)\n",
    "tests.test_nn_label_inputs(neural_net_label_input)\n",
    "tests.test_nn_keep_prob_inputs(neural_net_keep_prob_input)"
   ]
  },
  {
   "cell_type": "markdown",
   "metadata": {},
   "source": [
    "### Convolution and Max Pooling Layer\n",
    "Convolution layers have a lot of success with images. For this code cell, you should implement the function `conv2d_maxpool` to apply convolution then max pooling:\n",
    "* Create the weight and bias using `conv_ksize`, `conv_num_outputs` and the shape of `x_tensor`.\n",
    "* Apply a convolution to `x_tensor` using weight and `conv_strides`.\n",
    " * We recommend you use same padding, but you're welcome to use any padding.\n",
    "* Add bias\n",
    "* Add a nonlinear activation to the convolution.\n",
    "* Apply Max Pooling using `pool_ksize` and `pool_strides`.\n",
    " * We recommend you use same padding, but you're welcome to use any padding.\n",
    "\n",
    "**Note:** You **can't** use [TensorFlow Layers](https://www.tensorflow.org/api_docs/python/tf/layers) or [TensorFlow Layers (contrib)](https://www.tensorflow.org/api_guides/python/contrib.layers) for **this** layer, but you can still use TensorFlow's [Neural Network](https://www.tensorflow.org/api_docs/python/tf/nn) package. You may still use the shortcut option for all the **other** layers."
   ]
  },
  {
   "cell_type": "code",
   "execution_count": 11,
   "metadata": {},
   "outputs": [
    {
     "name": "stdout",
     "output_type": "stream",
     "text": [
      "ConvMax In (?, 32, 32, 5)\n",
      "ConvMax Out (?, 4, 4, 10)\n",
      "Tests Passed\n"
     ]
    }
   ],
   "source": [
    "def conv2d_maxpool(x_tensor, conv_num_outputs, conv_ksize, conv_strides, pool_ksize, pool_strides):\n",
    "    \"\"\"\n",
    "    Apply convolution then max pooling to x_tensor\n",
    "    :param x_tensor: TensorFlow Tensor\n",
    "    :param conv_num_outputs: Number of outputs for the convolutional layer\n",
    "    :param conv_ksize: kernal size 2-D Tuple for the convolutional layer\n",
    "    :param conv_strides: Stride 2-D Tuple for convolution\n",
    "    :param pool_ksize: kernal size 2-D Tuple for pool\n",
    "    :param pool_strides: Stride 2-D Tuple for pool\n",
    "    : return: A tensor that represents convolution and max pooling of x_tensor\n",
    "    \"\"\"\n",
    "    # TODO: Implement Function\n",
    "    print (\"ConvMax In\", x_tensor.get_shape())\n",
    "    x_depth = x_tensor.get_shape().as_list()[-1]\n",
    "    weight= tf.Variable(tf.truncated_normal([conv_ksize[0], conv_ksize[1], x_depth, conv_num_outputs],stddev=0.1))\n",
    "    bias = tf.Variable(tf.random_normal([conv_num_outputs]))\n",
    "    conv = tf.nn.conv2d(x_tensor, weight, [1, conv_strides[0], conv_strides[1], 1], 'SAME')\n",
    "    conv = tf.nn.bias_add(conv, bias)\n",
    "    conv = tf.nn.relu(conv)\n",
    "    conv = tf.nn.max_pool(conv,[1, pool_ksize[0], pool_ksize[1], 1],[1, pool_strides[0], pool_strides[1], 1],'SAME')\n",
    "    print (\"ConvMax Out\", conv.get_shape())\n",
    "    return conv \n",
    "\n",
    "\n",
    "\"\"\"\n",
    "DON'T MODIFY ANYTHING IN THIS CELL THAT IS BELOW THIS LINE\n",
    "\"\"\"\n",
    "tests.test_con_pool(conv2d_maxpool)"
   ]
  },
  {
   "cell_type": "markdown",
   "metadata": {},
   "source": [
    "### Flatten Layer\n",
    "Implement the `flatten` function to change the dimension of `x_tensor` from a 4-D tensor to a 2-D tensor.  The output should be the shape (*Batch Size*, *Flattened Image Size*). Shortcut option: you can use classes from the [TensorFlow Layers](https://www.tensorflow.org/api_docs/python/tf/layers) or [TensorFlow Layers (contrib)](https://www.tensorflow.org/api_guides/python/contrib.layers) packages for this layer. For more of a challenge, only use other TensorFlow packages."
   ]
  },
  {
   "cell_type": "code",
   "execution_count": 12,
   "metadata": {},
   "outputs": [
    {
     "name": "stdout",
     "output_type": "stream",
     "text": [
      "Flatten In [None, 10, 30, 6]\n",
      "Flatten Out (?, 1800)\n",
      "Tests Passed\n"
     ]
    }
   ],
   "source": [
    "def flatten(x_tensor):\n",
    "    \"\"\"\n",
    "    Flatten x_tensor to (Batch Size, Flattened Image Size)\n",
    "    : x_tensor: A tensor of size (Batch Size, ...), where ... are the image dimensions.\n",
    "    : return: A tensor of size (Batch Size, Flattened Image Size).\n",
    "    \"\"\"\n",
    "    # TODO: Implement Function\n",
    "    x_shape = x_tensor.get_shape().as_list()\n",
    "    print (\"Flatten In\", x_shape)\n",
    "    batch_size = x_shape[0] if x_shape[0] != None else -1\n",
    "    flattened_image_size = 1\n",
    "    for i in range(1, len(x_shape)):\n",
    "        flattened_image_size = flattened_image_size * x_shape[i]\n",
    "    ret = tf.reshape(x_tensor, (batch_size, flattened_image_size))\n",
    "    print (\"Flatten Out\", ret.get_shape())\n",
    "    return ret\n",
    "\n",
    "\"\"\"\n",
    "DON'T MODIFY ANYTHING IN THIS CELL THAT IS BELOW THIS LINE\n",
    "\"\"\"\n",
    "tests.test_flatten(flatten)"
   ]
  },
  {
   "cell_type": "markdown",
   "metadata": {},
   "source": [
    "### Fully-Connected Layer\n",
    "Implement the `fully_conn` function to apply a fully connected layer to `x_tensor` with the shape (*Batch Size*, *num_outputs*). Shortcut option: you can use classes from the [TensorFlow Layers](https://www.tensorflow.org/api_docs/python/tf/layers) or [TensorFlow Layers (contrib)](https://www.tensorflow.org/api_guides/python/contrib.layers) packages for this layer. For more of a challenge, only use other TensorFlow packages."
   ]
  },
  {
   "cell_type": "code",
   "execution_count": 13,
   "metadata": {},
   "outputs": [
    {
     "name": "stdout",
     "output_type": "stream",
     "text": [
      "FullyConn In [None, 128]\n",
      "FullyConn Out (?, 40)\n",
      "Tests Passed\n"
     ]
    }
   ],
   "source": [
    "def fully_conn(x_tensor, num_outputs):\n",
    "    \"\"\"\n",
    "    Apply a fully connected layer to x_tensor using weight and bias\n",
    "    : x_tensor: A 2-D tensor where the first dimension is batch size.\n",
    "    : num_outputs: The number of output that the new tensor should be.\n",
    "    : return: A 2-D tensor where the second dimension is num_outputs.\n",
    "    \"\"\"\n",
    "    # TODO: Implement Function\n",
    "    x_shape = x_tensor.get_shape().as_list()\n",
    "    print (\"FullyConn In\", x_shape)\n",
    "    weights = tf.Variable(tf.truncated_normal([x_shape[-1], num_outputs], stddev = 0.1))\n",
    "    bias    = tf.Variable(tf.random_normal([num_outputs]))\n",
    "    ret_tf  = tf.add(tf.matmul(x_tensor, weights), bias)\n",
    "    ret_tf  = tf.nn.relu(ret_tf)\n",
    "    print (\"FullyConn Out\", ret_tf.get_shape())\n",
    "    return ret_tf\n",
    "\n",
    "\n",
    "\"\"\"\n",
    "DON'T MODIFY ANYTHING IN THIS CELL THAT IS BELOW THIS LINE\n",
    "\"\"\"\n",
    "tests.test_fully_conn(fully_conn)"
   ]
  },
  {
   "cell_type": "markdown",
   "metadata": {},
   "source": [
    "### Output Layer\n",
    "Implement the `output` function to apply a fully connected layer to `x_tensor` with the shape (*Batch Size*, *num_outputs*). Shortcut option: you can use classes from the [TensorFlow Layers](https://www.tensorflow.org/api_docs/python/tf/layers) or [TensorFlow Layers (contrib)](https://www.tensorflow.org/api_guides/python/contrib.layers) packages for this layer. For more of a challenge, only use other TensorFlow packages.\n",
    "\n",
    "**Note:** Activation, softmax, or cross entropy should **not** be applied to this."
   ]
  },
  {
   "cell_type": "code",
   "execution_count": 14,
   "metadata": {},
   "outputs": [
    {
     "name": "stdout",
     "output_type": "stream",
     "text": [
      "Output In [None, 128]\n",
      "Output Out (?, 40)\n",
      "Tests Passed\n"
     ]
    }
   ],
   "source": [
    "def output(x_tensor, num_outputs):\n",
    "    \"\"\"\n",
    "    Apply a output layer to x_tensor using weight and bias\n",
    "    : x_tensor: A 2-D tensor where the first dimension is batch size.\n",
    "    : num_outputs: The number of output that the new tensor should be.\n",
    "    : return: A 2-D tensor where the second dimension is num_outputs.\n",
    "    \"\"\"\n",
    "    # TODO: Implement Function\n",
    "    x_shape = x_tensor.get_shape().as_list()\n",
    "    print (\"Output In\", x_shape)\n",
    "    weights = tf.Variable(tf.truncated_normal([x_shape[-1], num_outputs], stddev = 0.1))\n",
    "    bias    = tf.Variable(tf.random_normal([num_outputs]))\n",
    "    ret_tf  = tf.add(tf.matmul(x_tensor, weights), bias)\n",
    "    #ret_tf  = tf.nn.relu(ret_tf)\n",
    "    print (\"Output Out\", ret_tf.get_shape())\n",
    "    return ret_tf\n",
    "\n",
    "\n",
    "\"\"\"\n",
    "DON'T MODIFY ANYTHING IN THIS CELL THAT IS BELOW THIS LINE\n",
    "\"\"\"\n",
    "tests.test_output(output)"
   ]
  },
  {
   "cell_type": "markdown",
   "metadata": {},
   "source": [
    "### Create Convolutional Model\n",
    "Implement the function `conv_net` to create a convolutional neural network model. The function takes in a batch of images, `x`, and outputs logits.  Use the layers you created above to create this model:\n",
    "\n",
    "* Apply 1, 2, or 3 Convolution and Max Pool layers\n",
    "* Apply a Flatten Layer\n",
    "* Apply 1, 2, or 3 Fully Connected Layers\n",
    "* Apply an Output Layer\n",
    "* Return the output\n",
    "* Apply [TensorFlow's Dropout](https://www.tensorflow.org/api_docs/python/tf/nn/dropout) to one or more layers in the model using `keep_prob`. "
   ]
  },
  {
   "cell_type": "code",
   "execution_count": 15,
   "metadata": {},
   "outputs": [
    {
     "name": "stdout",
     "output_type": "stream",
     "text": [
      "ConvMax In (?, 32, 32, 3)\n",
      "ConvMax Out (?, 16, 16, 64)\n",
      "Flatten In [None, 16, 16, 64]\n",
      "Flatten Out (?, 16384)\n",
      "FullyConn In [None, 16384]\n",
      "FullyConn Out (?, 600)\n",
      "FullyConn In [None, 600]\n",
      "FullyConn Out (?, 80)\n",
      "Output In [None, 80]\n",
      "Output Out (?, 10)\n",
      "ConvMax In (?, 32, 32, 3)\n",
      "ConvMax Out (?, 16, 16, 64)\n",
      "Flatten In [None, 16, 16, 64]\n",
      "Flatten Out (?, 16384)\n",
      "FullyConn In [None, 16384]\n",
      "FullyConn Out (?, 600)\n",
      "FullyConn In [None, 600]\n",
      "FullyConn Out (?, 80)\n",
      "Output In [None, 80]\n",
      "Output Out (?, 10)\n",
      "Neural Network Built!\n"
     ]
    }
   ],
   "source": [
    "def conv_net(x, keep_prob):\n",
    "    \"\"\"\n",
    "    Create a convolutional neural network model\n",
    "    : x: Placeholder tensor that holds image data.\n",
    "    : keep_prob: Placeholder tensor that hold dropout keep probability.\n",
    "    : return: Tensor that represents logits\n",
    "    \"\"\"\n",
    "    # TODO: Apply 1, 2, or 3 Convolution and Max Pool layers\n",
    "    #    Play around with different number of outputs, kernel size and stride\n",
    "    # Function Definition from Above:\n",
    "    #    conv2d_maxpool(x_tensor, conv_num_outputs, conv_ksize, conv_strides, pool_ksize, pool_strides)\n",
    "    convmax = conv2d_maxpool(x, 64, (8,8), (2,2), (4,4), (1,1))\n",
    "\n",
    "    # TODO: Apply a Flatten Layer\n",
    "    # Function Definition from Above:\n",
    "    #   flatten(x_tensor)\n",
    "    flat = flatten(convmax)\n",
    "    \n",
    "    # TODO: Apply 1, 2, or 3 Fully Connected Layers\n",
    "    #    Play around with different number of outputs\n",
    "    # Function Definition from Above:\n",
    "    #   fully_conn(x_tensor, num_outputs)\n",
    "    fullyconn = fully_conn(flat, 600)\n",
    "    drop = tf.nn.dropout(fullyconn, keep_prob)\n",
    "    fullyconn = fully_conn(drop, 80)\n",
    "    drop = tf.nn.dropout(fullyconn, keep_prob)\n",
    "    \n",
    "    # TODO: Apply an Output Layer\n",
    "    #    Set this to the number of classes\n",
    "    # Function Definition from Above:\n",
    "    #   output(x_tensor, num_outputs)\n",
    "    return output(drop, 10)\n",
    "    \n",
    "    \n",
    "    # TODO: return output\n",
    "    return None\n",
    "\n",
    "\n",
    "\"\"\"\n",
    "DON'T MODIFY ANYTHING IN THIS CELL THAT IS BELOW THIS LINE\n",
    "\"\"\"\n",
    "\n",
    "##############################\n",
    "## Build the Neural Network ##\n",
    "##############################\n",
    "\n",
    "# Remove previous weights, bias, inputs, etc..\n",
    "tf.reset_default_graph()\n",
    "\n",
    "# Inputs\n",
    "x = neural_net_image_input((32, 32, 3))\n",
    "y = neural_net_label_input(10)\n",
    "keep_prob = neural_net_keep_prob_input()\n",
    "\n",
    "# Model\n",
    "logits = conv_net(x, keep_prob)\n",
    "\n",
    "# Name logits Tensor, so that is can be loaded from disk after training\n",
    "logits = tf.identity(logits, name='logits')\n",
    "\n",
    "# Loss and Optimizer\n",
    "cost = tf.reduce_mean(tf.nn.softmax_cross_entropy_with_logits(logits=logits, labels=y))\n",
    "optimizer = tf.train.AdamOptimizer().minimize(cost)\n",
    "\n",
    "# Accuracy\n",
    "correct_pred = tf.equal(tf.argmax(logits, 1), tf.argmax(y, 1))\n",
    "accuracy = tf.reduce_mean(tf.cast(correct_pred, tf.float32), name='accuracy')\n",
    "\n",
    "tests.test_conv_net(conv_net)"
   ]
  },
  {
   "cell_type": "markdown",
   "metadata": {},
   "source": [
    "## Train the Neural Network\n",
    "### Single Optimization\n",
    "Implement the function `train_neural_network` to do a single optimization.  The optimization should use `optimizer` to optimize in `session` with a `feed_dict` of the following:\n",
    "* `x` for image input\n",
    "* `y` for labels\n",
    "* `keep_prob` for keep probability for dropout\n",
    "\n",
    "This function will be called for each batch, so `tf.global_variables_initializer()` has already been called.\n",
    "\n",
    "Note: Nothing needs to be returned. This function is only optimizing the neural network."
   ]
  },
  {
   "cell_type": "code",
   "execution_count": 23,
   "metadata": {},
   "outputs": [
    {
     "name": "stdout",
     "output_type": "stream",
     "text": [
      "Tests Passed\n"
     ]
    }
   ],
   "source": [
    "def train_neural_network(session, optimizer, keep_probability, feature_batch, label_batch):\n",
    "    \"\"\"\n",
    "    Optimize the session on a batch of images and labels\n",
    "    : session: Current TensorFlow session\n",
    "    : optimizer: TensorFlow optimizer function\n",
    "    : keep_probability: keep probability\n",
    "    : feature_batch: Batch of Numpy image data\n",
    "    : label_batch: Batch of Numpy label data\n",
    "    \"\"\"\n",
    "    # TODO: Implement Function\n",
    "    session.run(optimizer, feed_dict={x: feature_batch, y: label_batch, keep_prob: keep_probability})\n",
    "\n",
    "\n",
    "\"\"\"\n",
    "DON'T MODIFY ANYTHING IN THIS CELL THAT IS BELOW THIS LINE\n",
    "\"\"\"\n",
    "tests.test_train_nn(train_neural_network)"
   ]
  },
  {
   "cell_type": "markdown",
   "metadata": {},
   "source": [
    "### Show Stats\n",
    "Implement the function `print_stats` to print loss and validation accuracy.  Use the global variables `valid_features` and `valid_labels` to calculate validation accuracy.  Use a keep probability of `1.0` to calculate the loss and validation accuracy."
   ]
  },
  {
   "cell_type": "code",
   "execution_count": 24,
   "metadata": {
    "collapsed": true
   },
   "outputs": [],
   "source": [
    "def print_stats(session, feature_batch, label_batch, cost, accuracy):\n",
    "    \"\"\"\n",
    "    Print information about loss and validation accuracy\n",
    "    : session: Current TensorFlow session\n",
    "    : feature_batch: Batch of Numpy image data\n",
    "    : label_batch: Batch of Numpy label data\n",
    "    : cost: TensorFlow cost function\n",
    "    : accuracy: TensorFlow accuracy function\n",
    "    \"\"\"\n",
    "    # TODO: Implement Function\n",
    "    loss = session.run(cost, feed_dict={x: feature_batch, y: label_batch, keep_prob: 1.0})\n",
    "    valid_accuracy = session.run(accuracy, feed_dict={x: valid_features, y: valid_labels, keep_prob: 1.0})\n",
    "    print('Loss = {0} and Validation Accuracy = {1}'.format(loss, valid_accuracy))"
   ]
  },
  {
   "cell_type": "markdown",
   "metadata": {},
   "source": [
    "### Hyperparameters\n",
    "Tune the following parameters:\n",
    "* Set `epochs` to the number of iterations until the network stops learning or start overfitting\n",
    "* Set `batch_size` to the highest number that your machine has memory for.  Most people set them to common sizes of memory:\n",
    " * 64\n",
    " * 128\n",
    " * 256\n",
    " * ...\n",
    "* Set `keep_probability` to the probability of keeping a node using dropout"
   ]
  },
  {
   "cell_type": "code",
   "execution_count": 27,
   "metadata": {
    "collapsed": true
   },
   "outputs": [],
   "source": [
    "# TODO: Tune Parameters\n",
    "epochs = 45\n",
    "batch_size = 512\n",
    "keep_probability = 0.5"
   ]
  },
  {
   "cell_type": "markdown",
   "metadata": {},
   "source": [
    "### Train on a Single CIFAR-10 Batch\n",
    "Instead of training the neural network on all the CIFAR-10 batches of data, let's use a single batch. This should save time while you iterate on the model to get a better accuracy.  Once the final validation accuracy is 50% or greater, run the model on all the data in the next section."
   ]
  },
  {
   "cell_type": "code",
   "execution_count": 29,
   "metadata": {},
   "outputs": [
    {
     "name": "stdout",
     "output_type": "stream",
     "text": [
      "Checking the Training on a Single Batch...\n",
      "45\n",
      "Epoch  1, CIFAR-10 Batch 1:  Loss = 2.714409112930298 and Validation Accuracy = 0.0997999981045723\n",
      "Epoch  2, CIFAR-10 Batch 1:  Loss = 2.702918529510498 and Validation Accuracy = 0.0997999981045723\n",
      "Epoch  3, CIFAR-10 Batch 1:  Loss = 2.68631649017334 and Validation Accuracy = 0.1005999967455864\n",
      "Epoch  4, CIFAR-10 Batch 1:  Loss = 2.653907537460327 and Validation Accuracy = 0.10899999737739563\n",
      "Epoch  5, CIFAR-10 Batch 1:  Loss = 2.4161806106567383 and Validation Accuracy = 0.14980000257492065\n",
      "Epoch  6, CIFAR-10 Batch 1:  Loss = 2.3009116649627686 and Validation Accuracy = 0.15919999778270721\n",
      "Epoch  7, CIFAR-10 Batch 1:  Loss = 2.2251298427581787 and Validation Accuracy = 0.21979999542236328\n",
      "Epoch  8, CIFAR-10 Batch 1:  Loss = 2.1258487701416016 and Validation Accuracy = 0.2280000001192093\n",
      "Epoch  9, CIFAR-10 Batch 1:  Loss = 2.033878803253174 and Validation Accuracy = 0.27379998564720154\n",
      "Epoch 10, CIFAR-10 Batch 1:  Loss = 2.0220019817352295 and Validation Accuracy = 0.27619999647140503\n",
      "Epoch 11, CIFAR-10 Batch 1:  Loss = 1.9375813007354736 and Validation Accuracy = 0.31200000643730164\n",
      "Epoch 12, CIFAR-10 Batch 1:  Loss = 1.9159280061721802 and Validation Accuracy = 0.3147999942302704\n",
      "Epoch 13, CIFAR-10 Batch 1:  Loss = 1.8547120094299316 and Validation Accuracy = 0.3353999853134155\n",
      "Epoch 14, CIFAR-10 Batch 1:  Loss = 1.865557312965393 and Validation Accuracy = 0.3474000096321106\n",
      "Epoch 15, CIFAR-10 Batch 1:  Loss = 1.7672871351242065 and Validation Accuracy = 0.36800000071525574\n",
      "Epoch 16, CIFAR-10 Batch 1:  Loss = 1.721395492553711 and Validation Accuracy = 0.387800008058548\n",
      "Epoch 17, CIFAR-10 Batch 1:  Loss = 1.741246223449707 and Validation Accuracy = 0.3831999897956848\n",
      "Epoch 18, CIFAR-10 Batch 1:  Loss = 1.6401211023330688 and Validation Accuracy = 0.41260001063346863\n",
      "Epoch 19, CIFAR-10 Batch 1:  Loss = 1.6685912609100342 and Validation Accuracy = 0.4092000126838684\n",
      "Epoch 20, CIFAR-10 Batch 1:  Loss = 1.5938656330108643 and Validation Accuracy = 0.41280001401901245\n",
      "Epoch 21, CIFAR-10 Batch 1:  Loss = 1.528032898902893 and Validation Accuracy = 0.43799999356269836\n",
      "Epoch 22, CIFAR-10 Batch 1:  Loss = 1.5460964441299438 and Validation Accuracy = 0.4334000051021576\n",
      "Epoch 23, CIFAR-10 Batch 1:  Loss = 1.4909207820892334 and Validation Accuracy = 0.44839999079704285\n",
      "Epoch 24, CIFAR-10 Batch 1:  Loss = 1.4751423597335815 and Validation Accuracy = 0.4505999982357025\n",
      "Epoch 25, CIFAR-10 Batch 1:  Loss = 1.4314144849777222 and Validation Accuracy = 0.46639999747276306\n",
      "Epoch 26, CIFAR-10 Batch 1:  Loss = 1.4116885662078857 and Validation Accuracy = 0.4580000042915344\n",
      "Epoch 27, CIFAR-10 Batch 1:  Loss = 1.3772817850112915 and Validation Accuracy = 0.4715999960899353\n",
      "Epoch 28, CIFAR-10 Batch 1:  Loss = 1.325887680053711 and Validation Accuracy = 0.4758000075817108\n",
      "Epoch 29, CIFAR-10 Batch 1:  Loss = 1.409541368484497 and Validation Accuracy = 0.4620000123977661\n",
      "Epoch 30, CIFAR-10 Batch 1:  Loss = 1.3093883991241455 and Validation Accuracy = 0.47540000081062317\n",
      "Epoch 31, CIFAR-10 Batch 1:  Loss = 1.2614330053329468 and Validation Accuracy = 0.4943999946117401\n",
      "Epoch 32, CIFAR-10 Batch 1:  Loss = 1.250693678855896 and Validation Accuracy = 0.48840001225471497\n",
      "Epoch 33, CIFAR-10 Batch 1:  Loss = 1.225188970565796 and Validation Accuracy = 0.4819999933242798\n",
      "Epoch 34, CIFAR-10 Batch 1:  Loss = 1.1764546632766724 and Validation Accuracy = 0.5005999803543091\n",
      "Epoch 35, CIFAR-10 Batch 1:  Loss = 1.1600896120071411 and Validation Accuracy = 0.5004000067710876\n",
      "Epoch 36, CIFAR-10 Batch 1:  Loss = 1.144994854927063 and Validation Accuracy = 0.49720001220703125\n",
      "Epoch 37, CIFAR-10 Batch 1:  Loss = 1.1222455501556396 and Validation Accuracy = 0.5070000290870667\n",
      "Epoch 38, CIFAR-10 Batch 1:  Loss = 1.1144746541976929 and Validation Accuracy = 0.4986000061035156\n",
      "Epoch 39, CIFAR-10 Batch 1:  Loss = 1.0441806316375732 and Validation Accuracy = 0.5116000175476074\n",
      "Epoch 40, CIFAR-10 Batch 1:  Loss = 1.0218617916107178 and Validation Accuracy = 0.525600016117096\n",
      "Epoch 41, CIFAR-10 Batch 1:  Loss = 0.991119384765625 and Validation Accuracy = 0.5293999910354614\n",
      "Epoch 42, CIFAR-10 Batch 1:  Loss = 0.981381893157959 and Validation Accuracy = 0.5275999903678894\n",
      "Epoch 43, CIFAR-10 Batch 1:  Loss = 0.9507173299789429 and Validation Accuracy = 0.5368000268936157\n",
      "Epoch 44, CIFAR-10 Batch 1:  Loss = 0.9244941473007202 and Validation Accuracy = 0.5315999984741211\n",
      "Epoch 45, CIFAR-10 Batch 1:  Loss = 0.9064875245094299 and Validation Accuracy = 0.5234000086784363\n"
     ]
    }
   ],
   "source": [
    "\"\"\"\n",
    "DON'T MODIFY ANYTHING IN THIS CELL\n",
    "\"\"\"\n",
    "print('Checking the Training on a Single Batch...')\n",
    "with tf.Session() as sess:\n",
    "    # Initializing the variables\n",
    "    sess.run(tf.global_variables_initializer())\n",
    "    \n",
    "    # Training cycle\n",
    "    print (epochs)\n",
    "    for epoch in range(epochs):\n",
    "        batch_i = 1\n",
    "        for batch_features, batch_labels in helper.load_preprocess_training_batch(batch_i, batch_size):\n",
    "            train_neural_network(sess, optimizer, keep_probability, batch_features, batch_labels)\n",
    "        print('Epoch {:>2}, CIFAR-10 Batch {}:  '.format(epoch + 1, batch_i), end='')\n",
    "        print_stats(sess, batch_features, batch_labels, cost, accuracy)"
   ]
  },
  {
   "cell_type": "markdown",
   "metadata": {},
   "source": [
    "### Fully Train the Model\n",
    "Now that you got a good accuracy with a single CIFAR-10 batch, try it with all five batches."
   ]
  },
  {
   "cell_type": "code",
   "execution_count": 31,
   "metadata": {},
   "outputs": [
    {
     "name": "stdout",
     "output_type": "stream",
     "text": [
      "Training...\n",
      "Epoch  1, CIFAR-10 Batch 1:  Loss = 2.800999879837036 and Validation Accuracy = 0.0997999981045723\n",
      "Epoch  1, CIFAR-10 Batch 2:  Loss = 2.6728475093841553 and Validation Accuracy = 0.10100000351667404\n",
      "Epoch  1, CIFAR-10 Batch 3:  Loss = 2.521149158477783 and Validation Accuracy = 0.10899999737739563\n",
      "Epoch  1, CIFAR-10 Batch 4:  Loss = 2.3303167819976807 and Validation Accuracy = 0.15700000524520874\n",
      "Epoch  1, CIFAR-10 Batch 5:  Loss = 2.1405866146087646 and Validation Accuracy = 0.20160000026226044\n",
      "Epoch  2, CIFAR-10 Batch 1:  Loss = 2.129241466522217 and Validation Accuracy = 0.24240000545978546\n",
      "Epoch  2, CIFAR-10 Batch 2:  Loss = 2.0775723457336426 and Validation Accuracy = 0.243599995970726\n",
      "Epoch  2, CIFAR-10 Batch 3:  Loss = 2.065932035446167 and Validation Accuracy = 0.2370000034570694\n",
      "Epoch  2, CIFAR-10 Batch 4:  Loss = 1.969041109085083 and Validation Accuracy = 0.2809999883174896\n",
      "Epoch  2, CIFAR-10 Batch 5:  Loss = 1.8895936012268066 and Validation Accuracy = 0.29679998755455017\n",
      "Epoch  3, CIFAR-10 Batch 1:  Loss = 1.9290494918823242 and Validation Accuracy = 0.3269999921321869\n",
      "Epoch  3, CIFAR-10 Batch 2:  Loss = 1.8910588026046753 and Validation Accuracy = 0.2948000133037567\n",
      "Epoch  3, CIFAR-10 Batch 3:  Loss = 1.7620445489883423 and Validation Accuracy = 0.34380000829696655\n",
      "Epoch  3, CIFAR-10 Batch 4:  Loss = 1.7004019021987915 and Validation Accuracy = 0.3386000096797943\n",
      "Epoch  3, CIFAR-10 Batch 5:  Loss = 1.7007097005844116 and Validation Accuracy = 0.3668000102043152\n",
      "Epoch  4, CIFAR-10 Batch 1:  Loss = 1.7858355045318604 and Validation Accuracy = 0.39500001072883606\n",
      "Epoch  4, CIFAR-10 Batch 2:  Loss = 1.7184664011001587 and Validation Accuracy = 0.3790000081062317\n",
      "Epoch  4, CIFAR-10 Batch 3:  Loss = 1.630719780921936 and Validation Accuracy = 0.38420000672340393\n",
      "Epoch  4, CIFAR-10 Batch 4:  Loss = 1.5702881813049316 and Validation Accuracy = 0.3880000114440918\n",
      "Epoch  4, CIFAR-10 Batch 5:  Loss = 1.6163992881774902 and Validation Accuracy = 0.3846000134944916\n",
      "Epoch  5, CIFAR-10 Batch 1:  Loss = 1.690342664718628 and Validation Accuracy = 0.4498000144958496\n",
      "Epoch  5, CIFAR-10 Batch 2:  Loss = 1.6356921195983887 and Validation Accuracy = 0.42260000109672546\n",
      "Epoch  5, CIFAR-10 Batch 3:  Loss = 1.5297634601593018 and Validation Accuracy = 0.40959998965263367\n",
      "Epoch  5, CIFAR-10 Batch 4:  Loss = 1.468292474746704 and Validation Accuracy = 0.43320000171661377\n",
      "Epoch  5, CIFAR-10 Batch 5:  Loss = 1.51227605342865 and Validation Accuracy = 0.4440000057220459\n",
      "Epoch  6, CIFAR-10 Batch 1:  Loss = 1.6285228729248047 and Validation Accuracy = 0.44920000433921814\n",
      "Epoch  6, CIFAR-10 Batch 2:  Loss = 1.5330384969711304 and Validation Accuracy = 0.45579999685287476\n",
      "Epoch  6, CIFAR-10 Batch 3:  Loss = 1.4464473724365234 and Validation Accuracy = 0.4480000138282776\n",
      "Epoch  6, CIFAR-10 Batch 4:  Loss = 1.4057769775390625 and Validation Accuracy = 0.4634000062942505\n",
      "Epoch  6, CIFAR-10 Batch 5:  Loss = 1.4221816062927246 and Validation Accuracy = 0.46799999475479126\n",
      "Epoch  7, CIFAR-10 Batch 1:  Loss = 1.5497593879699707 and Validation Accuracy = 0.48080000281333923\n",
      "Epoch  7, CIFAR-10 Batch 2:  Loss = 1.4612804651260376 and Validation Accuracy = 0.46540001034736633\n",
      "Epoch  7, CIFAR-10 Batch 3:  Loss = 1.3862581253051758 and Validation Accuracy = 0.4668000042438507\n",
      "Epoch  7, CIFAR-10 Batch 4:  Loss = 1.3543429374694824 and Validation Accuracy = 0.4717999994754791\n",
      "Epoch  7, CIFAR-10 Batch 5:  Loss = 1.3978215456008911 and Validation Accuracy = 0.4896000027656555\n",
      "Epoch  8, CIFAR-10 Batch 1:  Loss = 1.4814918041229248 and Validation Accuracy = 0.4869999885559082\n",
      "Epoch  8, CIFAR-10 Batch 2:  Loss = 1.4329864978790283 and Validation Accuracy = 0.4837999939918518\n",
      "Epoch  8, CIFAR-10 Batch 3:  Loss = 1.34114408493042 and Validation Accuracy = 0.49160000681877136\n",
      "Epoch  8, CIFAR-10 Batch 4:  Loss = 1.3062652349472046 and Validation Accuracy = 0.4878000020980835\n",
      "Epoch  8, CIFAR-10 Batch 5:  Loss = 1.3777767419815063 and Validation Accuracy = 0.4893999993801117\n",
      "Epoch  9, CIFAR-10 Batch 1:  Loss = 1.4258549213409424 and Validation Accuracy = 0.4973999857902527\n",
      "Epoch  9, CIFAR-10 Batch 2:  Loss = 1.4183303117752075 and Validation Accuracy = 0.4708000123500824\n",
      "Epoch  9, CIFAR-10 Batch 3:  Loss = 1.2862972021102905 and Validation Accuracy = 0.4957999885082245\n",
      "Epoch  9, CIFAR-10 Batch 4:  Loss = 1.2332817316055298 and Validation Accuracy = 0.5109999775886536\n",
      "Epoch  9, CIFAR-10 Batch 5:  Loss = 1.2832918167114258 and Validation Accuracy = 0.5138000249862671\n",
      "Epoch 10, CIFAR-10 Batch 1:  Loss = 1.3762571811676025 and Validation Accuracy = 0.5194000005722046\n",
      "Epoch 10, CIFAR-10 Batch 2:  Loss = 1.336008906364441 and Validation Accuracy = 0.5044000148773193\n",
      "Epoch 10, CIFAR-10 Batch 3:  Loss = 1.241860270500183 and Validation Accuracy = 0.4941999912261963\n",
      "Epoch 10, CIFAR-10 Batch 4:  Loss = 1.2253531217575073 and Validation Accuracy = 0.5228000283241272\n",
      "Epoch 10, CIFAR-10 Batch 5:  Loss = 1.2489335536956787 and Validation Accuracy = 0.5260000228881836\n",
      "Epoch 11, CIFAR-10 Batch 1:  Loss = 1.3719428777694702 and Validation Accuracy = 0.5210000276565552\n",
      "Epoch 11, CIFAR-10 Batch 2:  Loss = 1.3308542966842651 and Validation Accuracy = 0.4957999885082245\n",
      "Epoch 11, CIFAR-10 Batch 3:  Loss = 1.212643027305603 and Validation Accuracy = 0.4912000000476837\n",
      "Epoch 11, CIFAR-10 Batch 4:  Loss = 1.169749140739441 and Validation Accuracy = 0.5311999917030334\n",
      "Epoch 11, CIFAR-10 Batch 5:  Loss = 1.2166111469268799 and Validation Accuracy = 0.5249999761581421\n",
      "Epoch 12, CIFAR-10 Batch 1:  Loss = 1.3026235103607178 and Validation Accuracy = 0.5314000248908997\n",
      "Epoch 12, CIFAR-10 Batch 2:  Loss = 1.273229718208313 and Validation Accuracy = 0.5203999876976013\n",
      "Epoch 12, CIFAR-10 Batch 3:  Loss = 1.1317791938781738 and Validation Accuracy = 0.5370000004768372\n",
      "Epoch 12, CIFAR-10 Batch 4:  Loss = 1.1299949884414673 and Validation Accuracy = 0.5425999760627747\n",
      "Epoch 12, CIFAR-10 Batch 5:  Loss = 1.1754919290542603 and Validation Accuracy = 0.5368000268936157\n",
      "Epoch 13, CIFAR-10 Batch 1:  Loss = 1.258999228477478 and Validation Accuracy = 0.5486000180244446\n",
      "Epoch 13, CIFAR-10 Batch 2:  Loss = 1.2400182485580444 and Validation Accuracy = 0.5131999850273132\n",
      "Epoch 13, CIFAR-10 Batch 3:  Loss = 1.0851918458938599 and Validation Accuracy = 0.5194000005722046\n",
      "Epoch 13, CIFAR-10 Batch 4:  Loss = 1.1336407661437988 and Validation Accuracy = 0.548799991607666\n",
      "Epoch 13, CIFAR-10 Batch 5:  Loss = 1.1438120603561401 and Validation Accuracy = 0.5486000180244446\n",
      "Epoch 14, CIFAR-10 Batch 1:  Loss = 1.247780203819275 and Validation Accuracy = 0.5533999800682068\n",
      "Epoch 14, CIFAR-10 Batch 2:  Loss = 1.1859933137893677 and Validation Accuracy = 0.5368000268936157\n",
      "Epoch 14, CIFAR-10 Batch 3:  Loss = 1.0821808576583862 and Validation Accuracy = 0.5446000099182129\n",
      "Epoch 14, CIFAR-10 Batch 4:  Loss = 1.0706864595413208 and Validation Accuracy = 0.5605999827384949\n",
      "Epoch 14, CIFAR-10 Batch 5:  Loss = 1.1124624013900757 and Validation Accuracy = 0.5529999732971191\n",
      "Epoch 15, CIFAR-10 Batch 1:  Loss = 1.2018896341323853 and Validation Accuracy = 0.5609999895095825\n",
      "Epoch 15, CIFAR-10 Batch 2:  Loss = 1.1411759853363037 and Validation Accuracy = 0.5468000173568726\n",
      "Epoch 15, CIFAR-10 Batch 3:  Loss = 1.0488102436065674 and Validation Accuracy = 0.551800012588501\n",
      "Epoch 15, CIFAR-10 Batch 4:  Loss = 1.0593830347061157 and Validation Accuracy = 0.5582000017166138\n",
      "Epoch 15, CIFAR-10 Batch 5:  Loss = 1.0657153129577637 and Validation Accuracy = 0.5559999942779541\n",
      "Epoch 16, CIFAR-10 Batch 1:  Loss = 1.153987169265747 and Validation Accuracy = 0.5753999948501587\n",
      "Epoch 16, CIFAR-10 Batch 2:  Loss = 1.089840292930603 and Validation Accuracy = 0.5676000118255615\n",
      "Epoch 16, CIFAR-10 Batch 3:  Loss = 1.0430351495742798 and Validation Accuracy = 0.5526000261306763\n",
      "Epoch 16, CIFAR-10 Batch 4:  Loss = 1.0464215278625488 and Validation Accuracy = 0.5655999779701233\n",
      "Epoch 16, CIFAR-10 Batch 5:  Loss = 1.0401338338851929 and Validation Accuracy = 0.5641999840736389\n",
      "Epoch 17, CIFAR-10 Batch 1:  Loss = 1.1315155029296875 and Validation Accuracy = 0.5703999996185303\n",
      "Epoch 17, CIFAR-10 Batch 2:  Loss = 1.0603301525115967 and Validation Accuracy = 0.5717999935150146\n"
     ]
    },
    {
     "name": "stdout",
     "output_type": "stream",
     "text": [
      "Epoch 17, CIFAR-10 Batch 3:  Loss = 0.9731886386871338 and Validation Accuracy = 0.5667999982833862\n",
      "Epoch 17, CIFAR-10 Batch 4:  Loss = 0.994380533695221 and Validation Accuracy = 0.5809999704360962\n",
      "Epoch 17, CIFAR-10 Batch 5:  Loss = 0.9990834593772888 and Validation Accuracy = 0.5690000057220459\n",
      "Epoch 18, CIFAR-10 Batch 1:  Loss = 1.0930507183074951 and Validation Accuracy = 0.5825999975204468\n",
      "Epoch 18, CIFAR-10 Batch 2:  Loss = 1.0157781839370728 and Validation Accuracy = 0.5789999961853027\n",
      "Epoch 18, CIFAR-10 Batch 3:  Loss = 0.9621659517288208 and Validation Accuracy = 0.579800009727478\n",
      "Epoch 18, CIFAR-10 Batch 4:  Loss = 0.9559503793716431 and Validation Accuracy = 0.5914000272750854\n",
      "Epoch 18, CIFAR-10 Batch 5:  Loss = 0.9867962002754211 and Validation Accuracy = 0.5821999907493591\n",
      "Epoch 19, CIFAR-10 Batch 1:  Loss = 1.0825504064559937 and Validation Accuracy = 0.5860000252723694\n",
      "Epoch 19, CIFAR-10 Batch 2:  Loss = 1.0312212705612183 and Validation Accuracy = 0.5735999941825867\n",
      "Epoch 19, CIFAR-10 Batch 3:  Loss = 0.9636058211326599 and Validation Accuracy = 0.5807999968528748\n",
      "Epoch 19, CIFAR-10 Batch 4:  Loss = 0.9485710859298706 and Validation Accuracy = 0.5911999940872192\n",
      "Epoch 19, CIFAR-10 Batch 5:  Loss = 0.9729766845703125 and Validation Accuracy = 0.5838000178337097\n",
      "Epoch 20, CIFAR-10 Batch 1:  Loss = 1.031743049621582 and Validation Accuracy = 0.6014000177383423\n",
      "Epoch 20, CIFAR-10 Batch 2:  Loss = 0.9796493053436279 and Validation Accuracy = 0.5766000151634216\n",
      "Epoch 20, CIFAR-10 Batch 3:  Loss = 0.9001217484474182 and Validation Accuracy = 0.5971999764442444\n",
      "Epoch 20, CIFAR-10 Batch 4:  Loss = 0.9291017651557922 and Validation Accuracy = 0.605400025844574\n",
      "Epoch 20, CIFAR-10 Batch 5:  Loss = 0.9413225054740906 and Validation Accuracy = 0.5842000246047974\n",
      "Epoch 21, CIFAR-10 Batch 1:  Loss = 0.9973140358924866 and Validation Accuracy = 0.6055999994277954\n",
      "Epoch 21, CIFAR-10 Batch 2:  Loss = 0.9507081508636475 and Validation Accuracy = 0.5968000292778015\n",
      "Epoch 21, CIFAR-10 Batch 3:  Loss = 0.8907941579818726 and Validation Accuracy = 0.6047999858856201\n",
      "Epoch 21, CIFAR-10 Batch 4:  Loss = 0.9313663840293884 and Validation Accuracy = 0.6061999797821045\n",
      "Epoch 21, CIFAR-10 Batch 5:  Loss = 0.9060831665992737 and Validation Accuracy = 0.5979999899864197\n",
      "Epoch 22, CIFAR-10 Batch 1:  Loss = 0.9798767566680908 and Validation Accuracy = 0.6021999716758728\n",
      "Epoch 22, CIFAR-10 Batch 2:  Loss = 0.9485613703727722 and Validation Accuracy = 0.5860000252723694\n",
      "Epoch 22, CIFAR-10 Batch 3:  Loss = 0.8772729635238647 and Validation Accuracy = 0.5971999764442444\n",
      "Epoch 22, CIFAR-10 Batch 4:  Loss = 0.8939932584762573 and Validation Accuracy = 0.6025999784469604\n",
      "Epoch 22, CIFAR-10 Batch 5:  Loss = 0.9157071709632874 and Validation Accuracy = 0.5974000096321106\n",
      "Epoch 23, CIFAR-10 Batch 1:  Loss = 0.9750726222991943 and Validation Accuracy = 0.6055999994277954\n",
      "Epoch 23, CIFAR-10 Batch 2:  Loss = 0.9364960193634033 and Validation Accuracy = 0.6014000177383423\n",
      "Epoch 23, CIFAR-10 Batch 3:  Loss = 0.8673727512359619 and Validation Accuracy = 0.5983999967575073\n",
      "Epoch 23, CIFAR-10 Batch 4:  Loss = 0.8601030111312866 and Validation Accuracy = 0.6169999837875366\n",
      "Epoch 23, CIFAR-10 Batch 5:  Loss = 0.8983466625213623 and Validation Accuracy = 0.5929999947547913\n",
      "Epoch 24, CIFAR-10 Batch 1:  Loss = 0.9355779886245728 and Validation Accuracy = 0.6140000224113464\n",
      "Epoch 24, CIFAR-10 Batch 2:  Loss = 0.8825652599334717 and Validation Accuracy = 0.6014000177383423\n",
      "Epoch 24, CIFAR-10 Batch 3:  Loss = 0.8517388701438904 and Validation Accuracy = 0.6069999933242798\n",
      "Epoch 24, CIFAR-10 Batch 4:  Loss = 0.8232347965240479 and Validation Accuracy = 0.6168000102043152\n",
      "Epoch 24, CIFAR-10 Batch 5:  Loss = 0.8663997054100037 and Validation Accuracy = 0.6029999852180481\n",
      "Epoch 25, CIFAR-10 Batch 1:  Loss = 0.9282224774360657 and Validation Accuracy = 0.6111999750137329\n",
      "Epoch 25, CIFAR-10 Batch 2:  Loss = 0.8958938121795654 and Validation Accuracy = 0.6123999953269958\n",
      "Epoch 25, CIFAR-10 Batch 3:  Loss = 0.7971311807632446 and Validation Accuracy = 0.6144000291824341\n",
      "Epoch 25, CIFAR-10 Batch 4:  Loss = 0.8236284852027893 and Validation Accuracy = 0.6179999709129333\n",
      "Epoch 25, CIFAR-10 Batch 5:  Loss = 0.8426036238670349 and Validation Accuracy = 0.6177999973297119\n",
      "Epoch 26, CIFAR-10 Batch 1:  Loss = 0.8533464670181274 and Validation Accuracy = 0.6258000135421753\n",
      "Epoch 26, CIFAR-10 Batch 2:  Loss = 0.8618022799491882 and Validation Accuracy = 0.6186000108718872\n",
      "Epoch 26, CIFAR-10 Batch 3:  Loss = 0.7577717900276184 and Validation Accuracy = 0.6161999702453613\n",
      "Epoch 26, CIFAR-10 Batch 4:  Loss = 0.788221001625061 and Validation Accuracy = 0.621399998664856\n",
      "Epoch 26, CIFAR-10 Batch 5:  Loss = 0.8421543836593628 and Validation Accuracy = 0.6087999939918518\n",
      "Epoch 27, CIFAR-10 Batch 1:  Loss = 0.8730340003967285 and Validation Accuracy = 0.620199978351593\n",
      "Epoch 27, CIFAR-10 Batch 2:  Loss = 0.8298958539962769 and Validation Accuracy = 0.616599977016449\n",
      "Epoch 27, CIFAR-10 Batch 3:  Loss = 0.7764936685562134 and Validation Accuracy = 0.6161999702453613\n",
      "Epoch 27, CIFAR-10 Batch 4:  Loss = 0.7719091773033142 and Validation Accuracy = 0.6190000176429749\n",
      "Epoch 27, CIFAR-10 Batch 5:  Loss = 0.8042386770248413 and Validation Accuracy = 0.6164000034332275\n",
      "Epoch 28, CIFAR-10 Batch 1:  Loss = 0.8555810451507568 and Validation Accuracy = 0.6215999722480774\n",
      "Epoch 28, CIFAR-10 Batch 2:  Loss = 0.8274146318435669 and Validation Accuracy = 0.6137999892234802\n",
      "Epoch 28, CIFAR-10 Batch 3:  Loss = 0.7615144848823547 and Validation Accuracy = 0.6237999796867371\n",
      "Epoch 28, CIFAR-10 Batch 4:  Loss = 0.7769222259521484 and Validation Accuracy = 0.6277999877929688\n",
      "Epoch 28, CIFAR-10 Batch 5:  Loss = 0.7874867916107178 and Validation Accuracy = 0.6177999973297119\n",
      "Epoch 29, CIFAR-10 Batch 1:  Loss = 0.8607261776924133 and Validation Accuracy = 0.6248000264167786\n",
      "Epoch 29, CIFAR-10 Batch 2:  Loss = 0.8048633933067322 and Validation Accuracy = 0.6144000291824341\n",
      "Epoch 29, CIFAR-10 Batch 3:  Loss = 0.7637938261032104 and Validation Accuracy = 0.61080002784729\n",
      "Epoch 29, CIFAR-10 Batch 4:  Loss = 0.7386444807052612 and Validation Accuracy = 0.6276000142097473\n",
      "Epoch 29, CIFAR-10 Batch 5:  Loss = 0.776685893535614 and Validation Accuracy = 0.6226000189781189\n",
      "Epoch 30, CIFAR-10 Batch 1:  Loss = 0.8408816456794739 and Validation Accuracy = 0.6248000264167786\n",
      "Epoch 30, CIFAR-10 Batch 2:  Loss = 0.7952011227607727 and Validation Accuracy = 0.6227999925613403\n",
      "Epoch 30, CIFAR-10 Batch 3:  Loss = 0.733124852180481 and Validation Accuracy = 0.6262000203132629\n",
      "Epoch 30, CIFAR-10 Batch 4:  Loss = 0.732571005821228 and Validation Accuracy = 0.6255999803543091\n",
      "Epoch 30, CIFAR-10 Batch 5:  Loss = 0.7576985955238342 and Validation Accuracy = 0.623199999332428\n",
      "Epoch 31, CIFAR-10 Batch 1:  Loss = 0.8155630826950073 and Validation Accuracy = 0.6362000107765198\n",
      "Epoch 31, CIFAR-10 Batch 2:  Loss = 0.779087245464325 and Validation Accuracy = 0.6269999742507935\n",
      "Epoch 31, CIFAR-10 Batch 3:  Loss = 0.6990640163421631 and Validation Accuracy = 0.6281999945640564\n",
      "Epoch 31, CIFAR-10 Batch 4:  Loss = 0.6989326477050781 and Validation Accuracy = 0.635200023651123\n",
      "Epoch 31, CIFAR-10 Batch 5:  Loss = 0.7406541109085083 and Validation Accuracy = 0.629800021648407\n",
      "Epoch 32, CIFAR-10 Batch 1:  Loss = 0.7673524618148804 and Validation Accuracy = 0.6291999816894531\n",
      "Epoch 32, CIFAR-10 Batch 2:  Loss = 0.7542313933372498 and Validation Accuracy = 0.6417999863624573\n",
      "Epoch 32, CIFAR-10 Batch 3:  Loss = 0.6821193099021912 and Validation Accuracy = 0.6320000290870667\n",
      "Epoch 32, CIFAR-10 Batch 4:  Loss = 0.7011252641677856 and Validation Accuracy = 0.6294000148773193\n",
      "Epoch 32, CIFAR-10 Batch 5:  Loss = 0.6893466711044312 and Validation Accuracy = 0.628600001335144\n",
      "Epoch 33, CIFAR-10 Batch 1:  Loss = 0.7569695711135864 and Validation Accuracy = 0.6367999911308289\n",
      "Epoch 33, CIFAR-10 Batch 2:  Loss = 0.7428659796714783 and Validation Accuracy = 0.6353999972343445\n",
      "Epoch 33, CIFAR-10 Batch 3:  Loss = 0.6949491500854492 and Validation Accuracy = 0.621999979019165\n",
      "Epoch 33, CIFAR-10 Batch 4:  Loss = 0.6816523671150208 and Validation Accuracy = 0.633400022983551\n"
     ]
    },
    {
     "name": "stdout",
     "output_type": "stream",
     "text": [
      "Epoch 33, CIFAR-10 Batch 5:  Loss = 0.7251812219619751 and Validation Accuracy = 0.6349999904632568\n",
      "Epoch 34, CIFAR-10 Batch 1:  Loss = 0.7294492721557617 and Validation Accuracy = 0.6434000134468079\n",
      "Epoch 34, CIFAR-10 Batch 2:  Loss = 0.7231690883636475 and Validation Accuracy = 0.6276000142097473\n",
      "Epoch 34, CIFAR-10 Batch 3:  Loss = 0.6575773358345032 and Validation Accuracy = 0.6320000290870667\n",
      "Epoch 34, CIFAR-10 Batch 4:  Loss = 0.6646420359611511 and Validation Accuracy = 0.6359999775886536\n",
      "Epoch 34, CIFAR-10 Batch 5:  Loss = 0.7029480934143066 and Validation Accuracy = 0.6290000081062317\n",
      "Epoch 35, CIFAR-10 Batch 1:  Loss = 0.7120507955551147 and Validation Accuracy = 0.6381999850273132\n",
      "Epoch 35, CIFAR-10 Batch 2:  Loss = 0.7029290199279785 and Validation Accuracy = 0.6371999979019165\n",
      "Epoch 35, CIFAR-10 Batch 3:  Loss = 0.6505929827690125 and Validation Accuracy = 0.6322000026702881\n",
      "Epoch 35, CIFAR-10 Batch 4:  Loss = 0.6539695262908936 and Validation Accuracy = 0.6377999782562256\n",
      "Epoch 35, CIFAR-10 Batch 5:  Loss = 0.6593542098999023 and Validation Accuracy = 0.6376000046730042\n",
      "Epoch 36, CIFAR-10 Batch 1:  Loss = 0.698373556137085 and Validation Accuracy = 0.6363999843597412\n",
      "Epoch 36, CIFAR-10 Batch 2:  Loss = 0.7014596462249756 and Validation Accuracy = 0.6273999810218811\n",
      "Epoch 36, CIFAR-10 Batch 3:  Loss = 0.6415884494781494 and Validation Accuracy = 0.640999972820282\n",
      "Epoch 36, CIFAR-10 Batch 4:  Loss = 0.6853250861167908 and Validation Accuracy = 0.628600001335144\n",
      "Epoch 36, CIFAR-10 Batch 5:  Loss = 0.6594274640083313 and Validation Accuracy = 0.6413999795913696\n",
      "Epoch 37, CIFAR-10 Batch 1:  Loss = 0.668901264667511 and Validation Accuracy = 0.6388000249862671\n",
      "Epoch 37, CIFAR-10 Batch 2:  Loss = 0.6962021589279175 and Validation Accuracy = 0.6407999992370605\n",
      "Epoch 37, CIFAR-10 Batch 3:  Loss = 0.6353329420089722 and Validation Accuracy = 0.642799973487854\n",
      "Epoch 37, CIFAR-10 Batch 4:  Loss = 0.6417596936225891 and Validation Accuracy = 0.6330000162124634\n",
      "Epoch 37, CIFAR-10 Batch 5:  Loss = 0.641300618648529 and Validation Accuracy = 0.6394000053405762\n",
      "Epoch 38, CIFAR-10 Batch 1:  Loss = 0.6399326324462891 and Validation Accuracy = 0.6388000249862671\n",
      "Epoch 38, CIFAR-10 Batch 2:  Loss = 0.6574796438217163 and Validation Accuracy = 0.6417999863624573\n",
      "Epoch 38, CIFAR-10 Batch 3:  Loss = 0.5953131914138794 and Validation Accuracy = 0.6395999789237976\n",
      "Epoch 38, CIFAR-10 Batch 4:  Loss = 0.6186832785606384 and Validation Accuracy = 0.6424000263214111\n",
      "Epoch 38, CIFAR-10 Batch 5:  Loss = 0.6102243661880493 and Validation Accuracy = 0.6381999850273132\n",
      "Epoch 39, CIFAR-10 Batch 1:  Loss = 0.6626309752464294 and Validation Accuracy = 0.6413999795913696\n",
      "Epoch 39, CIFAR-10 Batch 2:  Loss = 0.6500905752182007 and Validation Accuracy = 0.6438000202178955\n",
      "Epoch 39, CIFAR-10 Batch 3:  Loss = 0.612647533416748 and Validation Accuracy = 0.6366000175476074\n",
      "Epoch 39, CIFAR-10 Batch 4:  Loss = 0.6304300427436829 and Validation Accuracy = 0.6308000087738037\n",
      "Epoch 39, CIFAR-10 Batch 5:  Loss = 0.648777425289154 and Validation Accuracy = 0.6416000127792358\n",
      "Epoch 40, CIFAR-10 Batch 1:  Loss = 0.6572256088256836 and Validation Accuracy = 0.6407999992370605\n",
      "Epoch 40, CIFAR-10 Batch 2:  Loss = 0.6459275484085083 and Validation Accuracy = 0.6521999835968018\n",
      "Epoch 40, CIFAR-10 Batch 3:  Loss = 0.588822066783905 and Validation Accuracy = 0.6430000066757202\n",
      "Epoch 40, CIFAR-10 Batch 4:  Loss = 0.5807976722717285 and Validation Accuracy = 0.6395999789237976\n",
      "Epoch 40, CIFAR-10 Batch 5:  Loss = 0.6159249544143677 and Validation Accuracy = 0.646399974822998\n",
      "Epoch 41, CIFAR-10 Batch 1:  Loss = 0.6484395265579224 and Validation Accuracy = 0.645799994468689\n",
      "Epoch 41, CIFAR-10 Batch 2:  Loss = 0.6206094026565552 and Validation Accuracy = 0.6498000025749207\n",
      "Epoch 41, CIFAR-10 Batch 3:  Loss = 0.593422532081604 and Validation Accuracy = 0.6388000249862671\n",
      "Epoch 41, CIFAR-10 Batch 4:  Loss = 0.5874971747398376 and Validation Accuracy = 0.6417999863624573\n",
      "Epoch 41, CIFAR-10 Batch 5:  Loss = 0.5936239957809448 and Validation Accuracy = 0.650600016117096\n",
      "Epoch 42, CIFAR-10 Batch 1:  Loss = 0.6152704358100891 and Validation Accuracy = 0.646399974822998\n",
      "Epoch 42, CIFAR-10 Batch 2:  Loss = 0.6181066632270813 and Validation Accuracy = 0.6507999897003174\n",
      "Epoch 42, CIFAR-10 Batch 3:  Loss = 0.5908918380737305 and Validation Accuracy = 0.6403999924659729\n",
      "Epoch 42, CIFAR-10 Batch 4:  Loss = 0.5552011728286743 and Validation Accuracy = 0.6467999815940857\n",
      "Epoch 42, CIFAR-10 Batch 5:  Loss = 0.5837681889533997 and Validation Accuracy = 0.6478000283241272\n",
      "Epoch 43, CIFAR-10 Batch 1:  Loss = 0.6208240985870361 and Validation Accuracy = 0.6452000141143799\n",
      "Epoch 43, CIFAR-10 Batch 2:  Loss = 0.6361974477767944 and Validation Accuracy = 0.6484000086784363\n",
      "Epoch 43, CIFAR-10 Batch 3:  Loss = 0.564063549041748 and Validation Accuracy = 0.6439999938011169\n",
      "Epoch 43, CIFAR-10 Batch 4:  Loss = 0.5458097457885742 and Validation Accuracy = 0.6413999795913696\n",
      "Epoch 43, CIFAR-10 Batch 5:  Loss = 0.5841844081878662 and Validation Accuracy = 0.6453999876976013\n",
      "Epoch 44, CIFAR-10 Batch 1:  Loss = 0.6043950319290161 and Validation Accuracy = 0.6525999903678894\n",
      "Epoch 44, CIFAR-10 Batch 2:  Loss = 0.5964829921722412 and Validation Accuracy = 0.6516000032424927\n",
      "Epoch 44, CIFAR-10 Batch 3:  Loss = 0.5564060211181641 and Validation Accuracy = 0.6442000269889832\n",
      "Epoch 44, CIFAR-10 Batch 4:  Loss = 0.5387495756149292 and Validation Accuracy = 0.6406000256538391\n",
      "Epoch 44, CIFAR-10 Batch 5:  Loss = 0.565437912940979 and Validation Accuracy = 0.6413999795913696\n",
      "Epoch 45, CIFAR-10 Batch 1:  Loss = 0.5987561941146851 and Validation Accuracy = 0.651199996471405\n",
      "Epoch 45, CIFAR-10 Batch 2:  Loss = 0.5813735127449036 and Validation Accuracy = 0.6516000032424927\n",
      "Epoch 45, CIFAR-10 Batch 3:  Loss = 0.5320531725883484 and Validation Accuracy = 0.6492000222206116\n",
      "Epoch 45, CIFAR-10 Batch 4:  Loss = 0.4991263449192047 and Validation Accuracy = 0.6516000032424927\n",
      "Epoch 45, CIFAR-10 Batch 5:  Loss = 0.5656506419181824 and Validation Accuracy = 0.6399999856948853\n"
     ]
    }
   ],
   "source": [
    "\"\"\"\n",
    "DON'T MODIFY ANYTHING IN THIS CELL\n",
    "\"\"\"\n",
    "save_model_path = './image_classification'\n",
    "\n",
    "print('Training...')\n",
    "with tf.Session() as sess:\n",
    "    # Initializing the variables\n",
    "    sess.run(tf.global_variables_initializer())\n",
    "    \n",
    "    # Training cycle\n",
    "    for epoch in range(epochs):\n",
    "        # Loop over all batches\n",
    "        n_batches = 5\n",
    "        for batch_i in range(1, n_batches + 1):\n",
    "            for batch_features, batch_labels in helper.load_preprocess_training_batch(batch_i, batch_size):\n",
    "                train_neural_network(sess, optimizer, keep_probability, batch_features, batch_labels)\n",
    "            print('Epoch {:>2}, CIFAR-10 Batch {}:  '.format(epoch + 1, batch_i), end='')\n",
    "            print_stats(sess, batch_features, batch_labels, cost, accuracy)\n",
    "            \n",
    "    # Save Model\n",
    "    saver = tf.train.Saver()\n",
    "    save_path = saver.save(sess, save_model_path)"
   ]
  },
  {
   "cell_type": "markdown",
   "metadata": {},
   "source": [
    "# Checkpoint\n",
    "The model has been saved to disk.\n",
    "## Test Model\n",
    "Test your model against the test dataset.  This will be your final accuracy. You should have an accuracy greater than 50%. If you don't, keep tweaking the model architecture and parameters."
   ]
  },
  {
   "cell_type": "code",
   "execution_count": 32,
   "metadata": {},
   "outputs": [
    {
     "name": "stdout",
     "output_type": "stream",
     "text": [
      "INFO:tensorflow:Restoring parameters from ./image_classification\n",
      "Testing Accuracy: 0.6419979333877563\n",
      "\n"
     ]
    },
    {
     "data": {
      "image/png": "[encoded data removed]",
      "text/plain": [
       "<matplotlib.figure.Figure at 0x11917ada0>"
      ]
     },
     "metadata": {
      "image/png": {
       "height": 319,
       "width": 355
      }
     },
     "output_type": "display_data"
    }
   ],
   "source": [
    "\"\"\"\n",
    "DON'T MODIFY ANYTHING IN THIS CELL\n",
    "\"\"\"\n",
    "%matplotlib inline\n",
    "%config InlineBackend.figure_format = 'retina'\n",
    "\n",
    "import tensorflow as tf\n",
    "import pickle\n",
    "import helper\n",
    "import random\n",
    "\n",
    "# Set batch size if not already set\n",
    "try:\n",
    "    if batch_size:\n",
    "        pass\n",
    "except NameError:\n",
    "    batch_size = 64\n",
    "\n",
    "save_model_path = './image_classification'\n",
    "n_samples = 4\n",
    "top_n_predictions = 3\n",
    "\n",
    "def test_model():\n",
    "    \"\"\"\n",
    "    Test the saved model against the test dataset\n",
    "    \"\"\"\n",
    "\n",
    "    test_features, test_labels = pickle.load(open('preprocess_test.p', mode='rb'))\n",
    "    loaded_graph = tf.Graph()\n",
    "\n",
    "    with tf.Session(graph=loaded_graph) as sess:\n",
    "        # Load model\n",
    "        loader = tf.train.import_meta_graph(save_model_path + '.meta')\n",
    "        loader.restore(sess, save_model_path)\n",
    "\n",
    "        # Get Tensors from loaded model\n",
    "        loaded_x = loaded_graph.get_tensor_by_name('x:0')\n",
    "        loaded_y = loaded_graph.get_tensor_by_name('y:0')\n",
    "        loaded_keep_prob = loaded_graph.get_tensor_by_name('keep_prob:0')\n",
    "        loaded_logits = loaded_graph.get_tensor_by_name('logits:0')\n",
    "        loaded_acc = loaded_graph.get_tensor_by_name('accuracy:0')\n",
    "        \n",
    "        # Get accuracy in batches for memory limitations\n",
    "        test_batch_acc_total = 0\n",
    "        test_batch_count = 0\n",
    "        \n",
    "        for test_feature_batch, test_label_batch in helper.batch_features_labels(test_features, test_labels, batch_size):\n",
    "            test_batch_acc_total += sess.run(\n",
    "                loaded_acc,\n",
    "                feed_dict={loaded_x: test_feature_batch, loaded_y: test_label_batch, loaded_keep_prob: 1.0})\n",
    "            test_batch_count += 1\n",
    "\n",
    "        print('Testing Accuracy: {}\\n'.format(test_batch_acc_total/test_batch_count))\n",
    "\n",
    "        # Print Random Samples\n",
    "        random_test_features, random_test_labels = tuple(zip(*random.sample(list(zip(test_features, test_labels)), n_samples)))\n",
    "        random_test_predictions = sess.run(\n",
    "            tf.nn.top_k(tf.nn.softmax(loaded_logits), top_n_predictions),\n",
    "            feed_dict={loaded_x: random_test_features, loaded_y: random_test_labels, loaded_keep_prob: 1.0})\n",
    "        helper.display_image_predictions(random_test_features, random_test_labels, random_test_predictions)\n",
    "\n",
    "\n",
    "test_model()"
   ]
  },
  {
   "cell_type": "markdown",
   "metadata": {},
   "source": [
    "## Why 50-80% Accuracy?\n",
    "You might be wondering why you can't get an accuracy any higher. First things first, 50% isn't bad for a simple CNN.  Pure guessing would get you 10% accuracy. However, you might notice people are getting scores [well above 80%](http://rodrigob.github.io/are_we_there_yet/build/classification_datasets_results.html#43494641522d3130).  That's because we haven't taught you all there is to know about neural networks. We still need to cover a few more techniques.\n",
    "## Submitting This Project\n",
    "When submitting this project, make sure to run all the cells before saving the notebook.  Save the notebook file as \"dlnd_image_classification.ipynb\" and save it as a HTML file under \"File\" -> \"Download as\".  Include the \"helper.py\" and \"problem_unittests.py\" files in your submission."
   ]
  },
  {
   "cell_type": "code",
   "execution_count": null,
   "metadata": {
    "collapsed": true
   },
   "outputs": [],
   "source": []
  }
 ],
 "metadata": {
  "kernelspec": {
   "display_name": "Python 3",
   "language": "python",
   "name": "python3"
  },
  "language_info": {
   "codemirror_mode": {
    "name": "ipython",
    "version": 3
   },
   "file_extension": ".py",
   "mimetype": "text/x-python",
   "name": "python",
   "nbconvert_exporter": "python",
   "pygments_lexer": "ipython3",
   "version": "3.5.3"
  }
 },
 "nbformat": 4,
 "nbformat_minor": 1
}
