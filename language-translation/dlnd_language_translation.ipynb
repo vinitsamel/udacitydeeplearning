{
 "cells": [
  {
   "cell_type": "markdown",
   "metadata": {
    "collapsed": true
   },
   "source": [
    "# Language Translation\n",
    "In this project, you’re going to take a peek into the realm of neural network machine translation.  You’ll be training a sequence to sequence model on a dataset of English and French sentences that can translate new sentences from English to French.\n",
    "## Get the Data\n",
    "Since translating the whole language of English to French will take lots of time to train, we have provided you with a small portion of the English corpus."
   ]
  },
  {
   "cell_type": "code",
   "execution_count": 1,
   "metadata": {
    "collapsed": true
   },
   "outputs": [],
   "source": [
    "\"\"\"\n",
    "DON'T MODIFY ANYTHING IN THIS CELL\n",
    "\"\"\"\n",
    "import helper\n",
    "import problem_unittests as tests\n",
    "\n",
    "source_path = 'data/small_vocab_en'\n",
    "target_path = 'data/small_vocab_fr'\n",
    "source_text = helper.load_data(source_path)\n",
    "target_text = helper.load_data(target_path)"
   ]
  },
  {
   "cell_type": "markdown",
   "metadata": {},
   "source": [
    "## Explore the Data\n",
    "Play around with view_sentence_range to view different parts of the data."
   ]
  },
  {
   "cell_type": "code",
   "execution_count": 2,
   "metadata": {},
   "outputs": [
    {
     "name": "stdout",
     "output_type": "stream",
     "text": [
      "Dataset Stats\n",
      "Roughly the number of unique words: 227\n",
      "Number of sentences: 137861\n",
      "Average number of words in a sentence: 13.225277634719028\n",
      "\n",
      "English sentences 0 to 10:\n",
      "new jersey is sometimes quiet during autumn , and it is snowy in april .\n",
      "the united states is usually chilly during july , and it is usually freezing in november .\n",
      "california is usually quiet during march , and it is usually hot in june .\n",
      "the united states is sometimes mild during june , and it is cold in september .\n",
      "your least liked fruit is the grape , but my least liked is the apple .\n",
      "his favorite fruit is the orange , but my favorite is the grape .\n",
      "paris is relaxing during december , but it is usually chilly in july .\n",
      "new jersey is busy during spring , and it is never hot in march .\n",
      "our least liked fruit is the lemon , but my least liked is the grape .\n",
      "the united states is sometimes busy during january , and it is sometimes warm in november .\n",
      "\n",
      "French sentences 0 to 10:\n",
      "new jersey est parfois calme pendant l' automne , et il est neigeux en avril .\n",
      "les états-unis est généralement froid en juillet , et il gèle habituellement en novembre .\n",
      "california est généralement calme en mars , et il est généralement chaud en juin .\n",
      "les états-unis est parfois légère en juin , et il fait froid en septembre .\n",
      "votre moins aimé fruit est le raisin , mais mon moins aimé est la pomme .\n",
      "son fruit préféré est l'orange , mais mon préféré est le raisin .\n",
      "paris est relaxant en décembre , mais il est généralement froid en juillet .\n",
      "new jersey est occupé au printemps , et il est jamais chaude en mars .\n",
      "notre fruit est moins aimé le citron , mais mon moins aimé est le raisin .\n",
      "les états-unis est parfois occupé en janvier , et il est parfois chaud en novembre .\n"
     ]
    }
   ],
   "source": [
    "view_sentence_range = (0, 10)\n",
    "\n",
    "\"\"\"\n",
    "DON'T MODIFY ANYTHING IN THIS CELL\n",
    "\"\"\"\n",
    "import numpy as np\n",
    "\n",
    "print('Dataset Stats')\n",
    "print('Roughly the number of unique words: {}'.format(len({word: None for word in source_text.split()})))\n",
    "\n",
    "sentences = source_text.split('\\n')\n",
    "word_counts = [len(sentence.split()) for sentence in sentences]\n",
    "print('Number of sentences: {}'.format(len(sentences)))\n",
    "print('Average number of words in a sentence: {}'.format(np.average(word_counts)))\n",
    "\n",
    "print()\n",
    "print('English sentences {} to {}:'.format(*view_sentence_range))\n",
    "print('\\n'.join(source_text.split('\\n')[view_sentence_range[0]:view_sentence_range[1]]))\n",
    "print()\n",
    "print('French sentences {} to {}:'.format(*view_sentence_range))\n",
    "print('\\n'.join(target_text.split('\\n')[view_sentence_range[0]:view_sentence_range[1]]))"
   ]
  },
  {
   "cell_type": "markdown",
   "metadata": {},
   "source": [
    "## Implement Preprocessing Function\n",
    "### Text to Word Ids\n",
    "As you did with other RNNs, you must turn the text into a number so the computer can understand it. In the function `text_to_ids()`, you'll turn `source_text` and `target_text` from words to ids.  However, you need to add the `<EOS>` word id at the end of `target_text`.  This will help the neural network predict when the sentence should end.\n",
    "\n",
    "You can get the `<EOS>` word id by doing:\n",
    "```python\n",
    "target_vocab_to_int['<EOS>']\n",
    "```\n",
    "You can get other word ids using `source_vocab_to_int` and `target_vocab_to_int`."
   ]
  },
  {
   "cell_type": "code",
   "execution_count": 3,
   "metadata": {},
   "outputs": [
    {
     "name": "stdout",
     "output_type": "stream",
     "text": [
      "Tests Passed\n"
     ]
    }
   ],
   "source": [
    "def text_to_ids(source_text, target_text, source_vocab_to_int, target_vocab_to_int):\n",
    "    \"\"\"\n",
    "    Convert source and target text to proper word ids\n",
    "    :param source_text: String that contains all the source text.\n",
    "    :param target_text: String that contains all the target text.\n",
    "    :param source_vocab_to_int: Dictionary to go from the source words to an id\n",
    "    :param target_vocab_to_int: Dictionary to go from the target words to an id\n",
    "    :return: A tuple of lists (source_id_text, target_id_text)\n",
    "    \"\"\"\n",
    "    # TODO: Implement Function\n",
    "    #print (source_text)\n",
    "    source_letter_ids = [[source_vocab_to_int.get(word, source_vocab_to_int['<UNK>']) for word in line.split(' ')] for line in source_text.split('\\n')]\n",
    "    target_letter_ids = [[target_vocab_to_int.get(word, target_vocab_to_int['<UNK>']) for word in line.split(' ')] + [target_vocab_to_int['<EOS>']] for line in target_text.split('\\n')]\n",
    "    return source_letter_ids, target_letter_ids\n",
    "\n",
    "\"\"\"\n",
    "DON'T MODIFY ANYTHING IN THIS CELL THAT IS BELOW THIS LINE\n",
    "\"\"\"\n",
    "tests.test_text_to_ids(text_to_ids)"
   ]
  },
  {
   "cell_type": "markdown",
   "metadata": {},
   "source": [
    "### Preprocess all the data and save it\n",
    "Running the code cell below will preprocess all the data and save it to file."
   ]
  },
  {
   "cell_type": "code",
   "execution_count": 4,
   "metadata": {
    "collapsed": true
   },
   "outputs": [],
   "source": [
    "\"\"\"\n",
    "DON'T MODIFY ANYTHING IN THIS CELL\n",
    "\"\"\"\n",
    "helper.preprocess_and_save_data(source_path, target_path, text_to_ids)"
   ]
  },
  {
   "cell_type": "markdown",
   "metadata": {},
   "source": [
    "# Check Point\n",
    "This is your first checkpoint. If you ever decide to come back to this notebook or have to restart the notebook, you can start from here. The preprocessed data has been saved to disk."
   ]
  },
  {
   "cell_type": "code",
   "execution_count": 5,
   "metadata": {
    "collapsed": true
   },
   "outputs": [],
   "source": [
    "\"\"\"\n",
    "DON'T MODIFY ANYTHING IN THIS CELL\n",
    "\"\"\"\n",
    "import numpy as np\n",
    "import helper\n",
    "import problem_unittests as tests\n",
    "\n",
    "(source_int_text, target_int_text), (source_vocab_to_int, target_vocab_to_int), _ = helper.load_preprocess()"
   ]
  },
  {
   "cell_type": "markdown",
   "metadata": {},
   "source": [
    "### Check the Version of TensorFlow and Access to GPU\n",
    "This will check to make sure you have the correct version of TensorFlow and access to a GPU"
   ]
  },
  {
   "cell_type": "code",
   "execution_count": 6,
   "metadata": {},
   "outputs": [
    {
     "name": "stdout",
     "output_type": "stream",
     "text": [
      "TensorFlow Version: 1.2.1\n"
     ]
    },
    {
     "name": "stderr",
     "output_type": "stream",
     "text": [
      "/Users/vsamel/anaconda2/envs/tensorflow/lib/python3.5/site-packages/ipykernel_launcher.py:15: UserWarning: No GPU found. Please use a GPU to train your neural network.\n",
      "  from ipykernel import kernelapp as app\n"
     ]
    }
   ],
   "source": [
    "\"\"\"\n",
    "DON'T MODIFY ANYTHING IN THIS CELL\n",
    "\"\"\"\n",
    "from distutils.version import LooseVersion\n",
    "import warnings\n",
    "import tensorflow as tf\n",
    "from tensorflow.python.layers.core import Dense\n",
    "\n",
    "# Check TensorFlow Version\n",
    "assert LooseVersion(tf.__version__) >= LooseVersion('1.1'), 'Please use TensorFlow version 1.1 or newer'\n",
    "print('TensorFlow Version: {}'.format(tf.__version__))\n",
    "\n",
    "# Check for a GPU\n",
    "if not tf.test.gpu_device_name():\n",
    "    warnings.warn('No GPU found. Please use a GPU to train your neural network.')\n",
    "else:\n",
    "    print('Default GPU Device: {}'.format(tf.test.gpu_device_name()))"
   ]
  },
  {
   "cell_type": "markdown",
   "metadata": {},
   "source": [
    "## Build the Neural Network\n",
    "You'll build the components necessary to build a Sequence-to-Sequence model by implementing the following functions below:\n",
    "- `model_inputs`\n",
    "- `process_decoder_input`\n",
    "- `encoding_layer`\n",
    "- `decoding_layer_train`\n",
    "- `decoding_layer_infer`\n",
    "- `decoding_layer`\n",
    "- `seq2seq_model`\n",
    "\n",
    "### Input\n",
    "Implement the `model_inputs()` function to create TF Placeholders for the Neural Network. It should create the following placeholders:\n",
    "\n",
    "- Input text placeholder named \"input\" using the TF Placeholder name parameter with rank 2.\n",
    "- Targets placeholder with rank 2.\n",
    "- Learning rate placeholder with rank 0.\n",
    "- Keep probability placeholder named \"keep_prob\" using the TF Placeholder name parameter with rank 0.\n",
    "- Target sequence length placeholder named \"target_sequence_length\" with rank 1\n",
    "- Max target sequence length tensor named \"max_target_len\" getting its value from applying tf.reduce_max on the target_sequence_length placeholder. Rank 0.\n",
    "- Source sequence length placeholder named \"source_sequence_length\" with rank 1\n",
    "\n",
    "Return the placeholders in the following the tuple (input, targets, learning rate, keep probability, target sequence length, max target sequence length, source sequence length)"
   ]
  },
  {
   "cell_type": "code",
   "execution_count": 7,
   "metadata": {},
   "outputs": [
    {
     "name": "stdout",
     "output_type": "stream",
     "text": [
      "ERROR:tensorflow:==================================\n",
      "Object was never used (type <class 'tensorflow.python.framework.ops.Operation'>):\n",
      "<tf.Operation 'assert_rank_2/Assert/Assert' type=Assert>\n",
      "If you want to mark it as used call its \"mark_used()\" method.\n",
      "It was originally created here:\n",
      "['File \"/Users/vsamel/anaconda2/envs/tensorflow/lib/python3.5/runpy.py\", line 193, in _run_module_as_main\\n    \"__main__\", mod_spec)', 'File \"/Users/vsamel/anaconda2/envs/tensorflow/lib/python3.5/runpy.py\", line 85, in _run_code\\n    exec(code, run_globals)', 'File \"/Users/vsamel/anaconda2/envs/tensorflow/lib/python3.5/site-packages/ipykernel_launcher.py\", line 16, in <module>\\n    app.launch_new_instance()', 'File \"/Users/vsamel/anaconda2/envs/tensorflow/lib/python3.5/site-packages/traitlets/config/application.py\", line 658, in launch_instance\\n    app.start()', 'File \"/Users/vsamel/anaconda2/envs/tensorflow/lib/python3.5/site-packages/ipykernel/kernelapp.py\", line 477, in start\\n    ioloop.IOLoop.instance().start()', 'File \"/Users/vsamel/anaconda2/envs/tensorflow/lib/python3.5/site-packages/zmq/eventloop/ioloop.py\", line 177, in start\\n    super(ZMQIOLoop, self).start()', 'File \"/Users/vsamel/anaconda2/envs/tensorflow/lib/python3.5/site-packages/tornado/ioloop.py\", line 888, in start\\n    handler_func(fd_obj, events)', 'File \"/Users/vsamel/anaconda2/envs/tensorflow/lib/python3.5/site-packages/tornado/stack_context.py\", line 277, in null_wrapper\\n    return fn(*args, **kwargs)', 'File \"/Users/vsamel/anaconda2/envs/tensorflow/lib/python3.5/site-packages/zmq/eventloop/zmqstream.py\", line 440, in _handle_events\\n    self._handle_recv()', 'File \"/Users/vsamel/anaconda2/envs/tensorflow/lib/python3.5/site-packages/zmq/eventloop/zmqstream.py\", line 472, in _handle_recv\\n    self._run_callback(callback, msg)', 'File \"/Users/vsamel/anaconda2/envs/tensorflow/lib/python3.5/site-packages/zmq/eventloop/zmqstream.py\", line 414, in _run_callback\\n    callback(*args, **kwargs)', 'File \"/Users/vsamel/anaconda2/envs/tensorflow/lib/python3.5/site-packages/tornado/stack_context.py\", line 277, in null_wrapper\\n    return fn(*args, **kwargs)', 'File \"/Users/vsamel/anaconda2/envs/tensorflow/lib/python3.5/site-packages/ipykernel/kernelbase.py\", line 283, in dispatcher\\n    return self.dispatch_shell(stream, msg)', 'File \"/Users/vsamel/anaconda2/envs/tensorflow/lib/python3.5/site-packages/ipykernel/kernelbase.py\", line 235, in dispatch_shell\\n    handler(stream, idents, msg)', 'File \"/Users/vsamel/anaconda2/envs/tensorflow/lib/python3.5/site-packages/ipykernel/kernelbase.py\", line 399, in execute_request\\n    user_expressions, allow_stdin)', 'File \"/Users/vsamel/anaconda2/envs/tensorflow/lib/python3.5/site-packages/ipykernel/ipkernel.py\", line 196, in do_execute\\n    res = shell.run_cell(code, store_history=store_history, silent=silent)', 'File \"/Users/vsamel/anaconda2/envs/tensorflow/lib/python3.5/site-packages/ipykernel/zmqshell.py\", line 533, in run_cell\\n    return super(ZMQInteractiveShell, self).run_cell(*args, **kwargs)', 'File \"/Users/vsamel/anaconda2/envs/tensorflow/lib/python3.5/site-packages/IPython/core/interactiveshell.py\", line 2698, in run_cell\\n    interactivity=interactivity, compiler=compiler, result=result)', 'File \"/Users/vsamel/anaconda2/envs/tensorflow/lib/python3.5/site-packages/IPython/core/interactiveshell.py\", line 2808, in run_ast_nodes\\n    if self.run_code(code, result):', 'File \"/Users/vsamel/anaconda2/envs/tensorflow/lib/python3.5/site-packages/IPython/core/interactiveshell.py\", line 2862, in run_code\\n    exec(code_obj, self.user_global_ns, self.user_ns)', 'File \"<ipython-input-7-c0999ee202bc>\", line 21, in <module>\\n    tests.test_model_inputs(model_inputs)', 'File \"/Users/vsamel/gitDL/language-translation/problem_unittests.py\", line 106, in test_model_inputs\\n    assert tf.assert_rank(lr, 0, message=\\'Learning Rate has wrong rank\\')', 'File \"/Users/vsamel/anaconda2/envs/tensorflow/lib/python3.5/site-packages/tensorflow/python/ops/check_ops.py\", line 617, in assert_rank\\n    dynamic_condition, data, summarize)', 'File \"/Users/vsamel/anaconda2/envs/tensorflow/lib/python3.5/site-packages/tensorflow/python/ops/check_ops.py\", line 571, in _assert_rank_condition\\n    return control_flow_ops.Assert(condition, data, summarize=summarize)', 'File \"/Users/vsamel/anaconda2/envs/tensorflow/lib/python3.5/site-packages/tensorflow/python/util/tf_should_use.py\", line 170, in wrapped\\n    return _add_should_use_warning(fn(*args, **kwargs))', 'File \"/Users/vsamel/anaconda2/envs/tensorflow/lib/python3.5/site-packages/tensorflow/python/util/tf_should_use.py\", line 139, in _add_should_use_warning\\n    wrapped = TFShouldUseWarningWrapper(x)', 'File \"/Users/vsamel/anaconda2/envs/tensorflow/lib/python3.5/site-packages/tensorflow/python/util/tf_should_use.py\", line 96, in __init__\\n    stack = [s.strip() for s in traceback.format_stack()]']\n",
      "==================================\n",
      "ERROR:tensorflow:==================================\n",
      "Object was never used (type <class 'tensorflow.python.framework.ops.Operation'>):\n",
      "<tf.Operation 'assert_rank_3/Assert/Assert' type=Assert>\n",
      "If you want to mark it as used call its \"mark_used()\" method.\n",
      "It was originally created here:\n",
      "['File \"/Users/vsamel/anaconda2/envs/tensorflow/lib/python3.5/runpy.py\", line 193, in _run_module_as_main\\n    \"__main__\", mod_spec)', 'File \"/Users/vsamel/anaconda2/envs/tensorflow/lib/python3.5/runpy.py\", line 85, in _run_code\\n    exec(code, run_globals)', 'File \"/Users/vsamel/anaconda2/envs/tensorflow/lib/python3.5/site-packages/ipykernel_launcher.py\", line 16, in <module>\\n    app.launch_new_instance()', 'File \"/Users/vsamel/anaconda2/envs/tensorflow/lib/python3.5/site-packages/traitlets/config/application.py\", line 658, in launch_instance\\n    app.start()', 'File \"/Users/vsamel/anaconda2/envs/tensorflow/lib/python3.5/site-packages/ipykernel/kernelapp.py\", line 477, in start\\n    ioloop.IOLoop.instance().start()', 'File \"/Users/vsamel/anaconda2/envs/tensorflow/lib/python3.5/site-packages/zmq/eventloop/ioloop.py\", line 177, in start\\n    super(ZMQIOLoop, self).start()', 'File \"/Users/vsamel/anaconda2/envs/tensorflow/lib/python3.5/site-packages/tornado/ioloop.py\", line 888, in start\\n    handler_func(fd_obj, events)', 'File \"/Users/vsamel/anaconda2/envs/tensorflow/lib/python3.5/site-packages/tornado/stack_context.py\", line 277, in null_wrapper\\n    return fn(*args, **kwargs)', 'File \"/Users/vsamel/anaconda2/envs/tensorflow/lib/python3.5/site-packages/zmq/eventloop/zmqstream.py\", line 440, in _handle_events\\n    self._handle_recv()', 'File \"/Users/vsamel/anaconda2/envs/tensorflow/lib/python3.5/site-packages/zmq/eventloop/zmqstream.py\", line 472, in _handle_recv\\n    self._run_callback(callback, msg)', 'File \"/Users/vsamel/anaconda2/envs/tensorflow/lib/python3.5/site-packages/zmq/eventloop/zmqstream.py\", line 414, in _run_callback\\n    callback(*args, **kwargs)', 'File \"/Users/vsamel/anaconda2/envs/tensorflow/lib/python3.5/site-packages/tornado/stack_context.py\", line 277, in null_wrapper\\n    return fn(*args, **kwargs)', 'File \"/Users/vsamel/anaconda2/envs/tensorflow/lib/python3.5/site-packages/ipykernel/kernelbase.py\", line 283, in dispatcher\\n    return self.dispatch_shell(stream, msg)', 'File \"/Users/vsamel/anaconda2/envs/tensorflow/lib/python3.5/site-packages/ipykernel/kernelbase.py\", line 235, in dispatch_shell\\n    handler(stream, idents, msg)', 'File \"/Users/vsamel/anaconda2/envs/tensorflow/lib/python3.5/site-packages/ipykernel/kernelbase.py\", line 399, in execute_request\\n    user_expressions, allow_stdin)', 'File \"/Users/vsamel/anaconda2/envs/tensorflow/lib/python3.5/site-packages/ipykernel/ipkernel.py\", line 196, in do_execute\\n    res = shell.run_cell(code, store_history=store_history, silent=silent)', 'File \"/Users/vsamel/anaconda2/envs/tensorflow/lib/python3.5/site-packages/ipykernel/zmqshell.py\", line 533, in run_cell\\n    return super(ZMQInteractiveShell, self).run_cell(*args, **kwargs)', 'File \"/Users/vsamel/anaconda2/envs/tensorflow/lib/python3.5/site-packages/IPython/core/interactiveshell.py\", line 2698, in run_cell\\n    interactivity=interactivity, compiler=compiler, result=result)', 'File \"/Users/vsamel/anaconda2/envs/tensorflow/lib/python3.5/site-packages/IPython/core/interactiveshell.py\", line 2808, in run_ast_nodes\\n    if self.run_code(code, result):', 'File \"/Users/vsamel/anaconda2/envs/tensorflow/lib/python3.5/site-packages/IPython/core/interactiveshell.py\", line 2862, in run_code\\n    exec(code_obj, self.user_global_ns, self.user_ns)', 'File \"<ipython-input-7-c0999ee202bc>\", line 21, in <module>\\n    tests.test_model_inputs(model_inputs)', 'File \"/Users/vsamel/gitDL/language-translation/problem_unittests.py\", line 107, in test_model_inputs\\n    assert tf.assert_rank(keep_prob, 0, message=\\'Keep Probability has wrong rank\\')', 'File \"/Users/vsamel/anaconda2/envs/tensorflow/lib/python3.5/site-packages/tensorflow/python/ops/check_ops.py\", line 617, in assert_rank\\n    dynamic_condition, data, summarize)', 'File \"/Users/vsamel/anaconda2/envs/tensorflow/lib/python3.5/site-packages/tensorflow/python/ops/check_ops.py\", line 571, in _assert_rank_condition\\n    return control_flow_ops.Assert(condition, data, summarize=summarize)', 'File \"/Users/vsamel/anaconda2/envs/tensorflow/lib/python3.5/site-packages/tensorflow/python/util/tf_should_use.py\", line 170, in wrapped\\n    return _add_should_use_warning(fn(*args, **kwargs))', 'File \"/Users/vsamel/anaconda2/envs/tensorflow/lib/python3.5/site-packages/tensorflow/python/util/tf_should_use.py\", line 139, in _add_should_use_warning\\n    wrapped = TFShouldUseWarningWrapper(x)', 'File \"/Users/vsamel/anaconda2/envs/tensorflow/lib/python3.5/site-packages/tensorflow/python/util/tf_should_use.py\", line 96, in __init__\\n    stack = [s.strip() for s in traceback.format_stack()]']\n",
      "==================================\n"
     ]
    },
    {
     "name": "stdout",
     "output_type": "stream",
     "text": [
      "Tests Passed\n"
     ]
    }
   ],
   "source": [
    "def model_inputs():\n",
    "    \"\"\"\n",
    "    Create TF Placeholders for input, targets, learning rate, and lengths of source and target sequences.\n",
    "    :return: Tuple (input, targets, learning rate, keep probability, target sequence length,\n",
    "    max target sequence length, source sequence length)\n",
    "    \"\"\"\n",
    "    # TODO: Implement Function\n",
    "    input_data = tf.placeholder(tf.int32, [None, None], name='input')\n",
    "    targets = tf.placeholder(tf.int32, [None, None], name='targets')\n",
    "    lr = tf.placeholder(tf.float32, name='learning_rate')\n",
    "    kp = tf.placeholder(tf.float32, name=\"keep_prob\")\n",
    "    target_sequence_length = tf.placeholder(tf.int32, (None,), name='target_sequence_length')\n",
    "    max_target_sequence_length = tf.reduce_max(target_sequence_length, name='max_target_len')\n",
    "    source_sequence_length = tf.placeholder(tf.int32, (None,), name='source_sequence_length')\n",
    "    return input_data, targets, lr, kp, target_sequence_length, max_target_sequence_length, source_sequence_length\n",
    "\n",
    "\n",
    "\"\"\"\n",
    "DON'T MODIFY ANYTHING IN THIS CELL THAT IS BELOW THIS LINE\n",
    "\"\"\"\n",
    "tests.test_model_inputs(model_inputs)"
   ]
  },
  {
   "cell_type": "markdown",
   "metadata": {},
   "source": [
    "### Process Decoder Input\n",
    "Implement `process_decoder_input` by removing the last word id from each batch in `target_data` and concat the GO ID to the begining of each batch."
   ]
  },
  {
   "cell_type": "code",
   "execution_count": 8,
   "metadata": {},
   "outputs": [
    {
     "name": "stdout",
     "output_type": "stream",
     "text": [
      "Tests Passed\n"
     ]
    }
   ],
   "source": [
    "def process_decoder_input(target_data, target_vocab_to_int, batch_size):\n",
    "    \"\"\"\n",
    "    Preprocess target data for encoding\n",
    "    :param target_data: Target Placehoder\n",
    "    :param target_vocab_to_int: Dictionary to go from the target words to an id\n",
    "    :param batch_size: Batch Size\n",
    "    :return: Preprocessed target data\n",
    "    \"\"\"\n",
    "    # TODO: Implement Function\n",
    "    '''Remove the last word id from each batch and concat the <GO> to the begining of each batch'''\n",
    "    ending = tf.strided_slice(target_data, [0, 0], [batch_size, -1], [1, 1])\n",
    "    dec_input = tf.concat([tf.fill([batch_size, 1], target_vocab_to_int['<GO>']), ending], 1)\n",
    "\n",
    "    return dec_input\n",
    "\n",
    "\"\"\"\n",
    "DON'T MODIFY ANYTHING IN THIS CELL THAT IS BELOW THIS LINE\n",
    "\"\"\"\n",
    "tests.test_process_encoding_input(process_decoder_input)"
   ]
  },
  {
   "cell_type": "markdown",
   "metadata": {},
   "source": [
    "### Encoding\n",
    "Implement `encoding_layer()` to create a Encoder RNN layer:\n",
    " * Embed the encoder input using [`tf.contrib.layers.embed_sequence`](https://www.tensorflow.org/api_docs/python/tf/contrib/layers/embed_sequence)\n",
    " * Construct a [stacked](https://github.com/tensorflow/tensorflow/blob/6947f65a374ebf29e74bb71e36fd82760056d82c/tensorflow/docs_src/tutorials/recurrent.md#stacking-multiple-lstms) [`tf.contrib.rnn.LSTMCell`](https://www.tensorflow.org/api_docs/python/tf/contrib/rnn/LSTMCell) wrapped in a [`tf.contrib.rnn.DropoutWrapper`](https://www.tensorflow.org/api_docs/python/tf/contrib/rnn/DropoutWrapper)\n",
    " * Pass cell and embedded input to [`tf.nn.dynamic_rnn()`](https://www.tensorflow.org/api_docs/python/tf/nn/dynamic_rnn)"
   ]
  },
  {
   "cell_type": "code",
   "execution_count": 9,
   "metadata": {
    "scrolled": false
   },
   "outputs": [
    {
     "name": "stdout",
     "output_type": "stream",
     "text": [
      "Tests Passed\n"
     ]
    }
   ],
   "source": [
    "from imp import reload\n",
    "reload(tests)\n",
    "\n",
    " # RNN cell\n",
    "def make_cell(rnn_size):\n",
    "    enc_cell = tf.contrib.rnn.LSTMCell(rnn_size,\n",
    "                                    initializer=tf.random_uniform_initializer(-0.1, 0.1, seed=2))\n",
    "    return enc_cell\n",
    "\n",
    "def encoding_layer(rnn_inputs, rnn_size, num_layers, keep_prob, \n",
    "                   source_sequence_length, source_vocab_size, \n",
    "                   encoding_embedding_size):\n",
    "    \"\"\"\n",
    "    Create encoding layer\n",
    "    :param rnn_inputs: Inputs for the RNN\n",
    "    :param rnn_size: RNN Size\n",
    "    :param num_layers: Number of layers\n",
    "    :param keep_prob: Dropout keep probability\n",
    "    :param source_sequence_length: a list of the lengths of each sequence in the batch\n",
    "    :param source_vocab_size: vocabulary size of source data\n",
    "    :param encoding_embedding_size: embedding size of source data\n",
    "    :return: tuple (RNN output, RNN state)\n",
    "    \"\"\"\n",
    "    # TODO: Implement Function\n",
    "    # Encoder embedding\n",
    "    enc_embed_input = tf.contrib.layers.embed_sequence(rnn_inputs, source_vocab_size, encoding_embedding_size)\n",
    "    \n",
    "    cell = tf.contrib.rnn.MultiRNNCell([tf.contrib.rnn.BasicLSTMCell(rnn_size)] * num_layers)\n",
    "\n",
    "    enc_cell = tf.contrib.rnn.MultiRNNCell([make_cell(rnn_size) for _ in range(num_layers)])\n",
    "    enc_cell = tf.contrib.rnn.DropoutWrapper(enc_cell, output_keep_prob=keep_prob)\n",
    "    enc_output, enc_state = tf.nn.dynamic_rnn(enc_cell, enc_embed_input, sequence_length=source_sequence_length, dtype=tf.float32)\n",
    "    \n",
    "    return enc_output, enc_state\n",
    "    \n",
    "\n",
    "\"\"\"\n",
    "DON'T MODIFY ANYTHING IN THIS CELL THAT IS BELOW THIS LINE\n",
    "\"\"\"\n",
    "tests.test_encoding_layer(encoding_layer)"
   ]
  },
  {
   "cell_type": "markdown",
   "metadata": {},
   "source": [
    "### Decoding - Training\n",
    "Create a training decoding layer:\n",
    "* Create a [`tf.contrib.seq2seq.TrainingHelper`](https://www.tensorflow.org/api_docs/python/tf/contrib/seq2seq/TrainingHelper) \n",
    "* Create a [`tf.contrib.seq2seq.BasicDecoder`](https://www.tensorflow.org/api_docs/python/tf/contrib/seq2seq/BasicDecoder)\n",
    "* Obtain the decoder outputs from [`tf.contrib.seq2seq.dynamic_decode`](https://www.tensorflow.org/api_docs/python/tf/contrib/seq2seq/dynamic_decode)"
   ]
  },
  {
   "cell_type": "code",
   "execution_count": 10,
   "metadata": {},
   "outputs": [
    {
     "name": "stdout",
     "output_type": "stream",
     "text": [
      "Tests Passed\n"
     ]
    }
   ],
   "source": [
    "\n",
    "def decoding_layer_train(enc_state, dec_cell, dec_embed_input, \n",
    "                         target_sequence_length, max_summary_length, \n",
    "                         output_layer, keep_prob):\n",
    "    \"\"\"\n",
    "    Create a decoding layer for training\n",
    "    :param encoder_state: Encoder State\n",
    "    :param dec_cell: Decoder RNN Cell\n",
    "    :param dec_embed_input: Decoder embedded input\n",
    "    :param target_sequence_length: The lengths of each sequence in the target batch\n",
    "    :param max_summary_length: The length of the longest sequence in the batch\n",
    "    :param output_layer: Function to apply the output layer\n",
    "    :param keep_prob: Dropout keep probability\n",
    "    :return: BasicDecoderOutput containing training logits and sample_id\n",
    "    \"\"\"\n",
    "    # TODO: Implement Function\n",
    "    # Helper for the training process. Used by BasicDecoder to read inputs.\n",
    "    training_helper = tf.contrib.seq2seq.TrainingHelper(inputs=dec_embed_input,\n",
    "                                                        sequence_length=target_sequence_length,\n",
    "                                                        time_major=False)\n",
    "        \n",
    "        \n",
    "    # Basic decoder\n",
    "    training_decoder = tf.contrib.seq2seq.BasicDecoder(dec_cell,\n",
    "                                                        training_helper,\n",
    "                                                        enc_state,\n",
    "                                                        output_layer) \n",
    "        \n",
    "    # Perform dynamic decoding using the decoder\n",
    "    training_decoder_output, final_state, final_sequence_lengths = tf.contrib.seq2seq.dynamic_decode(training_decoder,\n",
    "                                                                impute_finished=True,\n",
    "                                                                maximum_iterations=max_summary_length)\n",
    "\n",
    "    return training_decoder_output\n",
    "\n",
    "\"\"\"\n",
    "DON'T MODIFY ANYTHING IN THIS CELL THAT IS BELOW THIS LINE\n",
    "\"\"\"\n",
    "tests.test_decoding_layer_train(decoding_layer_train)"
   ]
  },
  {
   "cell_type": "markdown",
   "metadata": {},
   "source": [
    "### Decoding - Inference\n",
    "Create inference decoder:\n",
    "* Create a [`tf.contrib.seq2seq.GreedyEmbeddingHelper`](https://www.tensorflow.org/api_docs/python/tf/contrib/seq2seq/GreedyEmbeddingHelper)\n",
    "* Create a [`tf.contrib.seq2seq.BasicDecoder`](https://www.tensorflow.org/api_docs/python/tf/contrib/seq2seq/BasicDecoder)\n",
    "* Obtain the decoder outputs from [`tf.contrib.seq2seq.dynamic_decode`](https://www.tensorflow.org/api_docs/python/tf/contrib/seq2seq/dynamic_decode)"
   ]
  },
  {
   "cell_type": "code",
   "execution_count": 11,
   "metadata": {
    "scrolled": true
   },
   "outputs": [
    {
     "name": "stdout",
     "output_type": "stream",
     "text": [
      "Tests Passed\n"
     ]
    }
   ],
   "source": [
    "def decoding_layer_infer(encoder_state, dec_cell, dec_embeddings, start_of_sequence_id,\n",
    "                         end_of_sequence_id, max_target_sequence_length,\n",
    "                         vocab_size, output_layer, batch_size, keep_prob):\n",
    "    \"\"\"\n",
    "    Create a decoding layer for inference\n",
    "    :param encoder_state: Encoder state\n",
    "    :param dec_cell: Decoder RNN Cell\n",
    "    :param dec_embeddings: Decoder embeddings\n",
    "    :param start_of_sequence_id: GO ID\n",
    "    :param end_of_sequence_id: EOS Id\n",
    "    :param max_target_sequence_length: Maximum length of target sequences\n",
    "    :param vocab_size: Size of decoder/target vocabulary\n",
    "    :param decoding_scope: TenorFlow Variable Scope for decoding\n",
    "    :param output_layer: Function to apply the output layer\n",
    "    :param batch_size: Batch size\n",
    "    :param keep_prob: Dropout keep probability\n",
    "    :return: BasicDecoderOutput containing inference logits and sample_id\n",
    "    \"\"\"\n",
    "    # TODO: Implement Function\n",
    "    start_tokens = tf.tile(tf.constant([start_of_sequence_id], dtype=tf.int32), [batch_size], name='start_tokens') \n",
    "    # Helper for the inference process.\n",
    "    inference_helper = tf.contrib.seq2seq.GreedyEmbeddingHelper(dec_embeddings,\n",
    "                                                                start_tokens,\n",
    "                                                                end_of_sequence_id)\n",
    "\n",
    "    # Basic decoder\n",
    "    inference_decoder = tf.contrib.seq2seq.BasicDecoder(dec_cell,\n",
    "                                                        inference_helper,\n",
    "                                                        encoder_state,\n",
    "                                                        output_layer)\n",
    "        \n",
    "    # Perform dynamic decoding using the decoder\n",
    "    inference_decoder_output, final_state, final_sequence_lengths = tf.contrib.seq2seq.dynamic_decode(inference_decoder,\n",
    "                                                            impute_finished=True,\n",
    "                                                            maximum_iterations=max_target_sequence_length)\n",
    "    \n",
    "    return inference_decoder_output\n",
    "\n",
    "\n",
    "\n",
    "\"\"\"\n",
    "DON'T MODIFY ANYTHING IN THIS CELL THAT IS BELOW THIS LINE\n",
    "\"\"\"\n",
    "tests.test_decoding_layer_infer(decoding_layer_infer)"
   ]
  },
  {
   "cell_type": "markdown",
   "metadata": {},
   "source": [
    "### Build the Decoding Layer\n",
    "Implement `decoding_layer()` to create a Decoder RNN layer.\n",
    "\n",
    "* Embed the target sequences\n",
    "* Construct the decoder LSTM cell (just like you constructed the encoder cell above)\n",
    "* Create an output layer to map the outputs of the decoder to the elements of our vocabulary\n",
    "* Use the your `decoding_layer_train(encoder_state, dec_cell, dec_embed_input, target_sequence_length, max_target_sequence_length, output_layer, keep_prob)` function to get the training logits.\n",
    "* Use your `decoding_layer_infer(encoder_state, dec_cell, dec_embeddings, start_of_sequence_id, end_of_sequence_id, max_target_sequence_length, vocab_size, output_layer, batch_size, keep_prob)` function to get the inference logits.\n",
    "\n",
    "Note: You'll need to use [tf.variable_scope](https://www.tensorflow.org/api_docs/python/tf/variable_scope) to share variables between training and inference."
   ]
  },
  {
   "cell_type": "code",
   "execution_count": 15,
   "metadata": {},
   "outputs": [
    {
     "name": "stdout",
     "output_type": "stream",
     "text": [
      "Tests Passed\n"
     ]
    }
   ],
   "source": [
    "def decoding_layer(dec_input, encoder_state,\n",
    "                   target_sequence_length, max_target_sequence_length,\n",
    "                   rnn_size,\n",
    "                   num_layers, target_vocab_to_int, target_vocab_size,\n",
    "                   batch_size, keep_prob, decoding_embedding_size):\n",
    "    \"\"\"\n",
    "    Create decoding layer\n",
    "    :param dec_input: Decoder input\n",
    "    :param encoder_state: Encoder state\n",
    "    :param target_sequence_length: The lengths of each sequence in the target batch\n",
    "    :param max_target_sequence_length: Maximum length of target sequences\n",
    "    :param rnn_size: RNN Size\n",
    "    :param num_layers: Number of layers\n",
    "    :param target_vocab_to_int: Dictionary to go from the target words to an id\n",
    "    :param target_vocab_size: Size of target vocabulary\n",
    "    :param batch_size: The size of the batch\n",
    "    :param keep_prob: Dropout keep probability\n",
    "    :param decoding_embedding_size: Decoding embedding size\n",
    "    :return: Tuple of (Training BasicDecoderOutput, Inference BasicDecoderOutput)\n",
    "    \"\"\"\n",
    "    # TODO: Implement Function\n",
    "    start_of_sequence_id = target_vocab_to_int['<GO>']\n",
    "    end_of_sequence_id = target_vocab_to_int['<EOS>']\n",
    "    dec_embeddings = tf.Variable(tf.random_uniform([target_vocab_size, decoding_embedding_size]))\n",
    "    dec_embed_input = tf.nn.embedding_lookup(dec_embeddings, dec_input)\n",
    "    dec_cell = tf.contrib.rnn.MultiRNNCell([make_cell(rnn_size) for _ in range(num_layers)])\n",
    "    output_layer = Dense(target_vocab_size, kernel_initializer = tf.truncated_normal_initializer(mean = 0.0, stddev=0.1))\n",
    "    with tf.variable_scope(\"decode\"):\n",
    "        training_decoder_output = decoding_layer_train(encoder_state, dec_cell, dec_embed_input,\n",
    "                             target_sequence_length, max_target_sequence_length, \n",
    "                             output_layer, keep_prob)\n",
    "    \n",
    "    with tf.variable_scope(\"decode\", reuse=True):\n",
    "        inference_decoder_output = decoding_layer_infer(encoder_state, dec_cell, dec_embeddings, \\\n",
    "                                                        start_of_sequence_id, end_of_sequence_id,\\\n",
    "                                                        max_target_sequence_length, target_vocab_size,\\\n",
    "                                                        output_layer, batch_size, keep_prob)       \n",
    "    return training_decoder_output, inference_decoder_output\n",
    "\n",
    "\n",
    "\n",
    "\"\"\"\n",
    "DON'T MODIFY ANYTHING IN THIS CELL THAT IS BELOW THIS LINE\n",
    "\"\"\"\n",
    "tests.test_decoding_layer(decoding_layer)"
   ]
  },
  {
   "cell_type": "markdown",
   "metadata": {},
   "source": [
    "### Build the Neural Network\n",
    "Apply the functions you implemented above to:\n",
    "\n",
    "- Encode the input using your `encoding_layer(rnn_inputs, rnn_size, num_layers, keep_prob,  source_sequence_length, source_vocab_size, encoding_embedding_size)`.\n",
    "- Process target data using your `process_decoder_input(target_data, target_vocab_to_int, batch_size)` function.\n",
    "- Decode the encoded input using your `decoding_layer(dec_input, enc_state, target_sequence_length, max_target_sentence_length, rnn_size, num_layers, target_vocab_to_int, target_vocab_size, batch_size, keep_prob, dec_embedding_size)` function."
   ]
  },
  {
   "cell_type": "code",
   "execution_count": 16,
   "metadata": {},
   "outputs": [
    {
     "name": "stdout",
     "output_type": "stream",
     "text": [
      "Tests Passed\n"
     ]
    }
   ],
   "source": [
    "def seq2seq_model(input_data, target_data, keep_prob, batch_size,\n",
    "                  source_sequence_length, target_sequence_length,\n",
    "                  max_target_sentence_length,\n",
    "                  source_vocab_size, target_vocab_size,\n",
    "                  enc_embedding_size, dec_embedding_size,\n",
    "                  rnn_size, num_layers, target_vocab_to_int):\n",
    "    \"\"\"\n",
    "    Build the Sequence-to-Sequence part of the neural network\n",
    "    :param input_data: Input placeholder\n",
    "    :param target_data: Target placeholder\n",
    "    :param keep_prob: Dropout keep probability placeholder\n",
    "    :param batch_size: Batch Size\n",
    "    :param source_sequence_length: Sequence Lengths of source sequences in the batch\n",
    "    :param target_sequence_length: Sequence Lengths of target sequences in the batch\n",
    "    :param source_vocab_size: Source vocabulary size\n",
    "    :param target_vocab_size: Target vocabulary size\n",
    "    :param enc_embedding_size: Decoder embedding size\n",
    "    :param dec_embedding_size: Encoder embedding size\n",
    "    :param rnn_size: RNN Size\n",
    "    :param num_layers: Number of layers\n",
    "    :param target_vocab_to_int: Dictionary to go from the target words to an id\n",
    "    :return: Tuple of (Training BasicDecoderOutput, Inference BasicDecoderOutput)\n",
    "    \"\"\"\n",
    "    # TODO: Implement Function\n",
    "        # TODO: Implement Function\n",
    "    # Pass the input data through the encoder. We'll ignore the encoder output, but use the state    \n",
    "    _, enc_state = encoding_layer(input_data, \n",
    "                                  rnn_size, \n",
    "                                  num_layers, \n",
    "                                  keep_prob,\n",
    "                                  source_sequence_length,\n",
    "                                  source_vocab_size, \n",
    "                                  enc_embedding_size)\n",
    "\n",
    "    # Prepare the target sequences we'll feed to the decoder in training mode\n",
    "    dec_input = process_decoder_input(target_data, target_vocab_to_int, batch_size)   \n",
    "    \n",
    "    # Pass encoder state and decoder inputs to the decoders\n",
    "    training_decoder_output, inference_decoder_output = decoding_layer(dec_input, \n",
    "                                                                       enc_state,\n",
    "                                                                       target_sequence_length,\n",
    "                                                                       max_target_sentence_length,\n",
    "                                                                       rnn_size,\n",
    "                                                                       num_layers, \n",
    "                                                                       target_vocab_to_int,\n",
    "                                                                       target_vocab_size,\n",
    "                                                                       batch_size, keep_prob,\n",
    "                                                                       dec_embedding_size \n",
    "                                                                       ) \n",
    "    \n",
    "    return training_decoder_output, inference_decoder_output\n",
    "\n",
    "\n",
    "\"\"\"\n",
    "DON'T MODIFY ANYTHING IN THIS CELL THAT IS BELOW THIS LINE\n",
    "\"\"\"\n",
    "tests.test_seq2seq_model(seq2seq_model)"
   ]
  },
  {
   "cell_type": "markdown",
   "metadata": {},
   "source": [
    "## Neural Network Training\n",
    "### Hyperparameters\n",
    "Tune the following parameters:\n",
    "\n",
    "- Set `epochs` to the number of epochs.\n",
    "- Set `batch_size` to the batch size.\n",
    "- Set `rnn_size` to the size of the RNNs.\n",
    "- Set `num_layers` to the number of layers.\n",
    "- Set `encoding_embedding_size` to the size of the embedding for the encoder.\n",
    "- Set `decoding_embedding_size` to the size of the embedding for the decoder.\n",
    "- Set `learning_rate` to the learning rate.\n",
    "- Set `keep_probability` to the Dropout keep probability\n",
    "- Set `display_step` to state how many steps between each debug output statement"
   ]
  },
  {
   "cell_type": "code",
   "execution_count": 17,
   "metadata": {
    "collapsed": true
   },
   "outputs": [],
   "source": [
    "# Number of Epochs\n",
    "epochs = 5\n",
    "# Batch Size\n",
    "batch_size = 256\n",
    "# RNN Size\n",
    "rnn_size = 512\n",
    "# Number of Layers\n",
    "num_layers = 2\n",
    "# Embedding Size\n",
    "encoding_embedding_size = 256\n",
    "decoding_embedding_size = 256\n",
    "# Learning Rate\n",
    "learning_rate = 0.001\n",
    "# Dropout Keep Probability\n",
    "keep_probability = 5\n",
    "display_step = 10"
   ]
  },
  {
   "cell_type": "markdown",
   "metadata": {},
   "source": [
    "### Build the Graph\n",
    "Build the graph using the neural network you implemented."
   ]
  },
  {
   "cell_type": "code",
   "execution_count": 18,
   "metadata": {
    "collapsed": true
   },
   "outputs": [],
   "source": [
    "\"\"\"\n",
    "DON'T MODIFY ANYTHING IN THIS CELL\n",
    "\"\"\"\n",
    "save_path = 'checkpoints/dev'\n",
    "(source_int_text, target_int_text), (source_vocab_to_int, target_vocab_to_int), _ = helper.load_preprocess()\n",
    "max_target_sentence_length = max([len(sentence) for sentence in source_int_text])\n",
    "\n",
    "train_graph = tf.Graph()\n",
    "with train_graph.as_default():\n",
    "    input_data, targets, lr, keep_prob, target_sequence_length, max_target_sequence_length, source_sequence_length = model_inputs()\n",
    "\n",
    "    #sequence_length = tf.placeholder_with_default(max_target_sentence_length, None, name='sequence_length')\n",
    "    input_shape = tf.shape(input_data)\n",
    "\n",
    "    train_logits, inference_logits = seq2seq_model(tf.reverse(input_data, [-1]),\n",
    "                                                   targets,\n",
    "                                                   keep_prob,\n",
    "                                                   batch_size,\n",
    "                                                   source_sequence_length,\n",
    "                                                   target_sequence_length,\n",
    "                                                   max_target_sequence_length,\n",
    "                                                   len(source_vocab_to_int),\n",
    "                                                   len(target_vocab_to_int),\n",
    "                                                   encoding_embedding_size,\n",
    "                                                   decoding_embedding_size,\n",
    "                                                   rnn_size,\n",
    "                                                   num_layers,\n",
    "                                                   target_vocab_to_int)\n",
    "\n",
    "\n",
    "    training_logits = tf.identity(train_logits.rnn_output, name='logits')\n",
    "    inference_logits = tf.identity(inference_logits.sample_id, name='predictions')\n",
    "\n",
    "    masks = tf.sequence_mask(target_sequence_length, max_target_sequence_length, dtype=tf.float32, name='masks')\n",
    "\n",
    "    with tf.name_scope(\"optimization\"):\n",
    "        # Loss function\n",
    "        cost = tf.contrib.seq2seq.sequence_loss(\n",
    "            training_logits,\n",
    "            targets,\n",
    "            masks)\n",
    "\n",
    "        # Optimizer\n",
    "        optimizer = tf.train.AdamOptimizer(lr)\n",
    "\n",
    "        # Gradient Clipping\n",
    "        gradients = optimizer.compute_gradients(cost)\n",
    "        capped_gradients = [(tf.clip_by_value(grad, -1., 1.), var) for grad, var in gradients if grad is not None]\n",
    "        train_op = optimizer.apply_gradients(capped_gradients)\n"
   ]
  },
  {
   "cell_type": "markdown",
   "metadata": {},
   "source": [
    "Batch and pad the source and target sequences"
   ]
  },
  {
   "cell_type": "code",
   "execution_count": 20,
   "metadata": {
    "collapsed": true
   },
   "outputs": [],
   "source": [
    "\"\"\"\n",
    "DON'T MODIFY ANYTHING IN THIS CELL\n",
    "\"\"\"\n",
    "def pad_sentence_batch(sentence_batch, pad_int):\n",
    "    \"\"\"Pad sentences with <PAD> so that each sentence of a batch has the same length\"\"\"\n",
    "    max_sentence = max([len(sentence) for sentence in sentence_batch])\n",
    "    return [sentence + [pad_int] * (max_sentence - len(sentence)) for sentence in sentence_batch]\n",
    "\n",
    "\n",
    "def get_batches(sources, targets, batch_size, source_pad_int, target_pad_int):\n",
    "    \"\"\"Batch targets, sources, and the lengths of their sentences together\"\"\"\n",
    "    for batch_i in range(0, len(sources)//batch_size):\n",
    "        start_i = batch_i * batch_size\n",
    "\n",
    "        # Slice the right amount for the batch\n",
    "        sources_batch = sources[start_i:start_i + batch_size]\n",
    "        targets_batch = targets[start_i:start_i + batch_size]\n",
    "\n",
    "        # Pad\n",
    "        pad_sources_batch = np.array(pad_sentence_batch(sources_batch, source_pad_int))\n",
    "        pad_targets_batch = np.array(pad_sentence_batch(targets_batch, target_pad_int))\n",
    "\n",
    "        # Need the lengths for the _lengths parameters\n",
    "        pad_targets_lengths = []\n",
    "        for target in pad_targets_batch:\n",
    "            pad_targets_lengths.append(len(target))\n",
    "\n",
    "        pad_source_lengths = []\n",
    "        for source in pad_sources_batch:\n",
    "            pad_source_lengths.append(len(source))\n",
    "\n",
    "        yield pad_sources_batch, pad_targets_batch, pad_source_lengths, pad_targets_lengths\n"
   ]
  },
  {
   "cell_type": "markdown",
   "metadata": {},
   "source": [
    "### Train\n",
    "Train the neural network on the preprocessed data. If you have a hard time getting a good loss, check the forms to see if anyone is having the same problem."
   ]
  },
  {
   "cell_type": "code",
   "execution_count": 21,
   "metadata": {
    "scrolled": true
   },
   "outputs": [
    {
     "name": "stdout",
     "output_type": "stream",
     "text": [
      "Epoch   0 Batch   10/538 - Train Accuracy: 0.3256, Validation Accuracy: 0.4098, Loss: 3.1298\n",
      "Epoch   0 Batch   20/538 - Train Accuracy: 0.4321, Validation Accuracy: 0.4693, Loss: 2.4952\n",
      "Epoch   0 Batch   30/538 - Train Accuracy: 0.4361, Validation Accuracy: 0.4952, Loss: 2.3096\n",
      "Epoch   0 Batch   40/538 - Train Accuracy: 0.5059, Validation Accuracy: 0.5071, Loss: 1.8389\n",
      "Epoch   0 Batch   50/538 - Train Accuracy: 0.4650, Validation Accuracy: 0.4956, Loss: 1.7285\n",
      "Epoch   0 Batch   60/538 - Train Accuracy: 0.4404, Validation Accuracy: 0.4792, Loss: 1.5384\n",
      "Epoch   0 Batch   70/538 - Train Accuracy: 0.4758, Validation Accuracy: 0.5021, Loss: 1.3440\n",
      "Epoch   0 Batch   80/538 - Train Accuracy: 0.4463, Validation Accuracy: 0.5154, Loss: 1.3046\n",
      "Epoch   0 Batch   90/538 - Train Accuracy: 0.4877, Validation Accuracy: 0.5057, Loss: 1.1582\n",
      "Epoch   0 Batch  100/538 - Train Accuracy: 0.5137, Validation Accuracy: 0.5412, Loss: 1.0433\n",
      "Epoch   0 Batch  110/538 - Train Accuracy: 0.5189, Validation Accuracy: 0.5607, Loss: 1.0033\n",
      "Epoch   0 Batch  120/538 - Train Accuracy: 0.5525, Validation Accuracy: 0.5655, Loss: 0.8887\n",
      "Epoch   0 Batch  130/538 - Train Accuracy: 0.5675, Validation Accuracy: 0.5866, Loss: 0.8162\n",
      "Epoch   0 Batch  140/538 - Train Accuracy: 0.5316, Validation Accuracy: 0.5666, Loss: 0.9703\n",
      "Epoch   0 Batch  150/538 - Train Accuracy: 0.5941, Validation Accuracy: 0.5845, Loss: 0.7902\n",
      "Epoch   0 Batch  160/538 - Train Accuracy: 0.6053, Validation Accuracy: 0.6067, Loss: 0.7047\n",
      "Epoch   0 Batch  170/538 - Train Accuracy: 0.6155, Validation Accuracy: 0.6088, Loss: 0.6753\n",
      "Epoch   0 Batch  180/538 - Train Accuracy: 0.6388, Validation Accuracy: 0.6028, Loss: 0.6502\n",
      "Epoch   0 Batch  190/538 - Train Accuracy: 0.6045, Validation Accuracy: 0.6152, Loss: 0.6521\n",
      "Epoch   0 Batch  200/538 - Train Accuracy: 0.6188, Validation Accuracy: 0.6294, Loss: 0.6103\n",
      "Epoch   0 Batch  210/538 - Train Accuracy: 0.6135, Validation Accuracy: 0.6268, Loss: 0.5747\n",
      "Epoch   0 Batch  220/538 - Train Accuracy: 0.6291, Validation Accuracy: 0.6451, Loss: 0.5471\n",
      "Epoch   0 Batch  230/538 - Train Accuracy: 0.6697, Validation Accuracy: 0.6383, Loss: 0.5546\n",
      "Epoch   0 Batch  240/538 - Train Accuracy: 0.6535, Validation Accuracy: 0.6655, Loss: 0.5421\n",
      "Epoch   0 Batch  250/538 - Train Accuracy: 0.6828, Validation Accuracy: 0.6822, Loss: 0.5011\n",
      "Epoch   0 Batch  260/538 - Train Accuracy: 0.6698, Validation Accuracy: 0.6774, Loss: 0.4660\n",
      "Epoch   0 Batch  270/538 - Train Accuracy: 0.6977, Validation Accuracy: 0.6889, Loss: 0.4600\n",
      "Epoch   0 Batch  280/538 - Train Accuracy: 0.7344, Validation Accuracy: 0.7287, Loss: 0.4112\n",
      "Epoch   0 Batch  290/538 - Train Accuracy: 0.7445, Validation Accuracy: 0.7312, Loss: 0.3946\n",
      "Epoch   0 Batch  300/538 - Train Accuracy: 0.7424, Validation Accuracy: 0.7424, Loss: 0.3560\n",
      "Epoch   0 Batch  310/538 - Train Accuracy: 0.7898, Validation Accuracy: 0.7706, Loss: 0.3444\n",
      "Epoch   0 Batch  320/538 - Train Accuracy: 0.7766, Validation Accuracy: 0.7935, Loss: 0.3067\n",
      "Epoch   0 Batch  330/538 - Train Accuracy: 0.8298, Validation Accuracy: 0.7905, Loss: 0.2723\n",
      "Epoch   0 Batch  340/538 - Train Accuracy: 0.8113, Validation Accuracy: 0.8018, Loss: 0.2655\n",
      "Epoch   0 Batch  350/538 - Train Accuracy: 0.8545, Validation Accuracy: 0.8082, Loss: 0.2501\n",
      "Epoch   0 Batch  360/538 - Train Accuracy: 0.8477, Validation Accuracy: 0.8180, Loss: 0.2348\n",
      "Epoch   0 Batch  370/538 - Train Accuracy: 0.8445, Validation Accuracy: 0.8493, Loss: 0.2062\n",
      "Epoch   0 Batch  380/538 - Train Accuracy: 0.8820, Validation Accuracy: 0.8610, Loss: 0.1796\n",
      "Epoch   0 Batch  390/538 - Train Accuracy: 0.8890, Validation Accuracy: 0.8452, Loss: 0.1567\n",
      "Epoch   0 Batch  400/538 - Train Accuracy: 0.8811, Validation Accuracy: 0.8707, Loss: 0.1591\n",
      "Epoch   0 Batch  410/538 - Train Accuracy: 0.8742, Validation Accuracy: 0.8633, Loss: 0.1621\n",
      "Epoch   0 Batch  420/538 - Train Accuracy: 0.9016, Validation Accuracy: 0.8746, Loss: 0.1331\n",
      "Epoch   0 Batch  430/538 - Train Accuracy: 0.8904, Validation Accuracy: 0.8658, Loss: 0.1184\n",
      "Epoch   0 Batch  440/538 - Train Accuracy: 0.8809, Validation Accuracy: 0.8841, Loss: 0.1350\n",
      "Epoch   0 Batch  450/538 - Train Accuracy: 0.8929, Validation Accuracy: 0.8862, Loss: 0.1368\n",
      "Epoch   0 Batch  460/538 - Train Accuracy: 0.8862, Validation Accuracy: 0.9015, Loss: 0.1151\n",
      "Epoch   0 Batch  470/538 - Train Accuracy: 0.9036, Validation Accuracy: 0.8912, Loss: 0.0963\n",
      "Epoch   0 Batch  480/538 - Train Accuracy: 0.8997, Validation Accuracy: 0.8910, Loss: 0.0942\n",
      "Epoch   0 Batch  490/538 - Train Accuracy: 0.9126, Validation Accuracy: 0.9057, Loss: 0.0859\n",
      "Epoch   0 Batch  500/538 - Train Accuracy: 0.9237, Validation Accuracy: 0.8991, Loss: 0.0716\n",
      "Epoch   0 Batch  510/538 - Train Accuracy: 0.9156, Validation Accuracy: 0.9123, Loss: 0.0783\n",
      "Epoch   0 Batch  520/538 - Train Accuracy: 0.9045, Validation Accuracy: 0.8984, Loss: 0.0886\n",
      "Epoch   0 Batch  530/538 - Train Accuracy: 0.9010, Validation Accuracy: 0.9276, Loss: 0.0894\n",
      "Epoch   1 Batch   10/538 - Train Accuracy: 0.9104, Validation Accuracy: 0.8970, Loss: 0.0768\n",
      "Epoch   1 Batch   20/538 - Train Accuracy: 0.9204, Validation Accuracy: 0.9142, Loss: 0.0712\n",
      "Epoch   1 Batch   30/538 - Train Accuracy: 0.9014, Validation Accuracy: 0.9185, Loss: 0.0759\n",
      "Epoch   1 Batch   40/538 - Train Accuracy: 0.9242, Validation Accuracy: 0.9141, Loss: 0.0539\n",
      "Epoch   1 Batch   50/538 - Train Accuracy: 0.9156, Validation Accuracy: 0.9267, Loss: 0.0623\n",
      "Epoch   1 Batch   60/538 - Train Accuracy: 0.9375, Validation Accuracy: 0.9308, Loss: 0.0598\n",
      "Epoch   1 Batch   70/538 - Train Accuracy: 0.9217, Validation Accuracy: 0.9178, Loss: 0.0563\n",
      "Epoch   1 Batch   80/538 - Train Accuracy: 0.9383, Validation Accuracy: 0.9265, Loss: 0.0603\n",
      "Epoch   1 Batch   90/538 - Train Accuracy: 0.9429, Validation Accuracy: 0.9084, Loss: 0.0621\n",
      "Epoch   1 Batch  100/538 - Train Accuracy: 0.9516, Validation Accuracy: 0.9300, Loss: 0.0499\n",
      "Epoch   1 Batch  110/538 - Train Accuracy: 0.9344, Validation Accuracy: 0.9290, Loss: 0.0566\n",
      "Epoch   1 Batch  120/538 - Train Accuracy: 0.9486, Validation Accuracy: 0.9308, Loss: 0.0394\n",
      "Epoch   1 Batch  130/538 - Train Accuracy: 0.9308, Validation Accuracy: 0.9421, Loss: 0.0471\n",
      "Epoch   1 Batch  140/538 - Train Accuracy: 0.9428, Validation Accuracy: 0.9382, Loss: 0.0667\n",
      "Epoch   1 Batch  150/538 - Train Accuracy: 0.9443, Validation Accuracy: 0.9338, Loss: 0.0444\n",
      "Epoch   1 Batch  160/538 - Train Accuracy: 0.9474, Validation Accuracy: 0.9371, Loss: 0.0434\n",
      "Epoch   1 Batch  170/538 - Train Accuracy: 0.9429, Validation Accuracy: 0.9292, Loss: 0.0490\n",
      "Epoch   1 Batch  180/538 - Train Accuracy: 0.9338, Validation Accuracy: 0.9423, Loss: 0.0478\n",
      "Epoch   1 Batch  190/538 - Train Accuracy: 0.9330, Validation Accuracy: 0.9380, Loss: 0.0595\n",
      "Epoch   1 Batch  200/538 - Train Accuracy: 0.9527, Validation Accuracy: 0.9418, Loss: 0.0367\n",
      "Epoch   1 Batch  210/538 - Train Accuracy: 0.9403, Validation Accuracy: 0.9478, Loss: 0.0473\n",
      "Epoch   1 Batch  220/538 - Train Accuracy: 0.9427, Validation Accuracy: 0.9421, Loss: 0.0477\n",
      "Epoch   1 Batch  230/538 - Train Accuracy: 0.9443, Validation Accuracy: 0.9480, Loss: 0.0408\n",
      "Epoch   1 Batch  240/538 - Train Accuracy: 0.9494, Validation Accuracy: 0.9430, Loss: 0.0442\n",
      "Epoch   1 Batch  250/538 - Train Accuracy: 0.9475, Validation Accuracy: 0.9457, Loss: 0.0411\n",
      "Epoch   1 Batch  260/538 - Train Accuracy: 0.9394, Validation Accuracy: 0.9482, Loss: 0.0409\n",
      "Epoch   1 Batch  270/538 - Train Accuracy: 0.9656, Validation Accuracy: 0.9435, Loss: 0.0361\n",
      "Epoch   1 Batch  280/538 - Train Accuracy: 0.9647, Validation Accuracy: 0.9421, Loss: 0.0343\n",
      "Epoch   1 Batch  290/538 - Train Accuracy: 0.9678, Validation Accuracy: 0.9425, Loss: 0.0343\n",
      "Epoch   1 Batch  300/538 - Train Accuracy: 0.9325, Validation Accuracy: 0.9434, Loss: 0.0401\n",
      "Epoch   1 Batch  310/538 - Train Accuracy: 0.9658, Validation Accuracy: 0.9544, Loss: 0.0415\n",
      "Epoch   1 Batch  320/538 - Train Accuracy: 0.9606, Validation Accuracy: 0.9551, Loss: 0.0319\n",
      "Epoch   1 Batch  330/538 - Train Accuracy: 0.9706, Validation Accuracy: 0.9595, Loss: 0.0328\n",
      "Epoch   1 Batch  340/538 - Train Accuracy: 0.9504, Validation Accuracy: 0.9537, Loss: 0.0365\n",
      "Epoch   1 Batch  350/538 - Train Accuracy: 0.9537, Validation Accuracy: 0.9556, Loss: 0.0408\n",
      "Epoch   1 Batch  360/538 - Train Accuracy: 0.9549, Validation Accuracy: 0.9599, Loss: 0.0315\n"
     ]
    },
    {
     "name": "stdout",
     "output_type": "stream",
     "text": [
      "Epoch   1 Batch  370/538 - Train Accuracy: 0.9496, Validation Accuracy: 0.9703, Loss: 0.0347\n",
      "Epoch   1 Batch  380/538 - Train Accuracy: 0.9703, Validation Accuracy: 0.9652, Loss: 0.0291\n",
      "Epoch   1 Batch  390/538 - Train Accuracy: 0.9660, Validation Accuracy: 0.9414, Loss: 0.0296\n",
      "Epoch   1 Batch  400/538 - Train Accuracy: 0.9745, Validation Accuracy: 0.9640, Loss: 0.0310\n",
      "Epoch   1 Batch  410/538 - Train Accuracy: 0.9672, Validation Accuracy: 0.9528, Loss: 0.0333\n",
      "Epoch   1 Batch  420/538 - Train Accuracy: 0.9535, Validation Accuracy: 0.9572, Loss: 0.0326\n",
      "Epoch   1 Batch  430/538 - Train Accuracy: 0.9596, Validation Accuracy: 0.9494, Loss: 0.0287\n",
      "Epoch   1 Batch  440/538 - Train Accuracy: 0.9768, Validation Accuracy: 0.9505, Loss: 0.0311\n",
      "Epoch   1 Batch  450/538 - Train Accuracy: 0.9371, Validation Accuracy: 0.9590, Loss: 0.0417\n",
      "Epoch   1 Batch  460/538 - Train Accuracy: 0.9418, Validation Accuracy: 0.9606, Loss: 0.0383\n",
      "Epoch   1 Batch  470/538 - Train Accuracy: 0.9624, Validation Accuracy: 0.9593, Loss: 0.0280\n",
      "Epoch   1 Batch  480/538 - Train Accuracy: 0.9691, Validation Accuracy: 0.9489, Loss: 0.0260\n",
      "Epoch   1 Batch  490/538 - Train Accuracy: 0.9598, Validation Accuracy: 0.9688, Loss: 0.0259\n",
      "Epoch   1 Batch  500/538 - Train Accuracy: 0.9712, Validation Accuracy: 0.9627, Loss: 0.0194\n",
      "Epoch   1 Batch  510/538 - Train Accuracy: 0.9667, Validation Accuracy: 0.9512, Loss: 0.0255\n",
      "Epoch   1 Batch  520/538 - Train Accuracy: 0.9588, Validation Accuracy: 0.9563, Loss: 0.0310\n",
      "Epoch   1 Batch  530/538 - Train Accuracy: 0.9490, Validation Accuracy: 0.9556, Loss: 0.0331\n",
      "Epoch   2 Batch   10/538 - Train Accuracy: 0.9637, Validation Accuracy: 0.9460, Loss: 0.0276\n",
      "Epoch   2 Batch   20/538 - Train Accuracy: 0.9712, Validation Accuracy: 0.9613, Loss: 0.0264\n",
      "Epoch   2 Batch   30/538 - Train Accuracy: 0.9609, Validation Accuracy: 0.9688, Loss: 0.0299\n",
      "Epoch   2 Batch   40/538 - Train Accuracy: 0.9585, Validation Accuracy: 0.9688, Loss: 0.0224\n",
      "Epoch   2 Batch   50/538 - Train Accuracy: 0.9547, Validation Accuracy: 0.9513, Loss: 0.0217\n",
      "Epoch   2 Batch   60/538 - Train Accuracy: 0.9689, Validation Accuracy: 0.9725, Loss: 0.0284\n",
      "Epoch   2 Batch   70/538 - Train Accuracy: 0.9581, Validation Accuracy: 0.9506, Loss: 0.0244\n",
      "Epoch   2 Batch   80/538 - Train Accuracy: 0.9787, Validation Accuracy: 0.9684, Loss: 0.0220\n",
      "Epoch   2 Batch   90/538 - Train Accuracy: 0.9730, Validation Accuracy: 0.9590, Loss: 0.0251\n",
      "Epoch   2 Batch  100/538 - Train Accuracy: 0.9791, Validation Accuracy: 0.9668, Loss: 0.0214\n",
      "Epoch   2 Batch  110/538 - Train Accuracy: 0.9695, Validation Accuracy: 0.9647, Loss: 0.0235\n",
      "Epoch   2 Batch  120/538 - Train Accuracy: 0.9725, Validation Accuracy: 0.9721, Loss: 0.0168\n",
      "Epoch   2 Batch  130/538 - Train Accuracy: 0.9701, Validation Accuracy: 0.9663, Loss: 0.0230\n",
      "Epoch   2 Batch  140/538 - Train Accuracy: 0.9742, Validation Accuracy: 0.9719, Loss: 0.0307\n",
      "Epoch   2 Batch  150/538 - Train Accuracy: 0.9662, Validation Accuracy: 0.9744, Loss: 0.0194\n",
      "Epoch   2 Batch  160/538 - Train Accuracy: 0.9632, Validation Accuracy: 0.9679, Loss: 0.0204\n",
      "Epoch   2 Batch  170/538 - Train Accuracy: 0.9622, Validation Accuracy: 0.9638, Loss: 0.0245\n",
      "Epoch   2 Batch  180/538 - Train Accuracy: 0.9531, Validation Accuracy: 0.9659, Loss: 0.0240\n",
      "Epoch   2 Batch  190/538 - Train Accuracy: 0.9749, Validation Accuracy: 0.9670, Loss: 0.0287\n",
      "Epoch   2 Batch  200/538 - Train Accuracy: 0.9744, Validation Accuracy: 0.9624, Loss: 0.0166\n",
      "Epoch   2 Batch  210/538 - Train Accuracy: 0.9769, Validation Accuracy: 0.9702, Loss: 0.0229\n",
      "Epoch   2 Batch  220/538 - Train Accuracy: 0.9652, Validation Accuracy: 0.9632, Loss: 0.0243\n",
      "Epoch   2 Batch  230/538 - Train Accuracy: 0.9727, Validation Accuracy: 0.9672, Loss: 0.0194\n",
      "Epoch   2 Batch  240/538 - Train Accuracy: 0.9688, Validation Accuracy: 0.9647, Loss: 0.0207\n",
      "Epoch   2 Batch  250/538 - Train Accuracy: 0.9723, Validation Accuracy: 0.9595, Loss: 0.0216\n",
      "Epoch   2 Batch  260/538 - Train Accuracy: 0.9671, Validation Accuracy: 0.9570, Loss: 0.0214\n",
      "Epoch   2 Batch  270/538 - Train Accuracy: 0.9756, Validation Accuracy: 0.9718, Loss: 0.0178\n",
      "Epoch   2 Batch  280/538 - Train Accuracy: 0.9792, Validation Accuracy: 0.9656, Loss: 0.0179\n",
      "Epoch   2 Batch  290/538 - Train Accuracy: 0.9832, Validation Accuracy: 0.9741, Loss: 0.0189\n",
      "Epoch   2 Batch  300/538 - Train Accuracy: 0.9622, Validation Accuracy: 0.9489, Loss: 0.0214\n",
      "Epoch   2 Batch  310/538 - Train Accuracy: 0.9824, Validation Accuracy: 0.9663, Loss: 0.0254\n",
      "Epoch   2 Batch  320/538 - Train Accuracy: 0.9650, Validation Accuracy: 0.9606, Loss: 0.0189\n",
      "Epoch   2 Batch  330/538 - Train Accuracy: 0.9855, Validation Accuracy: 0.9645, Loss: 0.0203\n",
      "Epoch   2 Batch  340/538 - Train Accuracy: 0.9717, Validation Accuracy: 0.9609, Loss: 0.0197\n",
      "Epoch   2 Batch  350/538 - Train Accuracy: 0.9712, Validation Accuracy: 0.9695, Loss: 0.0258\n",
      "Epoch   2 Batch  360/538 - Train Accuracy: 0.9742, Validation Accuracy: 0.9716, Loss: 0.0147\n",
      "Epoch   2 Batch  370/538 - Train Accuracy: 0.9701, Validation Accuracy: 0.9698, Loss: 0.0190\n",
      "Epoch   2 Batch  380/538 - Train Accuracy: 0.9643, Validation Accuracy: 0.9647, Loss: 0.0193\n",
      "Epoch   2 Batch  390/538 - Train Accuracy: 0.9697, Validation Accuracy: 0.9641, Loss: 0.0169\n",
      "Epoch   2 Batch  400/538 - Train Accuracy: 0.9801, Validation Accuracy: 0.9659, Loss: 0.0178\n",
      "Epoch   2 Batch  410/538 - Train Accuracy: 0.9871, Validation Accuracy: 0.9632, Loss: 0.0172\n",
      "Epoch   2 Batch  420/538 - Train Accuracy: 0.9834, Validation Accuracy: 0.9592, Loss: 0.0180\n",
      "Epoch   2 Batch  430/538 - Train Accuracy: 0.9688, Validation Accuracy: 0.9636, Loss: 0.0191\n",
      "Epoch   2 Batch  440/538 - Train Accuracy: 0.9754, Validation Accuracy: 0.9609, Loss: 0.0205\n",
      "Epoch   2 Batch  450/538 - Train Accuracy: 0.9528, Validation Accuracy: 0.9631, Loss: 0.0286\n",
      "Epoch   2 Batch  460/538 - Train Accuracy: 0.9600, Validation Accuracy: 0.9558, Loss: 0.0226\n",
      "Epoch   2 Batch  470/538 - Train Accuracy: 0.9751, Validation Accuracy: 0.9652, Loss: 0.0184\n",
      "Epoch   2 Batch  480/538 - Train Accuracy: 0.9812, Validation Accuracy: 0.9616, Loss: 0.0157\n",
      "Epoch   2 Batch  490/538 - Train Accuracy: 0.9674, Validation Accuracy: 0.9705, Loss: 0.0168\n",
      "Epoch   2 Batch  500/538 - Train Accuracy: 0.9886, Validation Accuracy: 0.9666, Loss: 0.0120\n",
      "Epoch   2 Batch  510/538 - Train Accuracy: 0.9769, Validation Accuracy: 0.9558, Loss: 0.0156\n",
      "Epoch   2 Batch  520/538 - Train Accuracy: 0.9682, Validation Accuracy: 0.9652, Loss: 0.0221\n",
      "Epoch   2 Batch  530/538 - Train Accuracy: 0.9691, Validation Accuracy: 0.9688, Loss: 0.0205\n",
      "Epoch   3 Batch   10/538 - Train Accuracy: 0.9826, Validation Accuracy: 0.9659, Loss: 0.0151\n",
      "Epoch   3 Batch   20/538 - Train Accuracy: 0.9771, Validation Accuracy: 0.9757, Loss: 0.0172\n",
      "Epoch   3 Batch   30/538 - Train Accuracy: 0.9693, Validation Accuracy: 0.9707, Loss: 0.0178\n",
      "Epoch   3 Batch   40/538 - Train Accuracy: 0.9668, Validation Accuracy: 0.9684, Loss: 0.0140\n",
      "Epoch   3 Batch   50/538 - Train Accuracy: 0.9781, Validation Accuracy: 0.9746, Loss: 0.0140\n",
      "Epoch   3 Batch   60/538 - Train Accuracy: 0.9834, Validation Accuracy: 0.9799, Loss: 0.0197\n",
      "Epoch   3 Batch   70/538 - Train Accuracy: 0.9769, Validation Accuracy: 0.9695, Loss: 0.0137\n",
      "Epoch   3 Batch   80/538 - Train Accuracy: 0.9836, Validation Accuracy: 0.9767, Loss: 0.0134\n",
      "Epoch   3 Batch   90/538 - Train Accuracy: 0.9775, Validation Accuracy: 0.9668, Loss: 0.0167\n",
      "Epoch   3 Batch  100/538 - Train Accuracy: 0.9830, Validation Accuracy: 0.9728, Loss: 0.0125\n",
      "Epoch   3 Batch  110/538 - Train Accuracy: 0.9812, Validation Accuracy: 0.9775, Loss: 0.0147\n",
      "Epoch   3 Batch  120/538 - Train Accuracy: 0.9805, Validation Accuracy: 0.9730, Loss: 0.0119\n",
      "Epoch   3 Batch  130/538 - Train Accuracy: 0.9723, Validation Accuracy: 0.9627, Loss: 0.0158\n",
      "Epoch   3 Batch  140/538 - Train Accuracy: 0.9857, Validation Accuracy: 0.9723, Loss: 0.0212\n",
      "Epoch   3 Batch  150/538 - Train Accuracy: 0.9920, Validation Accuracy: 0.9551, Loss: 0.0137\n",
      "Epoch   3 Batch  160/538 - Train Accuracy: 0.9831, Validation Accuracy: 0.9544, Loss: 0.0142\n",
      "Epoch   3 Batch  170/538 - Train Accuracy: 0.9740, Validation Accuracy: 0.9570, Loss: 0.0164\n",
      "Epoch   3 Batch  180/538 - Train Accuracy: 0.9656, Validation Accuracy: 0.9648, Loss: 0.0157\n",
      "Epoch   3 Batch  190/538 - Train Accuracy: 0.9738, Validation Accuracy: 0.9657, Loss: 0.0204\n"
     ]
    },
    {
     "name": "stdout",
     "output_type": "stream",
     "text": [
      "Epoch   3 Batch  200/538 - Train Accuracy: 0.9814, Validation Accuracy: 0.9620, Loss: 0.0117\n",
      "Epoch   3 Batch  210/538 - Train Accuracy: 0.9792, Validation Accuracy: 0.9707, Loss: 0.0164\n",
      "Epoch   3 Batch  220/538 - Train Accuracy: 0.9740, Validation Accuracy: 0.9663, Loss: 0.0162\n",
      "Epoch   3 Batch  230/538 - Train Accuracy: 0.9811, Validation Accuracy: 0.9631, Loss: 0.0139\n",
      "Epoch   3 Batch  240/538 - Train Accuracy: 0.9814, Validation Accuracy: 0.9588, Loss: 0.0157\n",
      "Epoch   3 Batch  250/538 - Train Accuracy: 0.9883, Validation Accuracy: 0.9654, Loss: 0.0156\n",
      "Epoch   3 Batch  260/538 - Train Accuracy: 0.9767, Validation Accuracy: 0.9611, Loss: 0.0157\n",
      "Epoch   3 Batch  270/538 - Train Accuracy: 0.9805, Validation Accuracy: 0.9629, Loss: 0.0141\n",
      "Epoch   3 Batch  280/538 - Train Accuracy: 0.9808, Validation Accuracy: 0.9714, Loss: 0.0112\n",
      "Epoch   3 Batch  290/538 - Train Accuracy: 0.9871, Validation Accuracy: 0.9629, Loss: 0.0141\n",
      "Epoch   3 Batch  300/538 - Train Accuracy: 0.9732, Validation Accuracy: 0.9645, Loss: 0.0158\n",
      "Epoch   3 Batch  310/538 - Train Accuracy: 0.9910, Validation Accuracy: 0.9709, Loss: 0.0177\n",
      "Epoch   3 Batch  320/538 - Train Accuracy: 0.9860, Validation Accuracy: 0.9746, Loss: 0.0134\n",
      "Epoch   3 Batch  330/538 - Train Accuracy: 0.9909, Validation Accuracy: 0.9661, Loss: 0.0132\n",
      "Epoch   3 Batch  340/538 - Train Accuracy: 0.9793, Validation Accuracy: 0.9595, Loss: 0.0145\n",
      "Epoch   3 Batch  350/538 - Train Accuracy: 0.9831, Validation Accuracy: 0.9670, Loss: 0.0160\n",
      "Epoch   3 Batch  360/538 - Train Accuracy: 0.9881, Validation Accuracy: 0.9616, Loss: 0.0099\n",
      "Epoch   3 Batch  370/538 - Train Accuracy: 0.9814, Validation Accuracy: 0.9634, Loss: 0.0136\n",
      "Epoch   3 Batch  380/538 - Train Accuracy: 0.9854, Validation Accuracy: 0.9664, Loss: 0.0132\n",
      "Epoch   3 Batch  390/538 - Train Accuracy: 0.9743, Validation Accuracy: 0.9743, Loss: 0.0142\n",
      "Epoch   3 Batch  400/538 - Train Accuracy: 0.9870, Validation Accuracy: 0.9762, Loss: 0.0130\n",
      "Epoch   3 Batch  410/538 - Train Accuracy: 0.9887, Validation Accuracy: 0.9755, Loss: 0.0116\n",
      "Epoch   3 Batch  420/538 - Train Accuracy: 0.9770, Validation Accuracy: 0.9670, Loss: 0.0130\n",
      "Epoch   3 Batch  430/538 - Train Accuracy: 0.9832, Validation Accuracy: 0.9627, Loss: 0.0128\n",
      "Epoch   3 Batch  440/538 - Train Accuracy: 0.9889, Validation Accuracy: 0.9723, Loss: 0.0138\n",
      "Epoch   3 Batch  450/538 - Train Accuracy: 0.9645, Validation Accuracy: 0.9675, Loss: 0.0191\n",
      "Epoch   3 Batch  460/538 - Train Accuracy: 0.9615, Validation Accuracy: 0.9696, Loss: 0.0187\n",
      "Epoch   3 Batch  470/538 - Train Accuracy: 0.9849, Validation Accuracy: 0.9648, Loss: 0.0142\n",
      "Epoch   3 Batch  480/538 - Train Accuracy: 0.9857, Validation Accuracy: 0.9663, Loss: 0.0116\n",
      "Epoch   3 Batch  490/538 - Train Accuracy: 0.9851, Validation Accuracy: 0.9824, Loss: 0.0116\n",
      "Epoch   3 Batch  500/538 - Train Accuracy: 0.9877, Validation Accuracy: 0.9711, Loss: 0.0089\n",
      "Epoch   3 Batch  510/538 - Train Accuracy: 0.9914, Validation Accuracy: 0.9570, Loss: 0.0098\n",
      "Epoch   3 Batch  520/538 - Train Accuracy: 0.9723, Validation Accuracy: 0.9595, Loss: 0.0168\n",
      "Epoch   3 Batch  530/538 - Train Accuracy: 0.9766, Validation Accuracy: 0.9721, Loss: 0.0144\n",
      "Epoch   4 Batch   10/538 - Train Accuracy: 0.9871, Validation Accuracy: 0.9624, Loss: 0.0109\n",
      "Epoch   4 Batch   20/538 - Train Accuracy: 0.9831, Validation Accuracy: 0.9824, Loss: 0.0128\n",
      "Epoch   4 Batch   30/538 - Train Accuracy: 0.9803, Validation Accuracy: 0.9776, Loss: 0.0120\n",
      "Epoch   4 Batch   40/538 - Train Accuracy: 0.9833, Validation Accuracy: 0.9718, Loss: 0.0095\n",
      "Epoch   4 Batch   50/538 - Train Accuracy: 0.9848, Validation Accuracy: 0.9735, Loss: 0.0106\n",
      "Epoch   4 Batch   60/538 - Train Accuracy: 0.9896, Validation Accuracy: 0.9751, Loss: 0.0129\n",
      "Epoch   4 Batch   70/538 - Train Accuracy: 0.9853, Validation Accuracy: 0.9680, Loss: 0.0092\n",
      "Epoch   4 Batch   80/538 - Train Accuracy: 0.9822, Validation Accuracy: 0.9664, Loss: 0.0092\n",
      "Epoch   4 Batch   90/538 - Train Accuracy: 0.9929, Validation Accuracy: 0.9679, Loss: 0.0109\n",
      "Epoch   4 Batch  100/538 - Train Accuracy: 0.9939, Validation Accuracy: 0.9661, Loss: 0.0082\n",
      "Epoch   4 Batch  110/538 - Train Accuracy: 0.9904, Validation Accuracy: 0.9714, Loss: 0.0109\n",
      "Epoch   4 Batch  120/538 - Train Accuracy: 0.9902, Validation Accuracy: 0.9679, Loss: 0.0097\n",
      "Epoch   4 Batch  130/538 - Train Accuracy: 0.9953, Validation Accuracy: 0.9743, Loss: 0.0098\n",
      "Epoch   4 Batch  140/538 - Train Accuracy: 0.9885, Validation Accuracy: 0.9654, Loss: 0.0132\n",
      "Epoch   4 Batch  150/538 - Train Accuracy: 0.9908, Validation Accuracy: 0.9716, Loss: 0.0109\n",
      "Epoch   4 Batch  160/538 - Train Accuracy: 0.9827, Validation Accuracy: 0.9656, Loss: 0.0119\n",
      "Epoch   4 Batch  170/538 - Train Accuracy: 0.9842, Validation Accuracy: 0.9680, Loss: 0.0117\n",
      "Epoch   4 Batch  180/538 - Train Accuracy: 0.9754, Validation Accuracy: 0.9723, Loss: 0.0139\n",
      "Epoch   4 Batch  190/538 - Train Accuracy: 0.9927, Validation Accuracy: 0.9744, Loss: 0.0141\n",
      "Epoch   4 Batch  200/538 - Train Accuracy: 0.9916, Validation Accuracy: 0.9670, Loss: 0.0087\n",
      "Epoch   4 Batch  210/538 - Train Accuracy: 0.9849, Validation Accuracy: 0.9716, Loss: 0.0125\n",
      "Epoch   4 Batch  220/538 - Train Accuracy: 0.9853, Validation Accuracy: 0.9595, Loss: 0.0127\n",
      "Epoch   4 Batch  230/538 - Train Accuracy: 0.9896, Validation Accuracy: 0.9622, Loss: 0.0126\n",
      "Epoch   4 Batch  240/538 - Train Accuracy: 0.9729, Validation Accuracy: 0.9643, Loss: 0.0118\n",
      "Epoch   4 Batch  250/538 - Train Accuracy: 0.9850, Validation Accuracy: 0.9549, Loss: 0.0115\n",
      "Epoch   4 Batch  260/538 - Train Accuracy: 0.9879, Validation Accuracy: 0.9632, Loss: 0.0139\n",
      "Epoch   4 Batch  270/538 - Train Accuracy: 0.9879, Validation Accuracy: 0.9648, Loss: 0.0103\n",
      "Epoch   4 Batch  280/538 - Train Accuracy: 0.9885, Validation Accuracy: 0.9718, Loss: 0.0088\n",
      "Epoch   4 Batch  290/538 - Train Accuracy: 0.9906, Validation Accuracy: 0.9675, Loss: 0.0107\n",
      "Epoch   4 Batch  300/538 - Train Accuracy: 0.9894, Validation Accuracy: 0.9737, Loss: 0.0107\n",
      "Epoch   4 Batch  310/538 - Train Accuracy: 0.9842, Validation Accuracy: 0.9670, Loss: 0.0140\n",
      "Epoch   4 Batch  320/538 - Train Accuracy: 0.9864, Validation Accuracy: 0.9815, Loss: 0.0099\n",
      "Epoch   4 Batch  330/538 - Train Accuracy: 0.9898, Validation Accuracy: 0.9672, Loss: 0.0091\n",
      "Epoch   4 Batch  340/538 - Train Accuracy: 0.9908, Validation Accuracy: 0.9728, Loss: 0.0096\n",
      "Epoch   4 Batch  350/538 - Train Accuracy: 0.9870, Validation Accuracy: 0.9723, Loss: 0.0120\n",
      "Epoch   4 Batch  360/538 - Train Accuracy: 0.9906, Validation Accuracy: 0.9645, Loss: 0.0092\n",
      "Epoch   4 Batch  370/538 - Train Accuracy: 0.9910, Validation Accuracy: 0.9751, Loss: 0.0108\n",
      "Epoch   4 Batch  380/538 - Train Accuracy: 0.9914, Validation Accuracy: 0.9581, Loss: 0.0095\n",
      "Epoch   4 Batch  390/538 - Train Accuracy: 0.9767, Validation Accuracy: 0.9707, Loss: 0.0142\n",
      "Epoch   4 Batch  400/538 - Train Accuracy: 0.9849, Validation Accuracy: 0.9833, Loss: 0.0121\n",
      "Epoch   4 Batch  410/538 - Train Accuracy: 0.9891, Validation Accuracy: 0.9700, Loss: 0.0098\n",
      "Epoch   4 Batch  420/538 - Train Accuracy: 0.9850, Validation Accuracy: 0.9686, Loss: 0.0115\n",
      "Epoch   4 Batch  430/538 - Train Accuracy: 0.9902, Validation Accuracy: 0.9673, Loss: 0.0099\n",
      "Epoch   4 Batch  440/538 - Train Accuracy: 0.9893, Validation Accuracy: 0.9766, Loss: 0.0109\n",
      "Epoch   4 Batch  450/538 - Train Accuracy: 0.9820, Validation Accuracy: 0.9703, Loss: 0.0161\n",
      "Epoch   4 Batch  460/538 - Train Accuracy: 0.9829, Validation Accuracy: 0.9735, Loss: 0.0121\n",
      "Epoch   4 Batch  470/538 - Train Accuracy: 0.9875, Validation Accuracy: 0.9775, Loss: 0.0094\n",
      "Epoch   4 Batch  480/538 - Train Accuracy: 0.9862, Validation Accuracy: 0.9663, Loss: 0.0083\n",
      "Epoch   4 Batch  490/538 - Train Accuracy: 0.9855, Validation Accuracy: 0.9780, Loss: 0.0091\n",
      "Epoch   4 Batch  500/538 - Train Accuracy: 0.9954, Validation Accuracy: 0.9762, Loss: 0.0061\n",
      "Epoch   4 Batch  510/538 - Train Accuracy: 0.9918, Validation Accuracy: 0.9757, Loss: 0.0079\n",
      "Epoch   4 Batch  520/538 - Train Accuracy: 0.9871, Validation Accuracy: 0.9721, Loss: 0.0148\n",
      "Epoch   4 Batch  530/538 - Train Accuracy: 0.9840, Validation Accuracy: 0.9728, Loss: 0.0121\n",
      "Model Trained and Saved\n"
     ]
    }
   ],
   "source": [
    "\"\"\"\n",
    "DON'T MODIFY ANYTHING IN THIS CELL\n",
    "\"\"\"\n",
    "def get_accuracy(target, logits):\n",
    "    \"\"\"\n",
    "    Calculate accuracy\n",
    "    \"\"\"\n",
    "    max_seq = max(target.shape[1], logits.shape[1])\n",
    "    if max_seq - target.shape[1]:\n",
    "        target = np.pad(\n",
    "            target,\n",
    "            [(0,0),(0,max_seq - target.shape[1])],\n",
    "            'constant')\n",
    "    if max_seq - logits.shape[1]:\n",
    "        logits = np.pad(\n",
    "            logits,\n",
    "            [(0,0),(0,max_seq - logits.shape[1])],\n",
    "            'constant')\n",
    "\n",
    "    return np.mean(np.equal(target, logits))\n",
    "\n",
    "# Split data to training and validation sets\n",
    "train_source = source_int_text[batch_size:]\n",
    "train_target = target_int_text[batch_size:]\n",
    "valid_source = source_int_text[:batch_size]\n",
    "valid_target = target_int_text[:batch_size]\n",
    "(valid_sources_batch, valid_targets_batch, valid_sources_lengths, valid_targets_lengths ) = next(get_batches(valid_source,\n",
    "                                                                                                             valid_target,\n",
    "                                                                                                             batch_size,\n",
    "                                                                                                             source_vocab_to_int['<PAD>'],\n",
    "                                                                                                             target_vocab_to_int['<PAD>']))                                                                                                  \n",
    "with tf.Session(graph=train_graph) as sess:\n",
    "    sess.run(tf.global_variables_initializer())\n",
    "\n",
    "    for epoch_i in range(epochs):\n",
    "        for batch_i, (source_batch, target_batch, sources_lengths, targets_lengths) in enumerate(\n",
    "                get_batches(train_source, train_target, batch_size,\n",
    "                            source_vocab_to_int['<PAD>'],\n",
    "                            target_vocab_to_int['<PAD>'])):\n",
    "\n",
    "            _, loss = sess.run(\n",
    "                [train_op, cost],\n",
    "                {input_data: source_batch,\n",
    "                 targets: target_batch,\n",
    "                 lr: learning_rate,\n",
    "                 target_sequence_length: targets_lengths,\n",
    "                 source_sequence_length: sources_lengths,\n",
    "                 keep_prob: keep_probability})\n",
    "\n",
    "\n",
    "            if batch_i % display_step == 0 and batch_i > 0:\n",
    "\n",
    "\n",
    "                batch_train_logits = sess.run(\n",
    "                    inference_logits,\n",
    "                    {input_data: source_batch,\n",
    "                     source_sequence_length: sources_lengths,\n",
    "                     target_sequence_length: targets_lengths,\n",
    "                     keep_prob: 1.0})\n",
    "\n",
    "\n",
    "                batch_valid_logits = sess.run(\n",
    "                    inference_logits,\n",
    "                    {input_data: valid_sources_batch,\n",
    "                     source_sequence_length: valid_sources_lengths,\n",
    "                     target_sequence_length: valid_targets_lengths,\n",
    "                     keep_prob: 1.0})\n",
    "\n",
    "                train_acc = get_accuracy(target_batch, batch_train_logits)\n",
    "\n",
    "                valid_acc = get_accuracy(valid_targets_batch, batch_valid_logits)\n",
    "\n",
    "                print('Epoch {:>3} Batch {:>4}/{} - Train Accuracy: {:>6.4f}, Validation Accuracy: {:>6.4f}, Loss: {:>6.4f}'\n",
    "                      .format(epoch_i, batch_i, len(source_int_text) // batch_size, train_acc, valid_acc, loss))\n",
    "\n",
    "    # Save Model\n",
    "    saver = tf.train.Saver()\n",
    "    saver.save(sess, save_path)\n",
    "    print('Model Trained and Saved')"
   ]
  },
  {
   "cell_type": "markdown",
   "metadata": {},
   "source": [
    "### Save Parameters\n",
    "Save the `batch_size` and `save_path` parameters for inference."
   ]
  },
  {
   "cell_type": "code",
   "execution_count": 22,
   "metadata": {
    "collapsed": true
   },
   "outputs": [],
   "source": [
    "\"\"\"\n",
    "DON'T MODIFY ANYTHING IN THIS CELL\n",
    "\"\"\"\n",
    "# Save parameters for checkpoint\n",
    "helper.save_params(save_path)"
   ]
  },
  {
   "cell_type": "markdown",
   "metadata": {},
   "source": [
    "# Checkpoint"
   ]
  },
  {
   "cell_type": "code",
   "execution_count": 23,
   "metadata": {
    "collapsed": true
   },
   "outputs": [],
   "source": [
    "\"\"\"\n",
    "DON'T MODIFY ANYTHING IN THIS CELL\n",
    "\"\"\"\n",
    "import tensorflow as tf\n",
    "import numpy as np\n",
    "import helper\n",
    "import problem_unittests as tests\n",
    "\n",
    "_, (source_vocab_to_int, target_vocab_to_int), (source_int_to_vocab, target_int_to_vocab) = helper.load_preprocess()\n",
    "load_path = helper.load_params()"
   ]
  },
  {
   "cell_type": "markdown",
   "metadata": {},
   "source": [
    "## Sentence to Sequence\n",
    "To feed a sentence into the model for translation, you first need to preprocess it.  Implement the function `sentence_to_seq()` to preprocess new sentences.\n",
    "\n",
    "- Convert the sentence to lowercase\n",
    "- Convert words into ids using `vocab_to_int`\n",
    " - Convert words not in the vocabulary, to the `<UNK>` word id."
   ]
  },
  {
   "cell_type": "code",
   "execution_count": 24,
   "metadata": {},
   "outputs": [
    {
     "name": "stdout",
     "output_type": "stream",
     "text": [
      "Tests Passed\n"
     ]
    }
   ],
   "source": [
    "def sentence_to_seq(sentence, vocab_to_int):\n",
    "    \"\"\"\n",
    "    Convert a sentence to a sequence of ids\n",
    "    :param sentence: String\n",
    "    :param vocab_to_int: Dictionary to go from the words to an id\n",
    "    :return: List of word ids\n",
    "    \"\"\"\n",
    "    # TODO: Implement Function\n",
    "    sentence = sentence.lower()\n",
    "    words = sentence.split(' ')\n",
    "    ids = []\n",
    "    for w in words:\n",
    "        if(w in vocab_to_int):\n",
    "            ids.append(vocab_to_int[w])\n",
    "        else:\n",
    "            ids.append(vocab_to_int['<UNK>'])\n",
    "    return ids\n",
    "\n",
    "\"\"\"\n",
    "DON'T MODIFY ANYTHING IN THIS CELL THAT IS BELOW THIS LINE\n",
    "\"\"\"\n",
    "tests.test_sentence_to_seq(sentence_to_seq)"
   ]
  },
  {
   "cell_type": "markdown",
   "metadata": {},
   "source": [
    "## Translate\n",
    "This will translate `translate_sentence` from English to French."
   ]
  },
  {
   "cell_type": "code",
   "execution_count": 25,
   "metadata": {},
   "outputs": [
    {
     "name": "stdout",
     "output_type": "stream",
     "text": [
      "INFO:tensorflow:Restoring parameters from checkpoints/dev\n",
      "Input\n",
      "  Word Ids:      [18, 26, 195, 101, 62, 219, 75]\n",
      "  English Words: ['he', 'saw', 'a', 'old', 'yellow', 'truck', '.']\n",
      "\n",
      "Prediction\n",
      "  Word Ids:      [90, 118, 269, 293, 308, 98, 298, 1]\n",
      "  French Words: il vu un vieux camion jaune . <EOS>\n"
     ]
    }
   ],
   "source": [
    "translate_sentence = 'he saw a old yellow truck .'\n",
    "\n",
    "\n",
    "\"\"\"\n",
    "DON'T MODIFY ANYTHING IN THIS CELL\n",
    "\"\"\"\n",
    "translate_sentence = sentence_to_seq(translate_sentence, source_vocab_to_int)\n",
    "\n",
    "loaded_graph = tf.Graph()\n",
    "with tf.Session(graph=loaded_graph) as sess:\n",
    "    # Load saved model\n",
    "    loader = tf.train.import_meta_graph(load_path + '.meta')\n",
    "    loader.restore(sess, load_path)\n",
    "\n",
    "    input_data = loaded_graph.get_tensor_by_name('input:0')\n",
    "    logits = loaded_graph.get_tensor_by_name('predictions:0')\n",
    "    target_sequence_length = loaded_graph.get_tensor_by_name('target_sequence_length:0')\n",
    "    source_sequence_length = loaded_graph.get_tensor_by_name('source_sequence_length:0')\n",
    "    keep_prob = loaded_graph.get_tensor_by_name('keep_prob:0')\n",
    "\n",
    "    translate_logits = sess.run(logits, {input_data: [translate_sentence]*batch_size,\n",
    "                                         target_sequence_length: [len(translate_sentence)*2]*batch_size,\n",
    "                                         source_sequence_length: [len(translate_sentence)]*batch_size,\n",
    "                                         keep_prob: 1.0})[0]\n",
    "\n",
    "print('Input')\n",
    "print('  Word Ids:      {}'.format([i for i in translate_sentence]))\n",
    "print('  English Words: {}'.format([source_int_to_vocab[i] for i in translate_sentence]))\n",
    "\n",
    "print('\\nPrediction')\n",
    "print('  Word Ids:      {}'.format([i for i in translate_logits]))\n",
    "print('  French Words: {}'.format(\" \".join([target_int_to_vocab[i] for i in translate_logits])))\n"
   ]
  },
  {
   "cell_type": "markdown",
   "metadata": {},
   "source": [
    "## Imperfect Translation\n",
    "You might notice that some sentences translate better than others.  Since the dataset you're using only has a vocabulary of 227 English words of the thousands that you use, you're only going to see good results using these words.  For this project, you don't need a perfect translation. However, if you want to create a better translation model, you'll need better data.\n",
    "\n",
    "You can train on the [WMT10 French-English corpus](http://www.statmt.org/wmt10/training-giga-fren.tar).  This dataset has more vocabulary and richer in topics discussed.  However, this will take you days to train, so make sure you've a GPU and the neural network is performing well on dataset we provided.  Just make sure you play with the WMT10 corpus after you've submitted this project.\n",
    "## Submitting This Project\n",
    "When submitting this project, make sure to run all the cells before saving the notebook. Save the notebook file as \"dlnd_language_translation.ipynb\" and save it as a HTML file under \"File\" -> \"Download as\". Include the \"helper.py\" and \"problem_unittests.py\" files in your submission."
   ]
  },
  {
   "cell_type": "code",
   "execution_count": null,
   "metadata": {
    "collapsed": true
   },
   "outputs": [],
   "source": []
  }
 ],
 "metadata": {
  "anaconda-cloud": {},
  "kernelspec": {
   "display_name": "Python 3",
   "language": "python",
   "name": "python3"
  },
  "language_info": {
   "codemirror_mode": {
    "name": "ipython",
    "version": 3
   },
   "file_extension": ".py",
   "mimetype": "text/x-python",
   "name": "python",
   "nbconvert_exporter": "python",
   "pygments_lexer": "ipython3",
   "version": "3.5.3"
  }
 },
 "nbformat": 4,
 "nbformat_minor": 1
}
